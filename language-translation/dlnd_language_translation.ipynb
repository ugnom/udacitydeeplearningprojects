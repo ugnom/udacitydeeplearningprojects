{
 "cells": [
  {
   "cell_type": "markdown",
   "metadata": {
    "collapsed": true
   },
   "source": [
    "# Language Translation\n",
    "In this project, you’re going to take a peek into the realm of neural network machine translation.  You’ll be training a sequence to sequence model on a dataset of English and French sentences that can translate new sentences from English to French.\n",
    "## Get the Data\n",
    "Since translating the whole language of English to French will take lots of time to train, we have provided you with a small portion of the English corpus."
   ]
  },
  {
   "cell_type": "code",
   "execution_count": 21,
   "metadata": {
    "collapsed": true
   },
   "outputs": [],
   "source": [
    "\"\"\"\n",
    "DON'T MODIFY ANYTHING IN THIS CELL\n",
    "\"\"\"\n",
    "import helper\n",
    "import problem_unittests as tests\n",
    "\n",
    "source_path = 'data/small_vocab_en'\n",
    "target_path = 'data/small_vocab_fr'\n",
    "source_text = helper.load_data(source_path)\n",
    "target_text = helper.load_data(target_path)"
   ]
  },
  {
   "cell_type": "markdown",
   "metadata": {},
   "source": [
    "## Explore the Data\n",
    "Play around with view_sentence_range to view different parts of the data."
   ]
  },
  {
   "cell_type": "code",
   "execution_count": 22,
   "metadata": {},
   "outputs": [
    {
     "name": "stdout",
     "output_type": "stream",
     "text": [
      "Dataset Stats\n",
      "Roughly the number of unique words: 227\n",
      "Number of sentences: 137861\n",
      "Average number of words in a sentence: 13.225277634719028\n",
      "\n",
      "English sentences 0 to 10:\n",
      "new jersey is sometimes quiet during autumn , and it is snowy in april .\n",
      "the united states is usually chilly during july , and it is usually freezing in november .\n",
      "california is usually quiet during march , and it is usually hot in june .\n",
      "the united states is sometimes mild during june , and it is cold in september .\n",
      "your least liked fruit is the grape , but my least liked is the apple .\n",
      "his favorite fruit is the orange , but my favorite is the grape .\n",
      "paris is relaxing during december , but it is usually chilly in july .\n",
      "new jersey is busy during spring , and it is never hot in march .\n",
      "our least liked fruit is the lemon , but my least liked is the grape .\n",
      "the united states is sometimes busy during january , and it is sometimes warm in november .\n",
      "\n",
      "French sentences 0 to 10:\n",
      "new jersey est parfois calme pendant l' automne , et il est neigeux en avril .\n",
      "les états-unis est généralement froid en juillet , et il gèle habituellement en novembre .\n",
      "california est généralement calme en mars , et il est généralement chaud en juin .\n",
      "les états-unis est parfois légère en juin , et il fait froid en septembre .\n",
      "votre moins aimé fruit est le raisin , mais mon moins aimé est la pomme .\n",
      "son fruit préféré est l'orange , mais mon préféré est le raisin .\n",
      "paris est relaxant en décembre , mais il est généralement froid en juillet .\n",
      "new jersey est occupé au printemps , et il est jamais chaude en mars .\n",
      "notre fruit est moins aimé le citron , mais mon moins aimé est le raisin .\n",
      "les états-unis est parfois occupé en janvier , et il est parfois chaud en novembre .\n"
     ]
    }
   ],
   "source": [
    "view_sentence_range = (0, 10)\n",
    "\n",
    "\"\"\"\n",
    "DON'T MODIFY ANYTHING IN THIS CELL\n",
    "\"\"\"\n",
    "import numpy as np\n",
    "\n",
    "print('Dataset Stats')\n",
    "print('Roughly the number of unique words: {}'.format(len({word: None for word in source_text.split()})))\n",
    "\n",
    "sentences = source_text.split('\\n')\n",
    "word_counts = [len(sentence.split()) for sentence in sentences]\n",
    "print('Number of sentences: {}'.format(len(sentences)))\n",
    "print('Average number of words in a sentence: {}'.format(np.average(word_counts)))\n",
    "\n",
    "print()\n",
    "print('English sentences {} to {}:'.format(*view_sentence_range))\n",
    "print('\\n'.join(source_text.split('\\n')[view_sentence_range[0]:view_sentence_range[1]]))\n",
    "print()\n",
    "print('French sentences {} to {}:'.format(*view_sentence_range))\n",
    "print('\\n'.join(target_text.split('\\n')[view_sentence_range[0]:view_sentence_range[1]]))"
   ]
  },
  {
   "cell_type": "markdown",
   "metadata": {},
   "source": [
    "## Implement Preprocessing Function\n",
    "### Text to Word Ids\n",
    "As you did with other RNNs, you must turn the text into a number so the computer can understand it. In the function `text_to_ids()`, you'll turn `source_text` and `target_text` from words to ids.  However, you need to add the `<EOS>` word id at the end of `target_text`.  This will help the neural network predict when the sentence should end.\n",
    "\n",
    "You can get the `<EOS>` word id by doing:\n",
    "```python\n",
    "target_vocab_to_int['<EOS>']\n",
    "```\n",
    "You can get other word ids using `source_vocab_to_int` and `target_vocab_to_int`."
   ]
  },
  {
   "cell_type": "code",
   "execution_count": 23,
   "metadata": {},
   "outputs": [
    {
     "name": "stdout",
     "output_type": "stream",
     "text": [
      "Tests Passed\n"
     ]
    }
   ],
   "source": [
    "def text_to_ids(source_text, target_text, source_vocab_to_int, target_vocab_to_int):\n",
    "    \"\"\"\n",
    "    Convert source and target text to proper word ids\n",
    "    :param source_text: String that contains all the source text.\n",
    "    :param target_text: String that contains all the target text.\n",
    "    :param source_vocab_to_int: Dictionary to go from the source words to an id\n",
    "    :param target_vocab_to_int: Dictionary to go from the target words to an id\n",
    "    :return: A tuple of lists (source_id_text, target_id_text)\n",
    "    \"\"\"\n",
    "    # TODO: Implement Function\n",
    "    \n",
    "    source_ids = [[source_vocab_to_int[word] for word in sentense.split()] for sentense in source_text.split('\\n')]\n",
    "    target_ids = [[target_vocab_to_int[word] for word in sentense.split()] for sentense in target_text.split('\\n')]\n",
    "    for each in target_ids:\n",
    "        each.append(target_vocab_to_int['<EOS>'])\n",
    "    return source_ids, target_ids\n",
    "\n",
    "\"\"\"\n",
    "DON'T MODIFY ANYTHING IN THIS CELL THAT IS BELOW THIS LINE\n",
    "\"\"\"\n",
    "tests.test_text_to_ids(text_to_ids)"
   ]
  },
  {
   "cell_type": "markdown",
   "metadata": {},
   "source": [
    "### Preprocess all the data and save it\n",
    "Running the code cell below will preprocess all the data and save it to file."
   ]
  },
  {
   "cell_type": "code",
   "execution_count": 24,
   "metadata": {
    "collapsed": true
   },
   "outputs": [],
   "source": [
    "\"\"\"\n",
    "DON'T MODIFY ANYTHING IN THIS CELL\n",
    "\"\"\"\n",
    "helper.preprocess_and_save_data(source_path, target_path, text_to_ids)"
   ]
  },
  {
   "cell_type": "markdown",
   "metadata": {},
   "source": [
    "# Check Point\n",
    "This is your first checkpoint. If you ever decide to come back to this notebook or have to restart the notebook, you can start from here. The preprocessed data has been saved to disk."
   ]
  },
  {
   "cell_type": "code",
   "execution_count": 25,
   "metadata": {
    "collapsed": true
   },
   "outputs": [],
   "source": [
    "\"\"\"\n",
    "DON'T MODIFY ANYTHING IN THIS CELL\n",
    "\"\"\"\n",
    "import numpy as np\n",
    "import helper\n",
    "import problem_unittests as tests\n",
    "\n",
    "(source_int_text, target_int_text), (source_vocab_to_int, target_vocab_to_int), _ = helper.load_preprocess()"
   ]
  },
  {
   "cell_type": "markdown",
   "metadata": {},
   "source": [
    "### Check the Version of TensorFlow and Access to GPU\n",
    "This will check to make sure you have the correct version of TensorFlow and access to a GPU"
   ]
  },
  {
   "cell_type": "code",
   "execution_count": 26,
   "metadata": {},
   "outputs": [
    {
     "name": "stdout",
     "output_type": "stream",
     "text": [
      "TensorFlow Version: 1.3.0\n"
     ]
    },
    {
     "name": "stderr",
     "output_type": "stream",
     "text": [
      "C:\\Users\\H00164\\AppData\\Local\\Continuum\\Anaconda3\\envs\\py3\\lib\\site-packages\\ipykernel\\__main__.py:15: UserWarning: No GPU found. Please use a GPU to train your neural network.\n"
     ]
    }
   ],
   "source": [
    "\"\"\"\n",
    "DON'T MODIFY ANYTHING IN THIS CELL\n",
    "\"\"\"\n",
    "from distutils.version import LooseVersion\n",
    "import warnings\n",
    "import tensorflow as tf\n",
    "from tensorflow.python.layers.core import Dense\n",
    "\n",
    "# Check TensorFlow Version\n",
    "assert LooseVersion(tf.__version__) >= LooseVersion('1.1'), 'Please use TensorFlow version 1.1 or newer'\n",
    "print('TensorFlow Version: {}'.format(tf.__version__))\n",
    "\n",
    "# Check for a GPU\n",
    "if not tf.test.gpu_device_name():\n",
    "    warnings.warn('No GPU found. Please use a GPU to train your neural network.')\n",
    "else:\n",
    "    print('Default GPU Device: {}'.format(tf.test.gpu_device_name()))"
   ]
  },
  {
   "cell_type": "markdown",
   "metadata": {},
   "source": [
    "## Build the Neural Network\n",
    "You'll build the components necessary to build a Sequence-to-Sequence model by implementing the following functions below:\n",
    "- `model_inputs`\n",
    "- `process_decoder_input`\n",
    "- `encoding_layer`\n",
    "- `decoding_layer_train`\n",
    "- `decoding_layer_infer`\n",
    "- `decoding_layer`\n",
    "- `seq2seq_model`\n",
    "\n",
    "### Input\n",
    "Implement the `model_inputs()` function to create TF Placeholders for the Neural Network. It should create the following placeholders:\n",
    "\n",
    "- Input text placeholder named \"input\" using the TF Placeholder name parameter with rank 2.\n",
    "- Targets placeholder with rank 2.\n",
    "- Learning rate placeholder with rank 0.\n",
    "- Keep probability placeholder named \"keep_prob\" using the TF Placeholder name parameter with rank 0.\n",
    "- Target sequence length placeholder named \"target_sequence_length\" with rank 1\n",
    "- Max target sequence length tensor named \"max_target_len\" getting its value from applying tf.reduce_max on the target_sequence_length placeholder. Rank 0.\n",
    "- Source sequence length placeholder named \"source_sequence_length\" with rank 1\n",
    "\n",
    "Return the placeholders in the following the tuple (input, targets, learning rate, keep probability, target sequence length, max target sequence length, source sequence length)"
   ]
  },
  {
   "cell_type": "code",
   "execution_count": 27,
   "metadata": {},
   "outputs": [
    {
     "data": {
      "text/plain": [
       "<module 'problem_unittests' from 'C:\\\\Users\\\\H00164\\\\Documents\\\\DeepLearningCourse\\\\homework\\\\udacitydeeplearningprojects\\\\language-translation\\\\problem_unittests.py'>"
      ]
     },
     "execution_count": 27,
     "metadata": {},
     "output_type": "execute_result"
    }
   ],
   "source": [
    "import imp\n",
    "imp.reload(tests)"
   ]
  },
  {
   "cell_type": "code",
   "execution_count": 28,
   "metadata": {},
   "outputs": [
    {
     "ename": "AssertionError",
     "evalue": "Max Target Sequence Length is not a Placeholder.",
     "output_type": "error",
     "traceback": [
      "\u001b[1;31m---------------------------------------------------------------------------\u001b[0m",
      "\u001b[1;31mAssertionError\u001b[0m                            Traceback (most recent call last)",
      "\u001b[1;32m<ipython-input-28-5211b7147c2f>\u001b[0m in \u001b[0;36m<module>\u001b[1;34m()\u001b[0m\n\u001b[0;32m     20\u001b[0m \u001b[0mDON\u001b[0m\u001b[0;31m'\u001b[0m\u001b[0mT\u001b[0m \u001b[0mMODIFY\u001b[0m \u001b[0mANYTHING\u001b[0m \u001b[0mIN\u001b[0m \u001b[0mTHIS\u001b[0m \u001b[0mCELL\u001b[0m \u001b[0mTHAT\u001b[0m \u001b[0mIS\u001b[0m \u001b[0mBELOW\u001b[0m \u001b[0mTHIS\u001b[0m \u001b[0mLINE\u001b[0m\u001b[1;33m\u001b[0m\u001b[0m\n\u001b[0;32m     21\u001b[0m \"\"\"\n\u001b[1;32m---> 22\u001b[1;33m \u001b[0mtests\u001b[0m\u001b[1;33m.\u001b[0m\u001b[0mtest_model_inputs\u001b[0m\u001b[1;33m(\u001b[0m\u001b[0mmodel_inputs\u001b[0m\u001b[1;33m)\u001b[0m\u001b[1;33m\u001b[0m\u001b[0m\n\u001b[0m",
      "\u001b[1;32m~\\Documents\\DeepLearningCourse\\homework\\udacitydeeplearningprojects\\language-translation\\problem_unittests.py\u001b[0m in \u001b[0;36mtest_model_inputs\u001b[1;34m(model_inputs)\u001b[0m\n\u001b[0;32m     88\u001b[0m             \u001b[1;34m'Target Sequence Length is not a Placeholder.'\u001b[0m\u001b[1;33m\u001b[0m\u001b[0m\n\u001b[0;32m     89\u001b[0m         \u001b[1;32massert\u001b[0m \u001b[0mmax_target_sequence_length\u001b[0m\u001b[1;33m.\u001b[0m\u001b[0mop\u001b[0m\u001b[1;33m.\u001b[0m\u001b[0mtype\u001b[0m \u001b[1;33m==\u001b[0m \u001b[1;34m'Placeholder'\u001b[0m\u001b[1;33m,\u001b[0m\u001b[0;31m \u001b[0m\u001b[0;31m\\\u001b[0m\u001b[1;33m\u001b[0m\u001b[0m\n\u001b[1;32m---> 90\u001b[1;33m             \u001b[1;34m'Max Target Sequence Length is not a Placeholder.'\u001b[0m\u001b[1;33m\u001b[0m\u001b[0m\n\u001b[0m\u001b[0;32m     91\u001b[0m         \u001b[1;32massert\u001b[0m \u001b[0msource_sequence_length\u001b[0m\u001b[1;33m.\u001b[0m\u001b[0mop\u001b[0m\u001b[1;33m.\u001b[0m\u001b[0mtype\u001b[0m \u001b[1;33m==\u001b[0m \u001b[1;34m'Placeholder'\u001b[0m\u001b[1;33m,\u001b[0m\u001b[0;31m \u001b[0m\u001b[0;31m\\\u001b[0m\u001b[1;33m\u001b[0m\u001b[0m\n\u001b[0;32m     92\u001b[0m             \u001b[1;34m'Source Sequence Length is not a Placeholder.'\u001b[0m\u001b[1;33m\u001b[0m\u001b[0m\n",
      "\u001b[1;31mAssertionError\u001b[0m: Max Target Sequence Length is not a Placeholder."
     ]
    }
   ],
   "source": [
    "def model_inputs():\n",
    "    \"\"\"\n",
    "    Create TF Placeholders for input, targets, learning rate, and lengths of source and target sequences.\n",
    "    :return: Tuple (input, targets, learning rate, keep probability, target sequence length,\n",
    "    max target sequence length, source sequence length)\n",
    "    \"\"\"\n",
    "    # TODO: Implement Function\n",
    "    input_ = tf.placeholder(tf.int32, [None,None], 'input')\n",
    "    target_ = tf.placeholder(tf.int32, [None,None], 'target')\n",
    "    learning_rate = tf.placeholder(tf.float32, None, 'learning_rate')\n",
    "    keep_prob = tf.placeholder(tf.float32, None, 'keep_prob')\n",
    "    target_seq_length = tf.placeholder(tf.int32, [None], 'target_sequence_length')\n",
    "    max_target_seq_length = tf.reduce_max(target_seq_length, name='max_target_len')\n",
    "    source_sequence_length = tf.placeholder(tf.int32, [None], 'source_sequence_length')\n",
    "    \n",
    "    return input_, target_, learning_rate, keep_prob, target_seq_length, max_target_seq_length, source_sequence_length\n",
    "\n",
    "\n",
    "\"\"\"\n",
    "DON'T MODIFY ANYTHING IN THIS CELL THAT IS BELOW THIS LINE\n",
    "\"\"\"\n",
    "tests.test_model_inputs(model_inputs)"
   ]
  },
  {
   "cell_type": "markdown",
   "metadata": {},
   "source": [
    "### Process Decoder Input\n",
    "Implement `process_decoder_input` by removing the last word id from each batch in `target_data` and concat the GO ID to the begining of each batch."
   ]
  },
  {
   "cell_type": "code",
   "execution_count": 29,
   "metadata": {},
   "outputs": [
    {
     "name": "stdout",
     "output_type": "stream",
     "text": [
      "Tests Passed\n"
     ]
    }
   ],
   "source": [
    "def process_decoder_input(target_data, target_vocab_to_int, batch_size):\n",
    "    \"\"\"\n",
    "    Preprocess target data for encoding\n",
    "    :param target_data: Target Placehoder\n",
    "    :param target_vocab_to_int: Dictionary to go from the target words to an id\n",
    "    :param batch_size: Batch Size\n",
    "    :return: Preprocessed target data\n",
    "    \"\"\"\n",
    "    # TODO: Implement Function\n",
    "    strided = tf.strided_slice(target_data,[0,0],[batch_size,-1],[1,1])\n",
    "    out_input = tf.concat([tf.fill([batch_size,1], target_vocab_to_int['<GO>']), strided],1)\n",
    "    return out_input\n",
    "\n",
    "\"\"\"\n",
    "DON'T MODIFY ANYTHING IN THIS CELL THAT IS BELOW THIS LINE\n",
    "\"\"\"\n",
    "tests.test_process_encoding_input(process_decoder_input)"
   ]
  },
  {
   "cell_type": "markdown",
   "metadata": {},
   "source": [
    "### Encoding\n",
    "Implement `encoding_layer()` to create a Encoder RNN layer:\n",
    " * Embed the encoder input using [`tf.contrib.layers.embed_sequence`](https://www.tensorflow.org/api_docs/python/tf/contrib/layers/embed_sequence)\n",
    " * Construct a [stacked](https://github.com/tensorflow/tensorflow/blob/6947f65a374ebf29e74bb71e36fd82760056d82c/tensorflow/docs_src/tutorials/recurrent.md#stacking-multiple-lstms) [`tf.contrib.rnn.LSTMCell`](https://www.tensorflow.org/api_docs/python/tf/contrib/rnn/LSTMCell) wrapped in a [`tf.contrib.rnn.DropoutWrapper`](https://www.tensorflow.org/api_docs/python/tf/contrib/rnn/DropoutWrapper)\n",
    " * Pass cell and embedded input to [`tf.nn.dynamic_rnn()`](https://www.tensorflow.org/api_docs/python/tf/nn/dynamic_rnn)"
   ]
  },
  {
   "cell_type": "code",
   "execution_count": 30,
   "metadata": {
    "scrolled": false
   },
   "outputs": [
    {
     "name": "stdout",
     "output_type": "stream",
     "text": [
      "Tests Passed\n"
     ]
    }
   ],
   "source": [
    "from imp import reload\n",
    "reload(tests)\n",
    "\n",
    "def encoding_layer(rnn_inputs, rnn_size, num_layers, keep_prob, \n",
    "                   source_sequence_length, source_vocab_size, \n",
    "                   encoding_embedding_size):\n",
    "    \"\"\"\n",
    "    Create encoding layer\n",
    "    :param rnn_inputs: Inputs for the RNN\n",
    "    :param rnn_size: RNN Size\n",
    "    :param num_layers: Number of layers\n",
    "    :param keep_prob: Dropout keep probability\n",
    "    :param source_sequence_length: a list of the lengths of each sequence in the batch\n",
    "    :param source_vocab_size: vocabulary size of source data\n",
    "    :param encoding_embedding_size: embedding size of source data\n",
    "    :return: tuple (RNN output, RNN state)\n",
    "    \"\"\"\n",
    "    # TODO: Implement Function\n",
    "    embedding = tf.contrib.layers.embed_sequence(rnn_inputs,source_vocab_size,encoding_embedding_size)\n",
    "    def make_cell():\n",
    "        return tf.contrib.rnn.DropoutWrapper(tf.contrib.rnn.LSTMCell(rnn_size),keep_prob)\n",
    "    cell = tf.contrib.rnn.MultiRNNCell([make_cell() for i in range(num_layers)])\n",
    "    cell, state = tf.nn.dynamic_rnn(cell, embedding, sequence_length=source_sequence_length, dtype=tf.float32)\n",
    "    return cell, state\n",
    "\n",
    "\"\"\"\n",
    "DON'T MODIFY ANYTHING IN THIS CELL THAT IS BELOW THIS LINE\n",
    "\"\"\"\n",
    "tests.test_encoding_layer(encoding_layer)"
   ]
  },
  {
   "cell_type": "markdown",
   "metadata": {},
   "source": [
    "### Decoding - Training\n",
    "Create a training decoding layer:\n",
    "* Create a [`tf.contrib.seq2seq.TrainingHelper`](https://www.tensorflow.org/api_docs/python/tf/contrib/seq2seq/TrainingHelper) \n",
    "* Create a [`tf.contrib.seq2seq.BasicDecoder`](https://www.tensorflow.org/api_docs/python/tf/contrib/seq2seq/BasicDecoder)\n",
    "* Obtain the decoder outputs from [`tf.contrib.seq2seq.dynamic_decode`](https://www.tensorflow.org/api_docs/python/tf/contrib/seq2seq/dynamic_decode)"
   ]
  },
  {
   "cell_type": "code",
   "execution_count": 33,
   "metadata": {},
   "outputs": [
    {
     "name": "stdout",
     "output_type": "stream",
     "text": [
      "Tests Passed\n"
     ]
    }
   ],
   "source": [
    "\n",
    "def decoding_layer_train(encoder_state, dec_cell, dec_embed_input, \n",
    "                         target_sequence_length, max_summary_length, \n",
    "                         output_layer, keep_prob):\n",
    "    \"\"\"\n",
    "    Create a decoding layer for training\n",
    "    :param encoder_state: Encoder State\n",
    "    :param dec_cell: Decoder RNN Cell\n",
    "    :param dec_embed_input: Decoder embedded input\n",
    "    :param target_sequence_length: The lengths of each sequence in the target batch\n",
    "    :param max_summary_length: The length of the longest sequence in the batch\n",
    "    :param output_layer: Function to apply the output layer\n",
    "    :param keep_prob: Dropout keep probability\n",
    "    :return: BasicDecoderOutput containing training logits and sample_id\n",
    "    \"\"\"\n",
    "    # TODO: Implement Function\n",
    "    helper = tf.contrib.seq2seq.TrainingHelper(inputs=dec_embed_input, \n",
    "                                               sequence_length=target_sequence_length,time_major=False)\n",
    "    decoder = tf.contrib.seq2seq.BasicDecoder(cell=dec_cell,helper=helper,initial_state=encoder_state,\n",
    "                                              output_layer=output_layer)\n",
    "    \n",
    "    training_decoder_output = tf.contrib.seq2seq.dynamic_decode(decoder,impute_finished=True,\n",
    "                                                                maximum_iterations=max_summary_length)[0]\n",
    "    return training_decoder_output\n",
    "\n",
    "\n",
    "\n",
    "\"\"\"\n",
    "DON'T MODIFY ANYTHING IN THIS CELL THAT IS BELOW THIS LINE\n",
    "\"\"\"\n",
    "tests.test_decoding_layer_train(decoding_layer_train)"
   ]
  },
  {
   "cell_type": "markdown",
   "metadata": {},
   "source": [
    "### Decoding - Inference\n",
    "Create inference decoder:\n",
    "* Create a [`tf.contrib.seq2seq.GreedyEmbeddingHelper`](https://www.tensorflow.org/api_docs/python/tf/contrib/seq2seq/GreedyEmbeddingHelper)\n",
    "* Create a [`tf.contrib.seq2seq.BasicDecoder`](https://www.tensorflow.org/api_docs/python/tf/contrib/seq2seq/BasicDecoder)\n",
    "* Obtain the decoder outputs from [`tf.contrib.seq2seq.dynamic_decode`](https://www.tensorflow.org/api_docs/python/tf/contrib/seq2seq/dynamic_decode)"
   ]
  },
  {
   "cell_type": "code",
   "execution_count": 34,
   "metadata": {
    "scrolled": true
   },
   "outputs": [
    {
     "name": "stdout",
     "output_type": "stream",
     "text": [
      "Tests Passed\n"
     ]
    }
   ],
   "source": [
    "def decoding_layer_infer(encoder_state, dec_cell, dec_embeddings, start_of_sequence_id,\n",
    "                         end_of_sequence_id, max_target_sequence_length,\n",
    "                         vocab_size, output_layer, batch_size, keep_prob):\n",
    "    \"\"\"\n",
    "    Create a decoding layer for inference\n",
    "    :param encoder_state: Encoder state\n",
    "    :param dec_cell: Decoder RNN Cell\n",
    "    :param dec_embeddings: Decoder embeddings\n",
    "    :param start_of_sequence_id: GO ID\n",
    "    :param end_of_sequence_id: EOS Id\n",
    "    :param max_target_sequence_length: Maximum length of target sequences\n",
    "    :param vocab_size: Size of decoder/target vocabulary\n",
    "    :param decoding_scope: TenorFlow Variable Scope for decoding\n",
    "    :param output_layer: Function to apply the output layer\n",
    "    :param batch_size: Batch size\n",
    "    :param keep_prob: Dropout keep probability\n",
    "    :return: BasicDecoderOutput containing inference logits and sample_id\n",
    "    \"\"\"\n",
    "    # TODO: Implement Function\n",
    "    start_tokens = tf.tile(tf.constant([start_of_sequence_id], dtype=tf.int32), [batch_size], name='start_tokens')\n",
    "    helper = tf.contrib.seq2seq.GreedyEmbeddingHelper(dec_embeddings, start_tokens,end_of_sequence_id)\n",
    "    decoder = tf.contrib.seq2seq.BasicDecoder(dec_cell, helper, encoder_state,output_layer)\n",
    "    decoder_output = tf.contrib.seq2seq.dynamic_decode(decoder, impute_finished=True, maximum_iterations=max_target_sequence_length)[0]\n",
    "    return decoder_output\n",
    "\n",
    "\n",
    "\n",
    "\"\"\"\n",
    "DON'T MODIFY ANYTHING IN THIS CELL THAT IS BELOW THIS LINE\n",
    "\"\"\"\n",
    "tests.test_decoding_layer_infer(decoding_layer_infer)"
   ]
  },
  {
   "cell_type": "markdown",
   "metadata": {},
   "source": [
    "### Build the Decoding Layer\n",
    "Implement `decoding_layer()` to create a Decoder RNN layer.\n",
    "\n",
    "* Embed the target sequences\n",
    "* Construct the decoder LSTM cell (just like you constructed the encoder cell above)\n",
    "* Create an output layer to map the outputs of the decoder to the elements of our vocabulary\n",
    "* Use the your `decoding_layer_train(encoder_state, dec_cell, dec_embed_input, target_sequence_length, max_target_sequence_length, output_layer, keep_prob)` function to get the training logits.\n",
    "* Use your `decoding_layer_infer(encoder_state, dec_cell, dec_embeddings, start_of_sequence_id, end_of_sequence_id, max_target_sequence_length, vocab_size, output_layer, batch_size, keep_prob)` function to get the inference logits.\n",
    "\n",
    "Note: You'll need to use [tf.variable_scope](https://www.tensorflow.org/api_docs/python/tf/variable_scope) to share variables between training and inference."
   ]
  },
  {
   "cell_type": "code",
   "execution_count": 36,
   "metadata": {},
   "outputs": [
    {
     "name": "stdout",
     "output_type": "stream",
     "text": [
      "Tests Passed\n"
     ]
    }
   ],
   "source": [
    "def decoding_layer(dec_input, encoder_state,\n",
    "                   target_sequence_length, max_target_sequence_length,\n",
    "                   rnn_size,\n",
    "                   num_layers, target_vocab_to_int, target_vocab_size,\n",
    "                   batch_size, keep_prob, decoding_embedding_size):\n",
    "    \"\"\"\n",
    "    Create decoding layer\n",
    "    :param dec_input: Decoder input\n",
    "    :param encoder_state: Encoder state\n",
    "    :param target_sequence_length: The lengths of each sequence in the target batch\n",
    "    :param max_target_sequence_length: Maximum length of target sequences\n",
    "    :param rnn_size: RNN Size\n",
    "    :param num_layers: Number of layers\n",
    "    :param target_vocab_to_int: Dictionary to go from the target words to an id\n",
    "    :param target_vocab_size: Size of target vocabulary\n",
    "    :param batch_size: The size of the batch\n",
    "    :param keep_prob: Dropout keep probability\n",
    "    :param decoding_embedding_size: Decoding embedding size\n",
    "    :return: Tuple of (Training BasicDecoderOutput, Inference BasicDecoderOutput)\n",
    "    \"\"\"\n",
    "    # TODO: Implement Function\n",
    "    def make_cell():\n",
    "        return tf.contrib.rnn.LSTMCell(rnn_size,initializer=tf.random_uniform_initializer(-0.1,0.1,seed=2))\n",
    "    \n",
    "    dec_embedding = tf.Variable(tf.random_uniform([target_vocab_size,decoding_embedding_size]))\n",
    "    dec_embed_input = tf.nn.embedding_lookup(dec_embedding, dec_input)\n",
    "    \n",
    "    dec_cell = tf.contrib.rnn.MultiRNNCell([make_cell() for _ in range(num_layers)])\n",
    "    output_layer = Dense(target_vocab_size, kernel_initializer=tf.truncated_normal_initializer(mean = 0.0, stddev=0.1))\n",
    "    with tf.variable_scope(\"decoding\") as decoding_scope:\n",
    "        train = decoding_layer_train(encoder_state, dec_cell, dec_embed_input,\n",
    "                                 target_sequence_length,max_target_sequence_length,output_layer, keep_prob)\n",
    "    with tf.variable_scope(\"decoding\", reuse=True) as decoding_scope:\n",
    "        inference = decoding_layer_infer(encoder_state, dec_cell, dec_embedding,\n",
    "                                     target_vocab_to_int['<GO>'], target_vocab_to_int['<EOS>'],\n",
    "                                    max_target_sequence_length,target_vocab_size,output_layer, batch_size,keep_prob)\n",
    "    \n",
    "    return train, inference\n",
    "\n",
    "\n",
    "\n",
    "\"\"\"\n",
    "DON'T MODIFY ANYTHING IN THIS CELL THAT IS BELOW THIS LINE\n",
    "\"\"\"\n",
    "tests.test_decoding_layer(decoding_layer)"
   ]
  },
  {
   "cell_type": "markdown",
   "metadata": {},
   "source": [
    "### Build the Neural Network\n",
    "Apply the functions you implemented above to:\n",
    "\n",
    "- Encode the input using your `encoding_layer(rnn_inputs, rnn_size, num_layers, keep_prob,  source_sequence_length, source_vocab_size, encoding_embedding_size)`.\n",
    "- Process target data using your `process_decoder_input(target_data, target_vocab_to_int, batch_size)` function.\n",
    "- Decode the encoded input using your `decoding_layer(dec_input, enc_state, target_sequence_length, max_target_sentence_length, rnn_size, num_layers, target_vocab_to_int, target_vocab_size, batch_size, keep_prob, dec_embedding_size)` function."
   ]
  },
  {
   "cell_type": "code",
   "execution_count": 37,
   "metadata": {},
   "outputs": [
    {
     "name": "stdout",
     "output_type": "stream",
     "text": [
      "Tests Passed\n"
     ]
    }
   ],
   "source": [
    "def seq2seq_model(input_data, target_data, keep_prob, batch_size,\n",
    "                  source_sequence_length, target_sequence_length,\n",
    "                  max_target_sentence_length,\n",
    "                  source_vocab_size, target_vocab_size,\n",
    "                  enc_embedding_size, dec_embedding_size,\n",
    "                  rnn_size, num_layers, target_vocab_to_int):\n",
    "    \"\"\"\n",
    "    Build the Sequence-to-Sequence part of the neural network\n",
    "    :param input_data: Input placeholder\n",
    "    :param target_data: Target placeholder\n",
    "    :param keep_prob: Dropout keep probability placeholder\n",
    "    :param batch_size: Batch Size\n",
    "    :param source_sequence_length: Sequence Lengths of source sequences in the batch\n",
    "    :param target_sequence_length: Sequence Lengths of target sequences in the batch\n",
    "    :param source_vocab_size: Source vocabulary size\n",
    "    :param target_vocab_size: Target vocabulary size\n",
    "    :param enc_embedding_size: Decoder embedding size\n",
    "    :param dec_embedding_size: Encoder embedding size\n",
    "    :param rnn_size: RNN Size\n",
    "    :param num_layers: Number of layers\n",
    "    :param target_vocab_to_int: Dictionary to go from the target words to an id\n",
    "    :return: Tuple of (Training BasicDecoderOutput, Inference BasicDecoderOutput)\n",
    "    \"\"\"\n",
    "    # TODO: Implement Function\n",
    "    enc_cell, enc_state = encoding_layer(input_data, rnn_size, num_layers, keep_prob, source_sequence_length, \n",
    "                                        source_vocab_size, enc_embedding_size)\n",
    "    dec_input = process_decoder_input(target_data, target_vocab_to_int, batch_size)\n",
    "    tr_dec_output, inf_dec_output = decoding_layer(dec_input, enc_state, target_sequence_length, \n",
    "                                                  max_target_sentence_length,rnn_size, num_layers, \n",
    "                                                  target_vocab_to_int, target_vocab_size,\n",
    "                                                  batch_size, keep_prob, dec_embedding_size)\n",
    "    return tr_dec_output, inf_dec_output\n",
    "\n",
    "\n",
    "\"\"\"\n",
    "DON'T MODIFY ANYTHING IN THIS CELL THAT IS BELOW THIS LINE\n",
    "\"\"\"\n",
    "tests.test_seq2seq_model(seq2seq_model)"
   ]
  },
  {
   "cell_type": "markdown",
   "metadata": {},
   "source": [
    "## Neural Network Training\n",
    "### Hyperparameters\n",
    "Tune the following parameters:\n",
    "\n",
    "- Set `epochs` to the number of epochs.\n",
    "- Set `batch_size` to the batch size.\n",
    "- Set `rnn_size` to the size of the RNNs.\n",
    "- Set `num_layers` to the number of layers.\n",
    "- Set `encoding_embedding_size` to the size of the embedding for the encoder.\n",
    "- Set `decoding_embedding_size` to the size of the embedding for the decoder.\n",
    "- Set `learning_rate` to the learning rate.\n",
    "- Set `keep_probability` to the Dropout keep probability\n",
    "- Set `display_step` to state how many steps between each debug output statement"
   ]
  },
  {
   "cell_type": "code",
   "execution_count": 43,
   "metadata": {
    "collapsed": true
   },
   "outputs": [],
   "source": [
    "# Number of Epochs\n",
    "epochs = 7\n",
    "# Batch Size\n",
    "batch_size = 300\n",
    "# RNN Size\n",
    "rnn_size = 512\n",
    "# Number of Layers\n",
    "num_layers = 5\n",
    "# Embedding Size\n",
    "encoding_embedding_size = 50\n",
    "decoding_embedding_size = 50\n",
    "# Learning Rate\n",
    "learning_rate = 0.001\n",
    "# Dropout Keep Probability\n",
    "keep_probability = 0.5\n",
    "display_step = 10"
   ]
  },
  {
   "cell_type": "markdown",
   "metadata": {},
   "source": [
    "### Build the Graph\n",
    "Build the graph using the neural network you implemented."
   ]
  },
  {
   "cell_type": "code",
   "execution_count": 44,
   "metadata": {
    "scrolled": true
   },
   "outputs": [],
   "source": [
    "\"\"\"\n",
    "DON'T MODIFY ANYTHING IN THIS CELL\n",
    "\"\"\"\n",
    "save_path = 'checkpoints/dev'\n",
    "(source_int_text, target_int_text), (source_vocab_to_int, target_vocab_to_int), _ = helper.load_preprocess()\n",
    "max_target_sentence_length = max([len(sentence) for sentence in source_int_text])\n",
    "\n",
    "train_graph = tf.Graph()\n",
    "with train_graph.as_default():\n",
    "    input_data, targets, lr, keep_prob, target_sequence_length, max_target_sequence_length, source_sequence_length = model_inputs()\n",
    "\n",
    "    #sequence_length = tf.placeholder_with_default(max_target_sentence_length, None, name='sequence_length')\n",
    "    input_shape = tf.shape(input_data)\n",
    "\n",
    "    train_logits, inference_logits = seq2seq_model(tf.reverse(input_data, [-1]),\n",
    "                                                   targets,\n",
    "                                                   keep_prob,\n",
    "                                                   batch_size,\n",
    "                                                   source_sequence_length,\n",
    "                                                   target_sequence_length,\n",
    "                                                   max_target_sequence_length,\n",
    "                                                   len(source_vocab_to_int),\n",
    "                                                   len(target_vocab_to_int),\n",
    "                                                   encoding_embedding_size,\n",
    "                                                   decoding_embedding_size,\n",
    "                                                   rnn_size,\n",
    "                                                   num_layers,\n",
    "                                                   target_vocab_to_int)\n",
    "\n",
    "\n",
    "    training_logits = tf.identity(train_logits.rnn_output, name='logits')\n",
    "    inference_logits = tf.identity(inference_logits.sample_id, name='predictions')\n",
    "\n",
    "    masks = tf.sequence_mask(target_sequence_length, max_target_sequence_length, dtype=tf.float32, name='masks')\n",
    "\n",
    "    with tf.name_scope(\"optimization\"):\n",
    "        # Loss function\n",
    "        cost = tf.contrib.seq2seq.sequence_loss(\n",
    "            training_logits,\n",
    "            targets,\n",
    "            masks)\n",
    "\n",
    "        # Optimizer\n",
    "        optimizer = tf.train.AdamOptimizer(lr)\n",
    "\n",
    "        # Gradient Clipping\n",
    "        gradients = optimizer.compute_gradients(cost)\n",
    "        capped_gradients = [(tf.clip_by_value(grad, -1., 1.), var) for grad, var in gradients if grad is not None]\n",
    "        train_op = optimizer.apply_gradients(capped_gradients)\n"
   ]
  },
  {
   "cell_type": "markdown",
   "metadata": {},
   "source": [
    "Batch and pad the source and target sequences"
   ]
  },
  {
   "cell_type": "code",
   "execution_count": 45,
   "metadata": {
    "collapsed": true
   },
   "outputs": [],
   "source": [
    "\"\"\"\n",
    "DON'T MODIFY ANYTHING IN THIS CELL\n",
    "\"\"\"\n",
    "def pad_sentence_batch(sentence_batch, pad_int):\n",
    "    \"\"\"Pad sentences with <PAD> so that each sentence of a batch has the same length\"\"\"\n",
    "    max_sentence = max([len(sentence) for sentence in sentence_batch])\n",
    "    return [sentence + [pad_int] * (max_sentence - len(sentence)) for sentence in sentence_batch]\n",
    "\n",
    "\n",
    "def get_batches(sources, targets, batch_size, source_pad_int, target_pad_int):\n",
    "    \"\"\"Batch targets, sources, and the lengths of their sentences together\"\"\"\n",
    "    for batch_i in range(0, len(sources)//batch_size):\n",
    "        start_i = batch_i * batch_size\n",
    "\n",
    "        # Slice the right amount for the batch\n",
    "        sources_batch = sources[start_i:start_i + batch_size]\n",
    "        targets_batch = targets[start_i:start_i + batch_size]\n",
    "\n",
    "        # Pad\n",
    "        pad_sources_batch = np.array(pad_sentence_batch(sources_batch, source_pad_int))\n",
    "        pad_targets_batch = np.array(pad_sentence_batch(targets_batch, target_pad_int))\n",
    "\n",
    "        # Need the lengths for the _lengths parameters\n",
    "        pad_targets_lengths = []\n",
    "        for target in pad_targets_batch:\n",
    "            pad_targets_lengths.append(len(target))\n",
    "\n",
    "        pad_source_lengths = []\n",
    "        for source in pad_sources_batch:\n",
    "            pad_source_lengths.append(len(source))\n",
    "\n",
    "        yield pad_sources_batch, pad_targets_batch, pad_source_lengths, pad_targets_lengths\n"
   ]
  },
  {
   "cell_type": "markdown",
   "metadata": {},
   "source": [
    "### Train\n",
    "Train the neural network on the preprocessed data. If you have a hard time getting a good loss, check the forms to see if anyone is having the same problem."
   ]
  },
  {
   "cell_type": "code",
   "execution_count": 46,
   "metadata": {
    "scrolled": true
   },
   "outputs": [
    {
     "name": "stdout",
     "output_type": "stream",
     "text": [
      "Epoch   0 Batch   10/459 - Train Accuracy: 0.2968, Validation Accuracy: 0.3730, Loss: 3.4060\n",
      "Epoch   0 Batch   20/459 - Train Accuracy: 0.4003, Validation Accuracy: 0.4333, Loss: 2.7013\n",
      "Epoch   0 Batch   30/459 - Train Accuracy: 0.4050, Validation Accuracy: 0.4676, Loss: 2.5581\n",
      "Epoch   0 Batch   40/459 - Train Accuracy: 0.4576, Validation Accuracy: 0.4876, Loss: 2.2952\n",
      "Epoch   0 Batch   50/459 - Train Accuracy: 0.4297, Validation Accuracy: 0.4848, Loss: 2.3079\n",
      "Epoch   0 Batch   60/459 - Train Accuracy: 0.4643, Validation Accuracy: 0.4917, Loss: 2.1744\n",
      "Epoch   0 Batch   70/459 - Train Accuracy: 0.4643, Validation Accuracy: 0.5138, Loss: 2.2256\n",
      "Epoch   0 Batch   80/459 - Train Accuracy: 0.4455, Validation Accuracy: 0.5041, Loss: 2.1240\n",
      "Epoch   0 Batch   90/459 - Train Accuracy: 0.4865, Validation Accuracy: 0.4974, Loss: 1.9917\n",
      "Epoch   0 Batch  100/459 - Train Accuracy: 0.4968, Validation Accuracy: 0.5248, Loss: 1.9162\n",
      "Epoch   0 Batch  110/459 - Train Accuracy: 0.4632, Validation Accuracy: 0.4933, Loss: 2.1927\n",
      "Epoch   0 Batch  120/459 - Train Accuracy: 0.4665, Validation Accuracy: 0.5214, Loss: 2.0497\n",
      "Epoch   0 Batch  130/459 - Train Accuracy: 0.4935, Validation Accuracy: 0.5436, Loss: 1.8537\n",
      "Epoch   0 Batch  140/459 - Train Accuracy: 0.4933, Validation Accuracy: 0.5288, Loss: 1.7657\n",
      "Epoch   0 Batch  150/459 - Train Accuracy: 0.4067, Validation Accuracy: 0.4512, Loss: 2.1527\n",
      "Epoch   0 Batch  160/459 - Train Accuracy: 0.4790, Validation Accuracy: 0.5053, Loss: 1.8106\n",
      "Epoch   0 Batch  170/459 - Train Accuracy: 0.4978, Validation Accuracy: 0.5453, Loss: 1.7138\n",
      "Epoch   0 Batch  180/459 - Train Accuracy: 0.5144, Validation Accuracy: 0.5615, Loss: 1.6254\n",
      "Epoch   0 Batch  190/459 - Train Accuracy: 0.5133, Validation Accuracy: 0.5408, Loss: 1.5615\n",
      "Epoch   0 Batch  200/459 - Train Accuracy: 0.4718, Validation Accuracy: 0.5223, Loss: 1.5006\n",
      "Epoch   0 Batch  210/459 - Train Accuracy: 0.5356, Validation Accuracy: 0.5426, Loss: 1.3604\n",
      "Epoch   0 Batch  220/459 - Train Accuracy: 0.5317, Validation Accuracy: 0.5453, Loss: 1.3168\n",
      "Epoch   0 Batch  230/459 - Train Accuracy: 0.4988, Validation Accuracy: 0.5539, Loss: 1.3540\n",
      "Epoch   0 Batch  240/459 - Train Accuracy: 0.5210, Validation Accuracy: 0.5420, Loss: 1.2768\n",
      "Epoch   0 Batch  250/459 - Train Accuracy: 0.5289, Validation Accuracy: 0.5442, Loss: 1.2012\n",
      "Epoch   0 Batch  260/459 - Train Accuracy: 0.5281, Validation Accuracy: 0.5538, Loss: 1.1915\n",
      "Epoch   0 Batch  270/459 - Train Accuracy: 0.5240, Validation Accuracy: 0.5385, Loss: 1.1770\n",
      "Epoch   0 Batch  280/459 - Train Accuracy: 0.5090, Validation Accuracy: 0.5298, Loss: 1.1501\n",
      "Epoch   0 Batch  290/459 - Train Accuracy: 0.4687, Validation Accuracy: 0.5412, Loss: 1.1561\n",
      "Epoch   0 Batch  300/459 - Train Accuracy: 0.4913, Validation Accuracy: 0.5220, Loss: 1.1564\n",
      "Epoch   0 Batch  310/459 - Train Accuracy: 0.4724, Validation Accuracy: 0.5011, Loss: 2.0760\n",
      "Epoch   0 Batch  320/459 - Train Accuracy: 0.4781, Validation Accuracy: 0.4758, Loss: 1.3134\n",
      "Epoch   0 Batch  330/459 - Train Accuracy: 0.4987, Validation Accuracy: 0.5391, Loss: 1.2138\n",
      "Epoch   0 Batch  340/459 - Train Accuracy: 0.4765, Validation Accuracy: 0.5327, Loss: 1.2074\n",
      "Epoch   0 Batch  350/459 - Train Accuracy: 0.4970, Validation Accuracy: 0.5486, Loss: 1.1279\n",
      "Epoch   0 Batch  360/459 - Train Accuracy: 0.4962, Validation Accuracy: 0.5342, Loss: 1.1136\n",
      "Epoch   0 Batch  370/459 - Train Accuracy: 0.4738, Validation Accuracy: 0.5329, Loss: 1.0813\n",
      "Epoch   0 Batch  380/459 - Train Accuracy: 0.4960, Validation Accuracy: 0.5123, Loss: 1.0339\n",
      "Epoch   0 Batch  390/459 - Train Accuracy: 0.4805, Validation Accuracy: 0.5483, Loss: 1.0922\n",
      "Epoch   0 Batch  400/459 - Train Accuracy: 0.5330, Validation Accuracy: 0.5658, Loss: 1.0228\n",
      "Epoch   0 Batch  410/459 - Train Accuracy: 0.5100, Validation Accuracy: 0.5077, Loss: 0.9805\n",
      "Epoch   0 Batch  420/459 - Train Accuracy: 0.5610, Validation Accuracy: 0.5736, Loss: 0.9703\n",
      "Epoch   0 Batch  430/459 - Train Accuracy: 0.5328, Validation Accuracy: 0.5715, Loss: 0.9999\n",
      "Epoch   0 Batch  440/459 - Train Accuracy: 0.5083, Validation Accuracy: 0.5500, Loss: 0.9955\n",
      "Epoch   0 Batch  450/459 - Train Accuracy: 0.5475, Validation Accuracy: 0.5462, Loss: 0.9901\n",
      "Epoch   1 Batch   10/459 - Train Accuracy: 0.5438, Validation Accuracy: 0.5741, Loss: 0.9216\n",
      "Epoch   1 Batch   20/459 - Train Accuracy: 0.5446, Validation Accuracy: 0.5832, Loss: 0.9483\n",
      "Epoch   1 Batch   30/459 - Train Accuracy: 0.5618, Validation Accuracy: 0.5833, Loss: 0.9092\n",
      "Epoch   1 Batch   40/459 - Train Accuracy: 0.5678, Validation Accuracy: 0.5844, Loss: 0.9162\n",
      "Epoch   1 Batch   50/459 - Train Accuracy: 0.5767, Validation Accuracy: 0.5732, Loss: 0.8419\n",
      "Epoch   1 Batch   60/459 - Train Accuracy: 0.5729, Validation Accuracy: 0.5852, Loss: 0.8699\n",
      "Epoch   1 Batch   70/459 - Train Accuracy: 0.5725, Validation Accuracy: 0.5765, Loss: 0.8947\n",
      "Epoch   1 Batch   80/459 - Train Accuracy: 0.5822, Validation Accuracy: 0.5889, Loss: 0.8492\n",
      "Epoch   1 Batch   90/459 - Train Accuracy: 0.5757, Validation Accuracy: 0.5732, Loss: 0.7587\n",
      "Epoch   1 Batch  100/459 - Train Accuracy: 0.5848, Validation Accuracy: 0.5906, Loss: 0.7846\n",
      "Epoch   1 Batch  110/459 - Train Accuracy: 0.5943, Validation Accuracy: 0.5924, Loss: 0.7588\n",
      "Epoch   1 Batch  120/459 - Train Accuracy: 0.5625, Validation Accuracy: 0.5932, Loss: 0.8045\n",
      "Epoch   1 Batch  130/459 - Train Accuracy: 0.5813, Validation Accuracy: 0.6041, Loss: 0.7591\n",
      "Epoch   1 Batch  140/459 - Train Accuracy: 0.5943, Validation Accuracy: 0.6044, Loss: 0.7561\n",
      "Epoch   1 Batch  150/459 - Train Accuracy: 0.5877, Validation Accuracy: 0.6148, Loss: 0.7742\n",
      "Epoch   1 Batch  160/459 - Train Accuracy: 0.5843, Validation Accuracy: 0.6147, Loss: 0.7293\n",
      "Epoch   1 Batch  170/459 - Train Accuracy: 0.5747, Validation Accuracy: 0.6052, Loss: 0.7285\n",
      "Epoch   1 Batch  180/459 - Train Accuracy: 0.6011, Validation Accuracy: 0.6098, Loss: 0.6883\n",
      "Epoch   1 Batch  190/459 - Train Accuracy: 0.5887, Validation Accuracy: 0.6171, Loss: 0.6934\n",
      "Epoch   1 Batch  200/459 - Train Accuracy: 0.5865, Validation Accuracy: 0.6127, Loss: 0.6731\n",
      "Epoch   1 Batch  210/459 - Train Accuracy: 0.6230, Validation Accuracy: 0.6144, Loss: 0.6326\n",
      "Epoch   1 Batch  220/459 - Train Accuracy: 0.6283, Validation Accuracy: 0.6070, Loss: 0.6401\n",
      "Epoch   1 Batch  230/459 - Train Accuracy: 0.5995, Validation Accuracy: 0.6236, Loss: 0.6370\n",
      "Epoch   1 Batch  240/459 - Train Accuracy: 0.6551, Validation Accuracy: 0.6333, Loss: 0.6305\n",
      "Epoch   1 Batch  250/459 - Train Accuracy: 0.6397, Validation Accuracy: 0.6333, Loss: 0.6077\n",
      "Epoch   1 Batch  260/459 - Train Accuracy: 0.6297, Validation Accuracy: 0.6277, Loss: 0.5987\n",
      "Epoch   1 Batch  270/459 - Train Accuracy: 0.6287, Validation Accuracy: 0.6376, Loss: 0.5881\n",
      "Epoch   1 Batch  280/459 - Train Accuracy: 0.6427, Validation Accuracy: 0.6197, Loss: 0.5782\n",
      "Epoch   1 Batch  290/459 - Train Accuracy: 0.6395, Validation Accuracy: 0.6503, Loss: 0.6093\n",
      "Epoch   1 Batch  300/459 - Train Accuracy: 0.6570, Validation Accuracy: 0.6526, Loss: 0.5824\n",
      "Epoch   1 Batch  310/459 - Train Accuracy: 0.6505, Validation Accuracy: 0.6423, Loss: 0.5627\n",
      "Epoch   1 Batch  320/459 - Train Accuracy: 0.6448, Validation Accuracy: 0.6482, Loss: 0.5316\n",
      "Epoch   1 Batch  330/459 - Train Accuracy: 0.6550, Validation Accuracy: 0.6576, Loss: 0.5564\n",
      "Epoch   1 Batch  340/459 - Train Accuracy: 0.6217, Validation Accuracy: 0.6430, Loss: 0.5603\n",
      "Epoch   1 Batch  350/459 - Train Accuracy: 0.6422, Validation Accuracy: 0.6438, Loss: 0.5453\n",
      "Epoch   1 Batch  360/459 - Train Accuracy: 0.6760, Validation Accuracy: 0.6479, Loss: 0.5336\n",
      "Epoch   1 Batch  370/459 - Train Accuracy: 0.6578, Validation Accuracy: 0.6774, Loss: 0.5321\n",
      "Epoch   1 Batch  380/459 - Train Accuracy: 0.6603, Validation Accuracy: 0.6664, Loss: 0.5171\n",
      "Epoch   1 Batch  390/459 - Train Accuracy: 0.6613, Validation Accuracy: 0.6698, Loss: 0.5240\n",
      "Epoch   1 Batch  400/459 - Train Accuracy: 0.6772, Validation Accuracy: 0.6550, Loss: 0.5050\n",
      "Epoch   1 Batch  410/459 - Train Accuracy: 0.6887, Validation Accuracy: 0.6586, Loss: 0.4770\n",
      "Epoch   1 Batch  420/459 - Train Accuracy: 0.6729, Validation Accuracy: 0.6817, Loss: 0.4880\n",
      "Epoch   1 Batch  430/459 - Train Accuracy: 0.6822, Validation Accuracy: 0.6867, Loss: 0.4950\n",
      "Epoch   1 Batch  440/459 - Train Accuracy: 0.6508, Validation Accuracy: 0.6926, Loss: 0.4881\n"
     ]
    },
    {
     "name": "stdout",
     "output_type": "stream",
     "text": [
      "Epoch   1 Batch  450/459 - Train Accuracy: 0.6798, Validation Accuracy: 0.6833, Loss: 0.4884\n",
      "Epoch   2 Batch   10/459 - Train Accuracy: 0.6850, Validation Accuracy: 0.6776, Loss: 0.4699\n",
      "Epoch   2 Batch   20/459 - Train Accuracy: 0.6771, Validation Accuracy: 0.7009, Loss: 0.4650\n",
      "Epoch   2 Batch   30/459 - Train Accuracy: 0.6960, Validation Accuracy: 0.6917, Loss: 0.4624\n",
      "Epoch   2 Batch   40/459 - Train Accuracy: 0.7013, Validation Accuracy: 0.7076, Loss: 0.4474\n",
      "Epoch   2 Batch   50/459 - Train Accuracy: 0.6840, Validation Accuracy: 0.6914, Loss: 0.4583\n",
      "Epoch   2 Batch   60/459 - Train Accuracy: 0.6859, Validation Accuracy: 0.6736, Loss: 0.4283\n",
      "Epoch   2 Batch   70/459 - Train Accuracy: 0.7042, Validation Accuracy: 0.7142, Loss: 0.4381\n",
      "Epoch   2 Batch   80/459 - Train Accuracy: 0.6933, Validation Accuracy: 0.7018, Loss: 0.4266\n",
      "Epoch   2 Batch   90/459 - Train Accuracy: 0.7256, Validation Accuracy: 0.7009, Loss: 0.3874\n",
      "Epoch   2 Batch  100/459 - Train Accuracy: 0.7289, Validation Accuracy: 0.7012, Loss: 0.4074\n",
      "Epoch   2 Batch  110/459 - Train Accuracy: 0.7141, Validation Accuracy: 0.7000, Loss: 0.3949\n",
      "Epoch   2 Batch  120/459 - Train Accuracy: 0.6958, Validation Accuracy: 0.7162, Loss: 0.4283\n",
      "Epoch   2 Batch  130/459 - Train Accuracy: 0.7051, Validation Accuracy: 0.7138, Loss: 0.4149\n",
      "Epoch   2 Batch  140/459 - Train Accuracy: 0.7113, Validation Accuracy: 0.7002, Loss: 0.4120\n",
      "Epoch   2 Batch  150/459 - Train Accuracy: 0.6960, Validation Accuracy: 0.7183, Loss: 0.4256\n",
      "Epoch   2 Batch  160/459 - Train Accuracy: 0.6998, Validation Accuracy: 0.7156, Loss: 0.4135\n",
      "Epoch   2 Batch  170/459 - Train Accuracy: 0.7227, Validation Accuracy: 0.7320, Loss: 0.4005\n",
      "Epoch   2 Batch  180/459 - Train Accuracy: 0.7319, Validation Accuracy: 0.7333, Loss: 0.3770\n",
      "Epoch   2 Batch  190/459 - Train Accuracy: 0.7065, Validation Accuracy: 0.7262, Loss: 0.3961\n",
      "Epoch   2 Batch  200/459 - Train Accuracy: 0.7458, Validation Accuracy: 0.7361, Loss: 0.3771\n",
      "Epoch   2 Batch  210/459 - Train Accuracy: 0.7627, Validation Accuracy: 0.7285, Loss: 0.3431\n",
      "Epoch   2 Batch  220/459 - Train Accuracy: 0.7660, Validation Accuracy: 0.7452, Loss: 0.3532\n",
      "Epoch   2 Batch  230/459 - Train Accuracy: 0.7492, Validation Accuracy: 0.7533, Loss: 0.3697\n",
      "Epoch   2 Batch  240/459 - Train Accuracy: 0.7543, Validation Accuracy: 0.7298, Loss: 0.3673\n",
      "Epoch   2 Batch  250/459 - Train Accuracy: 0.7702, Validation Accuracy: 0.7438, Loss: 0.3321\n",
      "Epoch   2 Batch  260/459 - Train Accuracy: 0.7698, Validation Accuracy: 0.7450, Loss: 0.3493\n",
      "Epoch   2 Batch  270/459 - Train Accuracy: 0.7548, Validation Accuracy: 0.7544, Loss: 0.3326\n",
      "Epoch   2 Batch  280/459 - Train Accuracy: 0.7833, Validation Accuracy: 0.7412, Loss: 0.3318\n",
      "Epoch   2 Batch  290/459 - Train Accuracy: 0.7440, Validation Accuracy: 0.7488, Loss: 0.3478\n",
      "Epoch   2 Batch  300/459 - Train Accuracy: 0.7648, Validation Accuracy: 0.7512, Loss: 0.3408\n",
      "Epoch   2 Batch  310/459 - Train Accuracy: 0.7524, Validation Accuracy: 0.7502, Loss: 0.3364\n",
      "Epoch   2 Batch  320/459 - Train Accuracy: 0.7741, Validation Accuracy: 0.7380, Loss: 0.3039\n",
      "Epoch   2 Batch  330/459 - Train Accuracy: 0.7612, Validation Accuracy: 0.7564, Loss: 0.3330\n",
      "Epoch   2 Batch  340/459 - Train Accuracy: 0.7203, Validation Accuracy: 0.7702, Loss: 0.3237\n",
      "Epoch   2 Batch  350/459 - Train Accuracy: 0.7650, Validation Accuracy: 0.7564, Loss: 0.3219\n",
      "Epoch   2 Batch  360/459 - Train Accuracy: 0.7743, Validation Accuracy: 0.7761, Loss: 0.3151\n",
      "Epoch   2 Batch  370/459 - Train Accuracy: 0.7802, Validation Accuracy: 0.7732, Loss: 0.3018\n",
      "Epoch   2 Batch  380/459 - Train Accuracy: 0.7880, Validation Accuracy: 0.7967, Loss: 0.2867\n",
      "Epoch   2 Batch  390/459 - Train Accuracy: 0.7813, Validation Accuracy: 0.7720, Loss: 0.3035\n",
      "Epoch   2 Batch  400/459 - Train Accuracy: 0.7945, Validation Accuracy: 0.7942, Loss: 0.2845\n",
      "Epoch   2 Batch  410/459 - Train Accuracy: 0.8146, Validation Accuracy: 0.7818, Loss: 0.2759\n",
      "Epoch   2 Batch  420/459 - Train Accuracy: 0.7816, Validation Accuracy: 0.8032, Loss: 0.2717\n",
      "Epoch   2 Batch  430/459 - Train Accuracy: 0.8203, Validation Accuracy: 0.7777, Loss: 0.2659\n",
      "Epoch   2 Batch  440/459 - Train Accuracy: 0.7616, Validation Accuracy: 0.7844, Loss: 0.2775\n",
      "Epoch   2 Batch  450/459 - Train Accuracy: 0.7927, Validation Accuracy: 0.7929, Loss: 0.2671\n",
      "Epoch   3 Batch   10/459 - Train Accuracy: 0.7943, Validation Accuracy: 0.8008, Loss: 0.2666\n",
      "Epoch   3 Batch   20/459 - Train Accuracy: 0.8017, Validation Accuracy: 0.8052, Loss: 0.2659\n",
      "Epoch   3 Batch   30/459 - Train Accuracy: 0.8115, Validation Accuracy: 0.8048, Loss: 0.2468\n",
      "Epoch   3 Batch   40/459 - Train Accuracy: 0.8298, Validation Accuracy: 0.8129, Loss: 0.2366\n",
      "Epoch   3 Batch   50/459 - Train Accuracy: 0.8275, Validation Accuracy: 0.8142, Loss: 0.2413\n",
      "Epoch   3 Batch   60/459 - Train Accuracy: 0.8167, Validation Accuracy: 0.8012, Loss: 0.2242\n",
      "Epoch   3 Batch   70/459 - Train Accuracy: 0.8455, Validation Accuracy: 0.8311, Loss: 0.2262\n",
      "Epoch   3 Batch   80/459 - Train Accuracy: 0.8423, Validation Accuracy: 0.8212, Loss: 0.2207\n",
      "Epoch   3 Batch   90/459 - Train Accuracy: 0.8048, Validation Accuracy: 0.8170, Loss: 0.1915\n",
      "Epoch   3 Batch  100/459 - Train Accuracy: 0.8390, Validation Accuracy: 0.8250, Loss: 0.2054\n",
      "Epoch   3 Batch  110/459 - Train Accuracy: 0.8462, Validation Accuracy: 0.8380, Loss: 0.1929\n",
      "Epoch   3 Batch  120/459 - Train Accuracy: 0.8208, Validation Accuracy: 0.8371, Loss: 0.2161\n",
      "Epoch   3 Batch  130/459 - Train Accuracy: 0.8317, Validation Accuracy: 0.8264, Loss: 0.2037\n",
      "Epoch   3 Batch  140/459 - Train Accuracy: 0.8332, Validation Accuracy: 0.8427, Loss: 0.2004\n",
      "Epoch   3 Batch  150/459 - Train Accuracy: 0.8153, Validation Accuracy: 0.8274, Loss: 0.2111\n",
      "Epoch   3 Batch  160/459 - Train Accuracy: 0.8517, Validation Accuracy: 0.8338, Loss: 0.2005\n",
      "Epoch   3 Batch  170/459 - Train Accuracy: 0.8500, Validation Accuracy: 0.8500, Loss: 0.1941\n",
      "Epoch   3 Batch  180/459 - Train Accuracy: 0.8586, Validation Accuracy: 0.8497, Loss: 0.1732\n",
      "Epoch   3 Batch  190/459 - Train Accuracy: 0.8333, Validation Accuracy: 0.8303, Loss: 0.1928\n",
      "Epoch   3 Batch  200/459 - Train Accuracy: 0.8497, Validation Accuracy: 0.8453, Loss: 0.1784\n",
      "Epoch   3 Batch  210/459 - Train Accuracy: 0.8556, Validation Accuracy: 0.8523, Loss: 0.1677\n",
      "Epoch   3 Batch  220/459 - Train Accuracy: 0.8648, Validation Accuracy: 0.8611, Loss: 0.1693\n",
      "Epoch   3 Batch  230/459 - Train Accuracy: 0.8525, Validation Accuracy: 0.8509, Loss: 0.1751\n",
      "Epoch   3 Batch  240/459 - Train Accuracy: 0.8624, Validation Accuracy: 0.8592, Loss: 0.1732\n",
      "Epoch   3 Batch  250/459 - Train Accuracy: 0.8716, Validation Accuracy: 0.8718, Loss: 0.1603\n",
      "Epoch   3 Batch  260/459 - Train Accuracy: 0.8690, Validation Accuracy: 0.8556, Loss: 0.1591\n",
      "Epoch   3 Batch  270/459 - Train Accuracy: 0.8621, Validation Accuracy: 0.8733, Loss: 0.1549\n",
      "Epoch   3 Batch  280/459 - Train Accuracy: 0.8754, Validation Accuracy: 0.8532, Loss: 0.1600\n",
      "Epoch   3 Batch  290/459 - Train Accuracy: 0.8542, Validation Accuracy: 0.8582, Loss: 0.1609\n",
      "Epoch   3 Batch  300/459 - Train Accuracy: 0.8722, Validation Accuracy: 0.8771, Loss: 0.1661\n",
      "Epoch   3 Batch  310/459 - Train Accuracy: 0.8579, Validation Accuracy: 0.8486, Loss: 0.1654\n",
      "Epoch   3 Batch  320/459 - Train Accuracy: 0.8913, Validation Accuracy: 0.8612, Loss: 0.1458\n",
      "Epoch   3 Batch  330/459 - Train Accuracy: 0.8672, Validation Accuracy: 0.8767, Loss: 0.1598\n",
      "Epoch   3 Batch  340/459 - Train Accuracy: 0.8617, Validation Accuracy: 0.8767, Loss: 0.1545\n",
      "Epoch   3 Batch  350/459 - Train Accuracy: 0.8747, Validation Accuracy: 0.8724, Loss: 0.1509\n",
      "Epoch   3 Batch  360/459 - Train Accuracy: 0.8750, Validation Accuracy: 0.8680, Loss: 0.1539\n",
      "Epoch   3 Batch  370/459 - Train Accuracy: 0.8800, Validation Accuracy: 0.8848, Loss: 0.1427\n",
      "Epoch   3 Batch  380/459 - Train Accuracy: 0.8962, Validation Accuracy: 0.8929, Loss: 0.1340\n",
      "Epoch   3 Batch  390/459 - Train Accuracy: 0.8952, Validation Accuracy: 0.8708, Loss: 0.1435\n",
      "Epoch   3 Batch  400/459 - Train Accuracy: 0.8778, Validation Accuracy: 0.8738, Loss: 0.1459\n",
      "Epoch   3 Batch  410/459 - Train Accuracy: 0.8948, Validation Accuracy: 0.8844, Loss: 0.1344\n",
      "Epoch   3 Batch  420/459 - Train Accuracy: 0.8798, Validation Accuracy: 0.8850, Loss: 0.1240\n",
      "Epoch   3 Batch  430/459 - Train Accuracy: 0.8852, Validation Accuracy: 0.8897, Loss: 0.1185\n"
     ]
    },
    {
     "name": "stdout",
     "output_type": "stream",
     "text": [
      "Epoch   3 Batch  440/459 - Train Accuracy: 0.8592, Validation Accuracy: 0.8800, Loss: 0.1361\n",
      "Epoch   3 Batch  450/459 - Train Accuracy: 0.8782, Validation Accuracy: 0.8812, Loss: 0.1326\n",
      "Epoch   4 Batch   10/459 - Train Accuracy: 0.9000, Validation Accuracy: 0.8885, Loss: 0.1236\n",
      "Epoch   4 Batch   20/459 - Train Accuracy: 0.8944, Validation Accuracy: 0.8903, Loss: 0.1268\n",
      "Epoch   4 Batch   30/459 - Train Accuracy: 0.8913, Validation Accuracy: 0.8855, Loss: 0.1238\n",
      "Epoch   4 Batch   40/459 - Train Accuracy: 0.8968, Validation Accuracy: 0.8852, Loss: 0.1167\n",
      "Epoch   4 Batch   50/459 - Train Accuracy: 0.8863, Validation Accuracy: 0.8845, Loss: 0.1230\n",
      "Epoch   4 Batch   60/459 - Train Accuracy: 0.8954, Validation Accuracy: 0.8909, Loss: 0.1087\n",
      "Epoch   4 Batch   70/459 - Train Accuracy: 0.8998, Validation Accuracy: 0.8952, Loss: 0.1116\n",
      "Epoch   4 Batch   80/459 - Train Accuracy: 0.9200, Validation Accuracy: 0.8827, Loss: 0.1033\n",
      "Epoch   4 Batch   90/459 - Train Accuracy: 0.8795, Validation Accuracy: 0.9059, Loss: 0.0986\n",
      "Epoch   4 Batch  100/459 - Train Accuracy: 0.9071, Validation Accuracy: 0.8988, Loss: 0.0977\n",
      "Epoch   4 Batch  110/459 - Train Accuracy: 0.9037, Validation Accuracy: 0.9048, Loss: 0.0891\n",
      "Epoch   4 Batch  120/459 - Train Accuracy: 0.9033, Validation Accuracy: 0.9108, Loss: 0.1049\n",
      "Epoch   4 Batch  130/459 - Train Accuracy: 0.9051, Validation Accuracy: 0.8947, Loss: 0.0935\n",
      "Epoch   4 Batch  140/459 - Train Accuracy: 0.8958, Validation Accuracy: 0.8967, Loss: 0.0966\n",
      "Epoch   4 Batch  150/459 - Train Accuracy: 0.8783, Validation Accuracy: 0.8986, Loss: 0.1029\n",
      "Epoch   4 Batch  160/459 - Train Accuracy: 0.9135, Validation Accuracy: 0.9080, Loss: 0.0906\n",
      "Epoch   4 Batch  170/459 - Train Accuracy: 0.9030, Validation Accuracy: 0.9106, Loss: 0.0952\n",
      "Epoch   4 Batch  180/459 - Train Accuracy: 0.9221, Validation Accuracy: 0.9079, Loss: 0.0898\n",
      "Epoch   4 Batch  190/459 - Train Accuracy: 0.8915, Validation Accuracy: 0.8862, Loss: 0.0963\n",
      "Epoch   4 Batch  200/459 - Train Accuracy: 0.9160, Validation Accuracy: 0.8979, Loss: 0.0833\n",
      "Epoch   4 Batch  210/459 - Train Accuracy: 0.9219, Validation Accuracy: 0.9223, Loss: 0.0816\n",
      "Epoch   4 Batch  220/459 - Train Accuracy: 0.8932, Validation Accuracy: 0.9224, Loss: 0.0872\n",
      "Epoch   4 Batch  230/459 - Train Accuracy: 0.9145, Validation Accuracy: 0.9118, Loss: 0.0798\n",
      "Epoch   4 Batch  240/459 - Train Accuracy: 0.9317, Validation Accuracy: 0.9114, Loss: 0.0833\n",
      "Epoch   4 Batch  250/459 - Train Accuracy: 0.9140, Validation Accuracy: 0.9042, Loss: 0.0792\n",
      "Epoch   4 Batch  260/459 - Train Accuracy: 0.9213, Validation Accuracy: 0.9094, Loss: 0.0765\n",
      "Epoch   4 Batch  270/459 - Train Accuracy: 0.9059, Validation Accuracy: 0.9155, Loss: 0.0719\n",
      "Epoch   4 Batch  280/459 - Train Accuracy: 0.9165, Validation Accuracy: 0.9068, Loss: 0.0797\n",
      "Epoch   4 Batch  290/459 - Train Accuracy: 0.9025, Validation Accuracy: 0.9159, Loss: 0.0818\n",
      "Epoch   4 Batch  300/459 - Train Accuracy: 0.9263, Validation Accuracy: 0.9314, Loss: 0.0912\n",
      "Epoch   4 Batch  310/459 - Train Accuracy: 0.9062, Validation Accuracy: 0.9298, Loss: 0.0869\n",
      "Epoch   4 Batch  320/459 - Train Accuracy: 0.9270, Validation Accuracy: 0.9000, Loss: 0.0837\n",
      "Epoch   4 Batch  330/459 - Train Accuracy: 0.9160, Validation Accuracy: 0.9261, Loss: 0.0931\n",
      "Epoch   4 Batch  340/459 - Train Accuracy: 0.9093, Validation Accuracy: 0.9156, Loss: 0.0917\n",
      "Epoch   4 Batch  350/459 - Train Accuracy: 0.9215, Validation Accuracy: 0.9130, Loss: 0.0844\n",
      "Epoch   4 Batch  360/459 - Train Accuracy: 0.9128, Validation Accuracy: 0.9120, Loss: 0.0827\n",
      "Epoch   4 Batch  370/459 - Train Accuracy: 0.9288, Validation Accuracy: 0.9173, Loss: 0.0752\n",
      "Epoch   4 Batch  380/459 - Train Accuracy: 0.9180, Validation Accuracy: 0.9235, Loss: 0.0649\n",
      "Epoch   4 Batch  390/459 - Train Accuracy: 0.9212, Validation Accuracy: 0.9214, Loss: 0.0732\n",
      "Epoch   4 Batch  400/459 - Train Accuracy: 0.9257, Validation Accuracy: 0.9180, Loss: 0.0744\n",
      "Epoch   4 Batch  410/459 - Train Accuracy: 0.9397, Validation Accuracy: 0.9298, Loss: 0.0667\n",
      "Epoch   4 Batch  420/459 - Train Accuracy: 0.9032, Validation Accuracy: 0.9265, Loss: 0.0648\n",
      "Epoch   4 Batch  430/459 - Train Accuracy: 0.9372, Validation Accuracy: 0.9220, Loss: 0.0626\n",
      "Epoch   4 Batch  440/459 - Train Accuracy: 0.9094, Validation Accuracy: 0.9258, Loss: 0.0742\n",
      "Epoch   4 Batch  450/459 - Train Accuracy: 0.9292, Validation Accuracy: 0.9298, Loss: 0.0713\n",
      "Epoch   5 Batch   10/459 - Train Accuracy: 0.9347, Validation Accuracy: 0.9226, Loss: 0.0642\n",
      "Epoch   5 Batch   20/459 - Train Accuracy: 0.9275, Validation Accuracy: 0.9179, Loss: 0.0659\n",
      "Epoch   5 Batch   30/459 - Train Accuracy: 0.9190, Validation Accuracy: 0.9194, Loss: 0.0618\n",
      "Epoch   5 Batch   40/459 - Train Accuracy: 0.9241, Validation Accuracy: 0.9247, Loss: 0.0744\n",
      "Epoch   5 Batch   50/459 - Train Accuracy: 0.9245, Validation Accuracy: 0.9161, Loss: 0.0631\n",
      "Epoch   5 Batch   60/459 - Train Accuracy: 0.9360, Validation Accuracy: 0.9152, Loss: 0.0617\n",
      "Epoch   5 Batch   70/459 - Train Accuracy: 0.9225, Validation Accuracy: 0.9250, Loss: 0.0650\n",
      "Epoch   5 Batch   80/459 - Train Accuracy: 0.9498, Validation Accuracy: 0.9209, Loss: 0.0578\n",
      "Epoch   5 Batch   90/459 - Train Accuracy: 0.9046, Validation Accuracy: 0.9285, Loss: 0.0485\n",
      "Epoch   5 Batch  100/459 - Train Accuracy: 0.9402, Validation Accuracy: 0.9297, Loss: 0.0583\n",
      "Epoch   5 Batch  110/459 - Train Accuracy: 0.9286, Validation Accuracy: 0.9300, Loss: 0.0549\n",
      "Epoch   5 Batch  120/459 - Train Accuracy: 0.9162, Validation Accuracy: 0.9229, Loss: 0.0673\n",
      "Epoch   5 Batch  130/459 - Train Accuracy: 0.9224, Validation Accuracy: 0.9250, Loss: 0.0653\n",
      "Epoch   5 Batch  140/459 - Train Accuracy: 0.9198, Validation Accuracy: 0.9136, Loss: 0.0653\n",
      "Epoch   5 Batch  150/459 - Train Accuracy: 0.9048, Validation Accuracy: 0.8923, Loss: 0.0719\n",
      "Epoch   5 Batch  160/459 - Train Accuracy: 0.9420, Validation Accuracy: 0.9155, Loss: 0.0572\n",
      "Epoch   5 Batch  170/459 - Train Accuracy: 0.9322, Validation Accuracy: 0.9350, Loss: 0.0592\n",
      "Epoch   5 Batch  180/459 - Train Accuracy: 0.9413, Validation Accuracy: 0.9274, Loss: 0.0554\n",
      "Epoch   5 Batch  190/459 - Train Accuracy: 0.9255, Validation Accuracy: 0.9147, Loss: 0.0634\n",
      "Epoch   5 Batch  200/459 - Train Accuracy: 0.9448, Validation Accuracy: 0.9141, Loss: 0.0518\n",
      "Epoch   5 Batch  210/459 - Train Accuracy: 0.9359, Validation Accuracy: 0.9365, Loss: 0.0522\n",
      "Epoch   5 Batch  220/459 - Train Accuracy: 0.9114, Validation Accuracy: 0.9292, Loss: 0.0581\n",
      "Epoch   5 Batch  230/459 - Train Accuracy: 0.9397, Validation Accuracy: 0.9239, Loss: 0.0543\n",
      "Epoch   5 Batch  240/459 - Train Accuracy: 0.9441, Validation Accuracy: 0.9338, Loss: 0.0602\n",
      "Epoch   5 Batch  250/459 - Train Accuracy: 0.9467, Validation Accuracy: 0.9379, Loss: 0.0537\n",
      "Epoch   5 Batch  260/459 - Train Accuracy: 0.9500, Validation Accuracy: 0.9426, Loss: 0.0487\n",
      "Epoch   5 Batch  270/459 - Train Accuracy: 0.9351, Validation Accuracy: 0.9392, Loss: 0.0515\n",
      "Epoch   5 Batch  280/459 - Train Accuracy: 0.9319, Validation Accuracy: 0.9338, Loss: 0.0510\n",
      "Epoch   5 Batch  290/459 - Train Accuracy: 0.9348, Validation Accuracy: 0.9295, Loss: 0.0510\n",
      "Epoch   5 Batch  300/459 - Train Accuracy: 0.9435, Validation Accuracy: 0.9350, Loss: 0.0648\n",
      "Epoch   5 Batch  310/459 - Train Accuracy: 0.9208, Validation Accuracy: 0.9435, Loss: 0.0640\n",
      "Epoch   5 Batch  320/459 - Train Accuracy: 0.9449, Validation Accuracy: 0.9402, Loss: 0.0421\n",
      "Epoch   5 Batch  330/459 - Train Accuracy: 0.9360, Validation Accuracy: 0.9412, Loss: 0.0541\n",
      "Epoch   5 Batch  340/459 - Train Accuracy: 0.9500, Validation Accuracy: 0.9267, Loss: 0.0508\n",
      "Epoch   5 Batch  350/459 - Train Accuracy: 0.9470, Validation Accuracy: 0.9374, Loss: 0.0654\n",
      "Epoch   5 Batch  360/459 - Train Accuracy: 0.9460, Validation Accuracy: 0.9398, Loss: 0.0546\n",
      "Epoch   5 Batch  370/459 - Train Accuracy: 0.9273, Validation Accuracy: 0.9215, Loss: 0.0508\n",
      "Epoch   5 Batch  380/459 - Train Accuracy: 0.9340, Validation Accuracy: 0.9500, Loss: 0.0519\n",
      "Epoch   5 Batch  390/459 - Train Accuracy: 0.9387, Validation Accuracy: 0.9206, Loss: 0.0458\n",
      "Epoch   5 Batch  400/459 - Train Accuracy: 0.9370, Validation Accuracy: 0.9205, Loss: 0.0481\n",
      "Epoch   5 Batch  410/459 - Train Accuracy: 0.9483, Validation Accuracy: 0.9317, Loss: 0.0452\n",
      "Epoch   5 Batch  420/459 - Train Accuracy: 0.9254, Validation Accuracy: 0.9439, Loss: 0.0442\n"
     ]
    },
    {
     "name": "stdout",
     "output_type": "stream",
     "text": [
      "Epoch   5 Batch  430/459 - Train Accuracy: 0.9567, Validation Accuracy: 0.9365, Loss: 0.0397\n",
      "Epoch   5 Batch  440/459 - Train Accuracy: 0.9290, Validation Accuracy: 0.9305, Loss: 0.0509\n",
      "Epoch   5 Batch  450/459 - Train Accuracy: 0.9228, Validation Accuracy: 0.9221, Loss: 0.0478\n",
      "Epoch   6 Batch   10/459 - Train Accuracy: 0.9517, Validation Accuracy: 0.9268, Loss: 0.0554\n",
      "Epoch   6 Batch   20/459 - Train Accuracy: 0.9403, Validation Accuracy: 0.9297, Loss: 0.0563\n",
      "Epoch   6 Batch   30/459 - Train Accuracy: 0.9425, Validation Accuracy: 0.9223, Loss: 0.0537\n",
      "Epoch   6 Batch   40/459 - Train Accuracy: 0.9263, Validation Accuracy: 0.9236, Loss: 0.0598\n",
      "Epoch   6 Batch   50/459 - Train Accuracy: 0.9315, Validation Accuracy: 0.9385, Loss: 0.0510\n",
      "Epoch   6 Batch   60/459 - Train Accuracy: 0.9484, Validation Accuracy: 0.9335, Loss: 0.0499\n",
      "Epoch   6 Batch   70/459 - Train Accuracy: 0.9335, Validation Accuracy: 0.9392, Loss: 0.0471\n",
      "Epoch   6 Batch   80/459 - Train Accuracy: 0.9453, Validation Accuracy: 0.9417, Loss: 0.0450\n",
      "Epoch   6 Batch   90/459 - Train Accuracy: 0.9343, Validation Accuracy: 0.9286, Loss: 0.0373\n",
      "Epoch   6 Batch  100/459 - Train Accuracy: 0.9481, Validation Accuracy: 0.9330, Loss: 0.0432\n",
      "Epoch   6 Batch  110/459 - Train Accuracy: 0.9440, Validation Accuracy: 0.9361, Loss: 0.0392\n",
      "Epoch   6 Batch  120/459 - Train Accuracy: 0.9367, Validation Accuracy: 0.9311, Loss: 0.0517\n",
      "Epoch   6 Batch  130/459 - Train Accuracy: 0.9489, Validation Accuracy: 0.9414, Loss: 0.0448\n",
      "Epoch   6 Batch  140/459 - Train Accuracy: 0.9393, Validation Accuracy: 0.9218, Loss: 0.0471\n",
      "Epoch   6 Batch  150/459 - Train Accuracy: 0.9338, Validation Accuracy: 0.9256, Loss: 0.0495\n",
      "Epoch   6 Batch  160/459 - Train Accuracy: 0.9477, Validation Accuracy: 0.9342, Loss: 0.0435\n",
      "Epoch   6 Batch  170/459 - Train Accuracy: 0.9412, Validation Accuracy: 0.9433, Loss: 0.0497\n",
      "Epoch   6 Batch  180/459 - Train Accuracy: 0.9475, Validation Accuracy: 0.9218, Loss: 0.0463\n",
      "Epoch   6 Batch  190/459 - Train Accuracy: 0.9230, Validation Accuracy: 0.9220, Loss: 0.0536\n",
      "Epoch   6 Batch  200/459 - Train Accuracy: 0.9502, Validation Accuracy: 0.9217, Loss: 0.0420\n",
      "Epoch   6 Batch  210/459 - Train Accuracy: 0.9356, Validation Accuracy: 0.9277, Loss: 0.0437\n",
      "Epoch   6 Batch  220/459 - Train Accuracy: 0.9465, Validation Accuracy: 0.9385, Loss: 0.0448\n",
      "Epoch   6 Batch  230/459 - Train Accuracy: 0.9513, Validation Accuracy: 0.9548, Loss: 0.0389\n",
      "Epoch   6 Batch  240/459 - Train Accuracy: 0.9541, Validation Accuracy: 0.9385, Loss: 0.0481\n",
      "Epoch   6 Batch  250/459 - Train Accuracy: 0.9586, Validation Accuracy: 0.9421, Loss: 0.0396\n",
      "Epoch   6 Batch  260/459 - Train Accuracy: 0.9665, Validation Accuracy: 0.9359, Loss: 0.0352\n",
      "Epoch   6 Batch  270/459 - Train Accuracy: 0.9383, Validation Accuracy: 0.9418, Loss: 0.0388\n",
      "Epoch   6 Batch  280/459 - Train Accuracy: 0.9367, Validation Accuracy: 0.9442, Loss: 0.0425\n",
      "Epoch   6 Batch  290/459 - Train Accuracy: 0.9572, Validation Accuracy: 0.9423, Loss: 0.0356\n",
      "Epoch   6 Batch  300/459 - Train Accuracy: 0.9449, Validation Accuracy: 0.9485, Loss: 0.0570\n",
      "Epoch   6 Batch  310/459 - Train Accuracy: 0.9356, Validation Accuracy: 0.9438, Loss: 0.0603\n",
      "Epoch   6 Batch  320/459 - Train Accuracy: 0.9575, Validation Accuracy: 0.9418, Loss: 0.0414\n",
      "Epoch   6 Batch  330/459 - Train Accuracy: 0.9445, Validation Accuracy: 0.9420, Loss: 0.0491\n",
      "Epoch   6 Batch  340/459 - Train Accuracy: 0.9663, Validation Accuracy: 0.9295, Loss: 0.0447\n",
      "Epoch   6 Batch  350/459 - Train Accuracy: 0.9515, Validation Accuracy: 0.9223, Loss: 0.0429\n",
      "Epoch   6 Batch  360/459 - Train Accuracy: 0.9523, Validation Accuracy: 0.9412, Loss: 0.0451\n",
      "Epoch   6 Batch  370/459 - Train Accuracy: 0.9648, Validation Accuracy: 0.9376, Loss: 0.0420\n",
      "Epoch   6 Batch  380/459 - Train Accuracy: 0.9420, Validation Accuracy: 0.9445, Loss: 0.0375\n",
      "Epoch   6 Batch  390/459 - Train Accuracy: 0.9613, Validation Accuracy: 0.9406, Loss: 0.0400\n",
      "Epoch   6 Batch  400/459 - Train Accuracy: 0.9558, Validation Accuracy: 0.9417, Loss: 0.0420\n",
      "Epoch   6 Batch  410/459 - Train Accuracy: 0.9527, Validation Accuracy: 0.9409, Loss: 0.0418\n",
      "Epoch   6 Batch  420/459 - Train Accuracy: 0.9427, Validation Accuracy: 0.9461, Loss: 0.0338\n",
      "Epoch   6 Batch  430/459 - Train Accuracy: 0.9683, Validation Accuracy: 0.9536, Loss: 0.0371\n",
      "Epoch   6 Batch  440/459 - Train Accuracy: 0.9497, Validation Accuracy: 0.9300, Loss: 0.0466\n",
      "Epoch   6 Batch  450/459 - Train Accuracy: 0.9528, Validation Accuracy: 0.9420, Loss: 0.0437\n",
      "Model Trained and Saved\n"
     ]
    }
   ],
   "source": [
    "\"\"\"\n",
    "DON'T MODIFY ANYTHING IN THIS CELL\n",
    "\"\"\"\n",
    "def get_accuracy(target, logits):\n",
    "    \"\"\"\n",
    "    Calculate accuracy\n",
    "    \"\"\"\n",
    "    max_seq = max(target.shape[1], logits.shape[1])\n",
    "    if max_seq - target.shape[1]:\n",
    "        target = np.pad(\n",
    "            target,\n",
    "            [(0,0),(0,max_seq - target.shape[1])],\n",
    "            'constant')\n",
    "    if max_seq - logits.shape[1]:\n",
    "        logits = np.pad(\n",
    "            logits,\n",
    "            [(0,0),(0,max_seq - logits.shape[1])],\n",
    "            'constant')\n",
    "\n",
    "    return np.mean(np.equal(target, logits))\n",
    "\n",
    "# Split data to training and validation sets\n",
    "train_source = source_int_text[batch_size:]\n",
    "train_target = target_int_text[batch_size:]\n",
    "valid_source = source_int_text[:batch_size]\n",
    "valid_target = target_int_text[:batch_size]\n",
    "(valid_sources_batch, valid_targets_batch, valid_sources_lengths, valid_targets_lengths ) = next(get_batches(valid_source,\n",
    "                                                                                                             valid_target,\n",
    "                                                                                                             batch_size,\n",
    "                                                                                                             source_vocab_to_int['<PAD>'],\n",
    "                                                                                                             target_vocab_to_int['<PAD>']))                                                                                                  \n",
    "with tf.Session(graph=train_graph) as sess:\n",
    "    sess.run(tf.global_variables_initializer())\n",
    "\n",
    "    for epoch_i in range(epochs):\n",
    "        for batch_i, (source_batch, target_batch, sources_lengths, targets_lengths) in enumerate(\n",
    "                get_batches(train_source, train_target, batch_size,\n",
    "                            source_vocab_to_int['<PAD>'],\n",
    "                            target_vocab_to_int['<PAD>'])):\n",
    "\n",
    "            _, loss = sess.run(\n",
    "                [train_op, cost],\n",
    "                {input_data: source_batch,\n",
    "                 targets: target_batch,\n",
    "                 lr: learning_rate,\n",
    "                 target_sequence_length: targets_lengths,\n",
    "                 source_sequence_length: sources_lengths,\n",
    "                 keep_prob: keep_probability})\n",
    "\n",
    "\n",
    "            if batch_i % display_step == 0 and batch_i > 0:\n",
    "\n",
    "\n",
    "                batch_train_logits = sess.run(\n",
    "                    inference_logits,\n",
    "                    {input_data: source_batch,\n",
    "                     source_sequence_length: sources_lengths,\n",
    "                     target_sequence_length: targets_lengths,\n",
    "                     keep_prob: 1.0})\n",
    "\n",
    "\n",
    "                batch_valid_logits = sess.run(\n",
    "                    inference_logits,\n",
    "                    {input_data: valid_sources_batch,\n",
    "                     source_sequence_length: valid_sources_lengths,\n",
    "                     target_sequence_length: valid_targets_lengths,\n",
    "                     keep_prob: 1.0})\n",
    "\n",
    "                train_acc = get_accuracy(target_batch, batch_train_logits)\n",
    "\n",
    "                valid_acc = get_accuracy(valid_targets_batch, batch_valid_logits)\n",
    "\n",
    "                print('Epoch {:>3} Batch {:>4}/{} - Train Accuracy: {:>6.4f}, Validation Accuracy: {:>6.4f}, Loss: {:>6.4f}'\n",
    "                      .format(epoch_i, batch_i, len(source_int_text) // batch_size, train_acc, valid_acc, loss))\n",
    "\n",
    "    # Save Model\n",
    "    saver = tf.train.Saver()\n",
    "    saver.save(sess, save_path)\n",
    "    print('Model Trained and Saved')"
   ]
  },
  {
   "cell_type": "markdown",
   "metadata": {},
   "source": [
    "### Save Parameters\n",
    "Save the `batch_size` and `save_path` parameters for inference."
   ]
  },
  {
   "cell_type": "code",
   "execution_count": 47,
   "metadata": {
    "collapsed": true
   },
   "outputs": [],
   "source": [
    "\"\"\"\n",
    "DON'T MODIFY ANYTHING IN THIS CELL\n",
    "\"\"\"\n",
    "# Save parameters for checkpoint\n",
    "helper.save_params(save_path)"
   ]
  },
  {
   "cell_type": "markdown",
   "metadata": {},
   "source": [
    "# Checkpoint"
   ]
  },
  {
   "cell_type": "code",
   "execution_count": 48,
   "metadata": {
    "collapsed": true
   },
   "outputs": [],
   "source": [
    "\"\"\"\n",
    "DON'T MODIFY ANYTHING IN THIS CELL\n",
    "\"\"\"\n",
    "import tensorflow as tf\n",
    "import numpy as np\n",
    "import helper\n",
    "import problem_unittests as tests\n",
    "\n",
    "_, (source_vocab_to_int, target_vocab_to_int), (source_int_to_vocab, target_int_to_vocab) = helper.load_preprocess()\n",
    "load_path = helper.load_params()"
   ]
  },
  {
   "cell_type": "markdown",
   "metadata": {},
   "source": [
    "## Sentence to Sequence\n",
    "To feed a sentence into the model for translation, you first need to preprocess it.  Implement the function `sentence_to_seq()` to preprocess new sentences.\n",
    "\n",
    "- Convert the sentence to lowercase\n",
    "- Convert words into ids using `vocab_to_int`\n",
    " - Convert words not in the vocabulary, to the `<UNK>` word id."
   ]
  },
  {
   "cell_type": "code",
   "execution_count": 49,
   "metadata": {},
   "outputs": [
    {
     "name": "stdout",
     "output_type": "stream",
     "text": [
      "Tests Passed\n"
     ]
    }
   ],
   "source": [
    "def sentence_to_seq(sentence, vocab_to_int):\n",
    "    \"\"\"\n",
    "    Convert a sentence to a sequence of ids\n",
    "    :param sentence: String\n",
    "    :param vocab_to_int: Dictionary to go from the words to an id\n",
    "    :return: List of word ids\n",
    "    \"\"\"\n",
    "    # TODO: Implement Function\n",
    "    lowered = sentence.lower()\n",
    "    ints = []\n",
    "    for each in sentence.lower().split():\n",
    "        if each in vocab_to_int:\n",
    "            ints.append(vocab_to_int[each])\n",
    "        else :\n",
    "            ints.append(vocab_to_int['<UNK>'])\n",
    "    return ints\n",
    "\n",
    "\n",
    "\"\"\"\n",
    "DON'T MODIFY ANYTHING IN THIS CELL THAT IS BELOW THIS LINE\n",
    "\"\"\"\n",
    "tests.test_sentence_to_seq(sentence_to_seq)"
   ]
  },
  {
   "cell_type": "markdown",
   "metadata": {},
   "source": [
    "## Translate\n",
    "This will translate `translate_sentence` from English to French."
   ]
  },
  {
   "cell_type": "code",
   "execution_count": 50,
   "metadata": {},
   "outputs": [
    {
     "name": "stdout",
     "output_type": "stream",
     "text": [
      "INFO:tensorflow:Restoring parameters from checkpoints/dev\n",
      "Input\n",
      "  Word Ids:      [146, 120, 167, 207, 141, 112, 145]\n",
      "  English Words: ['he', 'saw', 'a', 'old', 'yellow', 'truck', '.']\n",
      "\n",
      "Prediction\n",
      "  Word Ids:      [355, 156, 139, 14, 87, 62, 148, 1]\n",
      "  French Words: il a vu une voiture noire . <EOS>\n"
     ]
    }
   ],
   "source": [
    "translate_sentence = 'he saw a old yellow truck .'\n",
    "\n",
    "\n",
    "\"\"\"\n",
    "DON'T MODIFY ANYTHING IN THIS CELL\n",
    "\"\"\"\n",
    "translate_sentence = sentence_to_seq(translate_sentence, source_vocab_to_int)\n",
    "\n",
    "loaded_graph = tf.Graph()\n",
    "with tf.Session(graph=loaded_graph) as sess:\n",
    "    # Load saved model\n",
    "    loader = tf.train.import_meta_graph(load_path + '.meta')\n",
    "    loader.restore(sess, load_path)\n",
    "\n",
    "    input_data = loaded_graph.get_tensor_by_name('input:0')\n",
    "    logits = loaded_graph.get_tensor_by_name('predictions:0')\n",
    "    target_sequence_length = loaded_graph.get_tensor_by_name('target_sequence_length:0')\n",
    "    source_sequence_length = loaded_graph.get_tensor_by_name('source_sequence_length:0')\n",
    "    keep_prob = loaded_graph.get_tensor_by_name('keep_prob:0')\n",
    "\n",
    "    translate_logits = sess.run(logits, {input_data: [translate_sentence]*batch_size,\n",
    "                                         target_sequence_length: [len(translate_sentence)*2]*batch_size,\n",
    "                                         source_sequence_length: [len(translate_sentence)]*batch_size,\n",
    "                                         keep_prob: 1.0})[0]\n",
    "\n",
    "print('Input')\n",
    "print('  Word Ids:      {}'.format([i for i in translate_sentence]))\n",
    "print('  English Words: {}'.format([source_int_to_vocab[i] for i in translate_sentence]))\n",
    "\n",
    "print('\\nPrediction')\n",
    "print('  Word Ids:      {}'.format([i for i in translate_logits]))\n",
    "print('  French Words: {}'.format(\" \".join([target_int_to_vocab[i] for i in translate_logits])))\n"
   ]
  },
  {
   "cell_type": "markdown",
   "metadata": {},
   "source": [
    "## Imperfect Translation\n",
    "You might notice that some sentences translate better than others.  Since the dataset you're using only has a vocabulary of 227 English words of the thousands that you use, you're only going to see good results using these words.  For this project, you don't need a perfect translation. However, if you want to create a better translation model, you'll need better data.\n",
    "\n",
    "You can train on the [WMT10 French-English corpus](http://www.statmt.org/wmt10/training-giga-fren.tar).  This dataset has more vocabulary and richer in topics discussed.  However, this will take you days to train, so make sure you've a GPU and the neural network is performing well on dataset we provided.  Just make sure you play with the WMT10 corpus after you've submitted this project.\n",
    "## Submitting This Project\n",
    "When submitting this project, make sure to run all the cells before saving the notebook. Save the notebook file as \"dlnd_language_translation.ipynb\" and save it as a HTML file under \"File\" -> \"Download as\". Include the \"helper.py\" and \"problem_unittests.py\" files in your submission."
   ]
  }
 ],
 "metadata": {
  "anaconda-cloud": {},
  "kernelspec": {
   "display_name": "Python [default]",
   "language": "python",
   "name": "python3"
  },
  "language_info": {
   "codemirror_mode": {
    "name": "ipython",
    "version": 3
   },
   "file_extension": ".py",
   "mimetype": "text/x-python",
   "name": "python",
   "nbconvert_exporter": "python",
   "pygments_lexer": "ipython3",
   "version": "3.6.2"
  }
 },
 "nbformat": 4,
 "nbformat_minor": 1
}
