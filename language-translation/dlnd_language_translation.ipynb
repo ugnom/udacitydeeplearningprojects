{
 "cells": [
  {
   "cell_type": "markdown",
   "metadata": {
    "collapsed": true
   },
   "source": [
    "# Language Translation\n",
    "In this project, you’re going to take a peek into the realm of neural network machine translation.  You’ll be training a sequence to sequence model on a dataset of English and French sentences that can translate new sentences from English to French.\n",
    "## Get the Data\n",
    "Since translating the whole language of English to French will take lots of time to train, we have provided you with a small portion of the English corpus."
   ]
  },
  {
   "cell_type": "code",
   "execution_count": 1,
   "metadata": {
    "collapsed": true
   },
   "outputs": [],
   "source": [
    "\"\"\"\n",
    "DON'T MODIFY ANYTHING IN THIS CELL\n",
    "\"\"\"\n",
    "import helper\n",
    "import problem_unittests as tests\n",
    "\n",
    "source_path = 'data/small_vocab_en'\n",
    "target_path = 'data/small_vocab_fr'\n",
    "source_text = helper.load_data(source_path)\n",
    "target_text = helper.load_data(target_path)"
   ]
  },
  {
   "cell_type": "markdown",
   "metadata": {},
   "source": [
    "## Explore the Data\n",
    "Play around with view_sentence_range to view different parts of the data."
   ]
  },
  {
   "cell_type": "code",
   "execution_count": 2,
   "metadata": {},
   "outputs": [
    {
     "name": "stdout",
     "output_type": "stream",
     "text": [
      "Dataset Stats\n",
      "Roughly the number of unique words: 227\n",
      "Number of sentences: 137861\n",
      "Average number of words in a sentence: 13.225277634719028\n",
      "\n",
      "English sentences 0 to 10:\n",
      "new jersey is sometimes quiet during autumn , and it is snowy in april .\n",
      "the united states is usually chilly during july , and it is usually freezing in november .\n",
      "california is usually quiet during march , and it is usually hot in june .\n",
      "the united states is sometimes mild during june , and it is cold in september .\n",
      "your least liked fruit is the grape , but my least liked is the apple .\n",
      "his favorite fruit is the orange , but my favorite is the grape .\n",
      "paris is relaxing during december , but it is usually chilly in july .\n",
      "new jersey is busy during spring , and it is never hot in march .\n",
      "our least liked fruit is the lemon , but my least liked is the grape .\n",
      "the united states is sometimes busy during january , and it is sometimes warm in november .\n",
      "\n",
      "French sentences 0 to 10:\n",
      "new jersey est parfois calme pendant l' automne , et il est neigeux en avril .\n",
      "les états-unis est généralement froid en juillet , et il gèle habituellement en novembre .\n",
      "california est généralement calme en mars , et il est généralement chaud en juin .\n",
      "les états-unis est parfois légère en juin , et il fait froid en septembre .\n",
      "votre moins aimé fruit est le raisin , mais mon moins aimé est la pomme .\n",
      "son fruit préféré est l'orange , mais mon préféré est le raisin .\n",
      "paris est relaxant en décembre , mais il est généralement froid en juillet .\n",
      "new jersey est occupé au printemps , et il est jamais chaude en mars .\n",
      "notre fruit est moins aimé le citron , mais mon moins aimé est le raisin .\n",
      "les états-unis est parfois occupé en janvier , et il est parfois chaud en novembre .\n"
     ]
    }
   ],
   "source": [
    "view_sentence_range = (0, 10)\n",
    "\n",
    "\"\"\"\n",
    "DON'T MODIFY ANYTHING IN THIS CELL\n",
    "\"\"\"\n",
    "import numpy as np\n",
    "\n",
    "print('Dataset Stats')\n",
    "print('Roughly the number of unique words: {}'.format(len({word: None for word in source_text.split()})))\n",
    "\n",
    "sentences = source_text.split('\\n')\n",
    "word_counts = [len(sentence.split()) for sentence in sentences]\n",
    "print('Number of sentences: {}'.format(len(sentences)))\n",
    "print('Average number of words in a sentence: {}'.format(np.average(word_counts)))\n",
    "\n",
    "print()\n",
    "print('English sentences {} to {}:'.format(*view_sentence_range))\n",
    "print('\\n'.join(source_text.split('\\n')[view_sentence_range[0]:view_sentence_range[1]]))\n",
    "print()\n",
    "print('French sentences {} to {}:'.format(*view_sentence_range))\n",
    "print('\\n'.join(target_text.split('\\n')[view_sentence_range[0]:view_sentence_range[1]]))"
   ]
  },
  {
   "cell_type": "markdown",
   "metadata": {},
   "source": [
    "## Implement Preprocessing Function\n",
    "### Text to Word Ids\n",
    "As you did with other RNNs, you must turn the text into a number so the computer can understand it. In the function `text_to_ids()`, you'll turn `source_text` and `target_text` from words to ids.  However, you need to add the `<EOS>` word id at the end of `target_text`.  This will help the neural network predict when the sentence should end.\n",
    "\n",
    "You can get the `<EOS>` word id by doing:\n",
    "```python\n",
    "target_vocab_to_int['<EOS>']\n",
    "```\n",
    "You can get other word ids using `source_vocab_to_int` and `target_vocab_to_int`."
   ]
  },
  {
   "cell_type": "code",
   "execution_count": 3,
   "metadata": {},
   "outputs": [
    {
     "name": "stdout",
     "output_type": "stream",
     "text": [
      "Tests Passed\n"
     ]
    }
   ],
   "source": [
    "def text_to_ids(source_text, target_text, source_vocab_to_int, target_vocab_to_int):\n",
    "    \"\"\"\n",
    "    Convert source and target text to proper word ids\n",
    "    :param source_text: String that contains all the source text.\n",
    "    :param target_text: String that contains all the target text.\n",
    "    :param source_vocab_to_int: Dictionary to go from the source words to an id\n",
    "    :param target_vocab_to_int: Dictionary to go from the target words to an id\n",
    "    :return: A tuple of lists (source_id_text, target_id_text)\n",
    "    \"\"\"\n",
    "    # TODO: Implement Function\n",
    "    \n",
    "    source_ids = [[source_vocab_to_int[word] for word in sentense.split()] for sentense in source_text.split('\\n')]\n",
    "    target_ids = [[target_vocab_to_int[word] for word in sentense.split()] for sentense in target_text.split('\\n')]\n",
    "    for each in target_ids:\n",
    "        each.append(target_vocab_to_int['<EOS>'])\n",
    "    return source_ids, target_ids\n",
    "\n",
    "\"\"\"\n",
    "DON'T MODIFY ANYTHING IN THIS CELL THAT IS BELOW THIS LINE\n",
    "\"\"\"\n",
    "tests.test_text_to_ids(text_to_ids)"
   ]
  },
  {
   "cell_type": "markdown",
   "metadata": {},
   "source": [
    "### Preprocess all the data and save it\n",
    "Running the code cell below will preprocess all the data and save it to file."
   ]
  },
  {
   "cell_type": "code",
   "execution_count": 4,
   "metadata": {
    "collapsed": true
   },
   "outputs": [],
   "source": [
    "\"\"\"\n",
    "DON'T MODIFY ANYTHING IN THIS CELL\n",
    "\"\"\"\n",
    "helper.preprocess_and_save_data(source_path, target_path, text_to_ids)"
   ]
  },
  {
   "cell_type": "markdown",
   "metadata": {},
   "source": [
    "# Check Point\n",
    "This is your first checkpoint. If you ever decide to come back to this notebook or have to restart the notebook, you can start from here. The preprocessed data has been saved to disk."
   ]
  },
  {
   "cell_type": "code",
   "execution_count": 5,
   "metadata": {
    "collapsed": true
   },
   "outputs": [],
   "source": [
    "\"\"\"\n",
    "DON'T MODIFY ANYTHING IN THIS CELL\n",
    "\"\"\"\n",
    "import numpy as np\n",
    "import helper\n",
    "import problem_unittests as tests\n",
    "\n",
    "(source_int_text, target_int_text), (source_vocab_to_int, target_vocab_to_int), _ = helper.load_preprocess()"
   ]
  },
  {
   "cell_type": "markdown",
   "metadata": {},
   "source": [
    "### Check the Version of TensorFlow and Access to GPU\n",
    "This will check to make sure you have the correct version of TensorFlow and access to a GPU"
   ]
  },
  {
   "cell_type": "code",
   "execution_count": 6,
   "metadata": {},
   "outputs": [
    {
     "name": "stdout",
     "output_type": "stream",
     "text": [
      "TensorFlow Version: 1.3.0\n"
     ]
    },
    {
     "name": "stderr",
     "output_type": "stream",
     "text": [
      "C:\\Users\\H00164\\AppData\\Local\\Continuum\\Anaconda3\\envs\\py3\\lib\\site-packages\\ipykernel\\__main__.py:15: UserWarning: No GPU found. Please use a GPU to train your neural network.\n"
     ]
    }
   ],
   "source": [
    "\"\"\"\n",
    "DON'T MODIFY ANYTHING IN THIS CELL\n",
    "\"\"\"\n",
    "from distutils.version import LooseVersion\n",
    "import warnings\n",
    "import tensorflow as tf\n",
    "from tensorflow.python.layers.core import Dense\n",
    "\n",
    "# Check TensorFlow Version\n",
    "assert LooseVersion(tf.__version__) >= LooseVersion('1.1'), 'Please use TensorFlow version 1.1 or newer'\n",
    "print('TensorFlow Version: {}'.format(tf.__version__))\n",
    "\n",
    "# Check for a GPU\n",
    "if not tf.test.gpu_device_name():\n",
    "    warnings.warn('No GPU found. Please use a GPU to train your neural network.')\n",
    "else:\n",
    "    print('Default GPU Device: {}'.format(tf.test.gpu_device_name()))"
   ]
  },
  {
   "cell_type": "markdown",
   "metadata": {},
   "source": [
    "## Build the Neural Network\n",
    "You'll build the components necessary to build a Sequence-to-Sequence model by implementing the following functions below:\n",
    "- `model_inputs`\n",
    "- `process_decoder_input`\n",
    "- `encoding_layer`\n",
    "- `decoding_layer_train`\n",
    "- `decoding_layer_infer`\n",
    "- `decoding_layer`\n",
    "- `seq2seq_model`\n",
    "\n",
    "### Input\n",
    "Implement the `model_inputs()` function to create TF Placeholders for the Neural Network. It should create the following placeholders:\n",
    "\n",
    "- Input text placeholder named \"input\" using the TF Placeholder name parameter with rank 2.\n",
    "- Targets placeholder with rank 2.\n",
    "- Learning rate placeholder with rank 0.\n",
    "- Keep probability placeholder named \"keep_prob\" using the TF Placeholder name parameter with rank 0.\n",
    "- Target sequence length placeholder named \"target_sequence_length\" with rank 1\n",
    "- Max target sequence length tensor named \"max_target_len\" getting its value from applying tf.reduce_max on the target_sequence_length placeholder. Rank 0.\n",
    "- Source sequence length placeholder named \"source_sequence_length\" with rank 1\n",
    "\n",
    "Return the placeholders in the following the tuple (input, targets, learning rate, keep probability, target sequence length, max target sequence length, source sequence length)"
   ]
  },
  {
   "cell_type": "code",
   "execution_count": 7,
   "metadata": {},
   "outputs": [
    {
     "data": {
      "text/plain": [
       "<module 'problem_unittests' from 'C:\\\\Users\\\\H00164\\\\Documents\\\\DeepLearningCourse\\\\homework\\\\udacitydeeplearningprojects\\\\language-translation\\\\problem_unittests.py'>"
      ]
     },
     "execution_count": 7,
     "metadata": {},
     "output_type": "execute_result"
    }
   ],
   "source": [
    "import imp\n",
    "imp.reload(tests)"
   ]
  },
  {
   "cell_type": "code",
   "execution_count": 54,
   "metadata": {},
   "outputs": [
    {
     "ename": "AssertionError",
     "evalue": "Max Target Sequence Length is not a Placeholder.",
     "output_type": "error",
     "traceback": [
      "\u001b[1;31m---------------------------------------------------------------------------\u001b[0m",
      "\u001b[1;31mAssertionError\u001b[0m                            Traceback (most recent call last)",
      "\u001b[1;32m<ipython-input-54-c469b474017d>\u001b[0m in \u001b[0;36m<module>\u001b[1;34m()\u001b[0m\n\u001b[0;32m     20\u001b[0m \u001b[0mDON\u001b[0m\u001b[0;31m'\u001b[0m\u001b[0mT\u001b[0m \u001b[0mMODIFY\u001b[0m \u001b[0mANYTHING\u001b[0m \u001b[0mIN\u001b[0m \u001b[0mTHIS\u001b[0m \u001b[0mCELL\u001b[0m \u001b[0mTHAT\u001b[0m \u001b[0mIS\u001b[0m \u001b[0mBELOW\u001b[0m \u001b[0mTHIS\u001b[0m \u001b[0mLINE\u001b[0m\u001b[1;33m\u001b[0m\u001b[0m\n\u001b[0;32m     21\u001b[0m \"\"\"\n\u001b[1;32m---> 22\u001b[1;33m \u001b[0mtests\u001b[0m\u001b[1;33m.\u001b[0m\u001b[0mtest_model_inputs\u001b[0m\u001b[1;33m(\u001b[0m\u001b[0mmodel_inputs\u001b[0m\u001b[1;33m)\u001b[0m\u001b[1;33m\u001b[0m\u001b[0m\n\u001b[0m",
      "\u001b[1;32m~\\Documents\\DeepLearningCourse\\homework\\udacitydeeplearningprojects\\language-translation\\problem_unittests.py\u001b[0m in \u001b[0;36mtest_model_inputs\u001b[1;34m(model_inputs)\u001b[0m\n\u001b[0;32m     88\u001b[0m             \u001b[1;34m'Target Sequence Length is not a Placeholder.'\u001b[0m\u001b[1;33m\u001b[0m\u001b[0m\n\u001b[0;32m     89\u001b[0m         \u001b[1;32massert\u001b[0m \u001b[0mmax_target_sequence_length\u001b[0m\u001b[1;33m.\u001b[0m\u001b[0mop\u001b[0m\u001b[1;33m.\u001b[0m\u001b[0mtype\u001b[0m \u001b[1;33m==\u001b[0m \u001b[1;34m'Placeholder'\u001b[0m\u001b[1;33m,\u001b[0m\u001b[0;31m \u001b[0m\u001b[0;31m\\\u001b[0m\u001b[1;33m\u001b[0m\u001b[0m\n\u001b[1;32m---> 90\u001b[1;33m             \u001b[1;34m'Max Target Sequence Length is not a Placeholder.'\u001b[0m\u001b[1;33m\u001b[0m\u001b[0m\n\u001b[0m\u001b[0;32m     91\u001b[0m         \u001b[1;32massert\u001b[0m \u001b[0msource_sequence_length\u001b[0m\u001b[1;33m.\u001b[0m\u001b[0mop\u001b[0m\u001b[1;33m.\u001b[0m\u001b[0mtype\u001b[0m \u001b[1;33m==\u001b[0m \u001b[1;34m'Placeholder'\u001b[0m\u001b[1;33m,\u001b[0m\u001b[0;31m \u001b[0m\u001b[0;31m\\\u001b[0m\u001b[1;33m\u001b[0m\u001b[0m\n\u001b[0;32m     92\u001b[0m             \u001b[1;34m'Source Sequence Length is not a Placeholder.'\u001b[0m\u001b[1;33m\u001b[0m\u001b[0m\n",
      "\u001b[1;31mAssertionError\u001b[0m: Max Target Sequence Length is not a Placeholder."
     ]
    }
   ],
   "source": [
    "def model_inputs():\n",
    "    \"\"\"\n",
    "    Create TF Placeholders for input, targets, learning rate, and lengths of source and target sequences.\n",
    "    :return: Tuple (input, targets, learning rate, keep probability, target sequence length,\n",
    "    max target sequence length, source sequence length)\n",
    "    \"\"\"\n",
    "    # TODO: Implement Function\n",
    "    input_ = tf.placeholder(tf.int32, [None,None], 'input')\n",
    "    target_ = tf.placeholder(tf.int32, [None,None], 'target')\n",
    "    learning_rate = tf.placeholder(tf.float32, None, 'learning_rate')\n",
    "    keep_prob = tf.placeholder(tf.float32, None, 'keep_prob')\n",
    "    target_seq_length = tf.placeholder(tf.int32, [None], 'target_sequence_length')\n",
    "    max_target_seq_length = tf.reduce_max(target_seq_length, name=\"max_target_len\")\n",
    "    source_sequence_length = tf.placeholder(tf.int32, [None], 'source_sequence_length')\n",
    "    \n",
    "    return input_, target_, learning_rate, keep_prob, target_seq_length, max_target_seq_length, source_sequence_length\n",
    "\n",
    "\n",
    "\"\"\"\n",
    "DON'T MODIFY ANYTHING IN THIS CELL THAT IS BELOW THIS LINE\n",
    "\"\"\"\n",
    "tests.test_model_inputs(model_inputs)"
   ]
  },
  {
   "cell_type": "markdown",
   "metadata": {},
   "source": [
    "### Process Decoder Input\n",
    "Implement `process_decoder_input` by removing the last word id from each batch in `target_data` and concat the GO ID to the begining of each batch."
   ]
  },
  {
   "cell_type": "code",
   "execution_count": 16,
   "metadata": {},
   "outputs": [
    {
     "name": "stdout",
     "output_type": "stream",
     "text": [
      "Tests Passed\n"
     ]
    }
   ],
   "source": [
    "def process_decoder_input(target_data, target_vocab_to_int, batch_size):\n",
    "    \"\"\"\n",
    "    Preprocess target data for encoding\n",
    "    :param target_data: Target Placehoder\n",
    "    :param target_vocab_to_int: Dictionary to go from the target words to an id\n",
    "    :param batch_size: Batch Size\n",
    "    :return: Preprocessed target data\n",
    "    \"\"\"\n",
    "    # TODO: Implement Function\n",
    "    strided = tf.strided_slice(target_data,[0,0],[batch_size,-1],[1,1])\n",
    "    out_input = tf.concat([tf.fill([batch_size,1], target_vocab_to_int['<GO>']), strided],1)\n",
    "    return out_input\n",
    "\n",
    "\"\"\"\n",
    "DON'T MODIFY ANYTHING IN THIS CELL THAT IS BELOW THIS LINE\n",
    "\"\"\"\n",
    "tests.test_process_encoding_input(process_decoder_input)"
   ]
  },
  {
   "cell_type": "markdown",
   "metadata": {},
   "source": [
    "### Encoding\n",
    "Implement `encoding_layer()` to create a Encoder RNN layer:\n",
    " * Embed the encoder input using [`tf.contrib.layers.embed_sequence`](https://www.tensorflow.org/api_docs/python/tf/contrib/layers/embed_sequence)\n",
    " * Construct a [stacked](https://github.com/tensorflow/tensorflow/blob/6947f65a374ebf29e74bb71e36fd82760056d82c/tensorflow/docs_src/tutorials/recurrent.md#stacking-multiple-lstms) [`tf.contrib.rnn.LSTMCell`](https://www.tensorflow.org/api_docs/python/tf/contrib/rnn/LSTMCell) wrapped in a [`tf.contrib.rnn.DropoutWrapper`](https://www.tensorflow.org/api_docs/python/tf/contrib/rnn/DropoutWrapper)\n",
    " * Pass cell and embedded input to [`tf.nn.dynamic_rnn()`](https://www.tensorflow.org/api_docs/python/tf/nn/dynamic_rnn)"
   ]
  },
  {
   "cell_type": "code",
   "execution_count": 17,
   "metadata": {
    "scrolled": false
   },
   "outputs": [
    {
     "name": "stdout",
     "output_type": "stream",
     "text": [
      "Tests Passed\n"
     ]
    }
   ],
   "source": [
    "from imp import reload\n",
    "reload(tests)\n",
    "\n",
    "def encoding_layer(rnn_inputs, rnn_size, num_layers, keep_prob, \n",
    "                   source_sequence_length, source_vocab_size, \n",
    "                   encoding_embedding_size):\n",
    "    \"\"\"\n",
    "    Create encoding layer\n",
    "    :param rnn_inputs: Inputs for the RNN\n",
    "    :param rnn_size: RNN Size\n",
    "    :param num_layers: Number of layers\n",
    "    :param keep_prob: Dropout keep probability\n",
    "    :param source_sequence_length: a list of the lengths of each sequence in the batch\n",
    "    :param source_vocab_size: vocabulary size of source data\n",
    "    :param encoding_embedding_size: embedding size of source data\n",
    "    :return: tuple (RNN output, RNN state)\n",
    "    \"\"\"\n",
    "    # TODO: Implement Function\n",
    "    embedding = tf.contrib.layers.embed_sequence(rnn_inputs,source_vocab_size,encoding_embedding_size)\n",
    "    def make_cell():\n",
    "        return tf.contrib.rnn.DropoutWrapper(tf.contrib.rnn.LSTMCell(rnn_size),keep_prob)\n",
    "    cell = tf.contrib.rnn.MultiRNNCell([make_cell() for i in range(num_layers)])\n",
    "    cell, state = tf.nn.dynamic_rnn(cell, embedding, sequence_length=source_sequence_length, dtype=tf.float32)\n",
    "    return cell, state\n",
    "\n",
    "\"\"\"\n",
    "DON'T MODIFY ANYTHING IN THIS CELL THAT IS BELOW THIS LINE\n",
    "\"\"\"\n",
    "tests.test_encoding_layer(encoding_layer)"
   ]
  },
  {
   "cell_type": "markdown",
   "metadata": {},
   "source": [
    "### Decoding - Training\n",
    "Create a training decoding layer:\n",
    "* Create a [`tf.contrib.seq2seq.TrainingHelper`](https://www.tensorflow.org/api_docs/python/tf/contrib/seq2seq/TrainingHelper) \n",
    "* Create a [`tf.contrib.seq2seq.BasicDecoder`](https://www.tensorflow.org/api_docs/python/tf/contrib/seq2seq/BasicDecoder)\n",
    "* Obtain the decoder outputs from [`tf.contrib.seq2seq.dynamic_decode`](https://www.tensorflow.org/api_docs/python/tf/contrib/seq2seq/dynamic_decode)"
   ]
  },
  {
   "cell_type": "code",
   "execution_count": 41,
   "metadata": {},
   "outputs": [
    {
     "name": "stdout",
     "output_type": "stream",
     "text": [
      "aa\n",
      "ab\n",
      "<tensorflow.contrib.seq2seq.python.ops.basic_decoder.BasicDecoder object at 0x0000000016D57470>\n",
      "Tensor(\"decoding/max_target_len:0\", shape=(), dtype=int32)\n",
      "ad\n",
      "Tests Passed\n"
     ]
    }
   ],
   "source": [
    "\n",
    "def decoding_layer_train(encoder_state, dec_cell, dec_embed_input, \n",
    "                         target_sequence_length, max_summary_length, \n",
    "                         output_layer, keep_prob):\n",
    "    \"\"\"\n",
    "    Create a decoding layer for training\n",
    "    :param encoder_state: Encoder State\n",
    "    :param dec_cell: Decoder RNN Cell\n",
    "    :param dec_embed_input: Decoder embedded input\n",
    "    :param target_sequence_length: The lengths of each sequence in the target batch\n",
    "    :param max_summary_length: The length of the longest sequence in the batch\n",
    "    :param output_layer: Function to apply the output layer\n",
    "    :param keep_prob: Dropout keep probability\n",
    "    :return: BasicDecoderOutput containing training logits and sample_id\n",
    "    \"\"\"\n",
    "    # TODO: Implement Function\n",
    "    print('aa')\n",
    "    helper = tf.contrib.seq2seq.TrainingHelper(inputs=dec_embed_input, \n",
    "                                               sequence_length=target_sequence_length,time_major=False)\n",
    "    print('ab')\n",
    "    decoder = tf.contrib.seq2seq.BasicDecoder(cell=dec_cell,helper=helper,initial_state=encoder_state,\n",
    "                                              output_layer=output_layer)\n",
    "    print(decoder)\n",
    "    print(max_summary_length)\n",
    "    \n",
    "    training_decoder_output = tf.contrib.seq2seq.dynamic_decode(decoder,impute_finished=True,\n",
    "                                                                maximum_iterations=max_summary_length)[0]\n",
    "    print('ad')\n",
    "    return training_decoder_output\n",
    "\n",
    "\n",
    "\n",
    "\"\"\"\n",
    "DON'T MODIFY ANYTHING IN THIS CELL THAT IS BELOW THIS LINE\n",
    "\"\"\"\n",
    "tests.test_decoding_layer_train(decoding_layer_train)"
   ]
  },
  {
   "cell_type": "markdown",
   "metadata": {},
   "source": [
    "### Decoding - Inference\n",
    "Create inference decoder:\n",
    "* Create a [`tf.contrib.seq2seq.GreedyEmbeddingHelper`](https://www.tensorflow.org/api_docs/python/tf/contrib/seq2seq/GreedyEmbeddingHelper)\n",
    "* Create a [`tf.contrib.seq2seq.BasicDecoder`](https://www.tensorflow.org/api_docs/python/tf/contrib/seq2seq/BasicDecoder)\n",
    "* Obtain the decoder outputs from [`tf.contrib.seq2seq.dynamic_decode`](https://www.tensorflow.org/api_docs/python/tf/contrib/seq2seq/dynamic_decode)"
   ]
  },
  {
   "cell_type": "code",
   "execution_count": 42,
   "metadata": {
    "scrolled": true
   },
   "outputs": [
    {
     "name": "stdout",
     "output_type": "stream",
     "text": [
      "Tests Passed\n"
     ]
    }
   ],
   "source": [
    "def decoding_layer_infer(encoder_state, dec_cell, dec_embeddings, start_of_sequence_id,\n",
    "                         end_of_sequence_id, max_target_sequence_length,\n",
    "                         vocab_size, output_layer, batch_size, keep_prob):\n",
    "    \"\"\"\n",
    "    Create a decoding layer for inference\n",
    "    :param encoder_state: Encoder state\n",
    "    :param dec_cell: Decoder RNN Cell\n",
    "    :param dec_embeddings: Decoder embeddings\n",
    "    :param start_of_sequence_id: GO ID\n",
    "    :param end_of_sequence_id: EOS Id\n",
    "    :param max_target_sequence_length: Maximum length of target sequences\n",
    "    :param vocab_size: Size of decoder/target vocabulary\n",
    "    :param decoding_scope: TenorFlow Variable Scope for decoding\n",
    "    :param output_layer: Function to apply the output layer\n",
    "    :param batch_size: Batch size\n",
    "    :param keep_prob: Dropout keep probability\n",
    "    :return: BasicDecoderOutput containing inference logits and sample_id\n",
    "    \"\"\"\n",
    "    # TODO: Implement Function\n",
    "    start_tokens = tf.tile(tf.constant([start_of_sequence_id], dtype=tf.int32), [batch_size], name='start_tokens')\n",
    "    helper = tf.contrib.seq2seq.GreedyEmbeddingHelper(dec_embeddings, start_tokens,end_of_sequence_id)\n",
    "    decoder = tf.contrib.seq2seq.BasicDecoder(dec_cell, helper, encoder_state,output_layer)\n",
    "    decoder_output = tf.contrib.seq2seq.dynamic_decode(decoder, impute_finished=True, maximum_iterations=max_target_sequence_length)[0]\n",
    "    return decoder_output\n",
    "\n",
    "\n",
    "\n",
    "\"\"\"\n",
    "DON'T MODIFY ANYTHING IN THIS CELL THAT IS BELOW THIS LINE\n",
    "\"\"\"\n",
    "tests.test_decoding_layer_infer(decoding_layer_infer)"
   ]
  },
  {
   "cell_type": "markdown",
   "metadata": {},
   "source": [
    "### Build the Decoding Layer\n",
    "Implement `decoding_layer()` to create a Decoder RNN layer.\n",
    "\n",
    "* Embed the target sequences\n",
    "* Construct the decoder LSTM cell (just like you constructed the encoder cell above)\n",
    "* Create an output layer to map the outputs of the decoder to the elements of our vocabulary\n",
    "* Use the your `decoding_layer_train(encoder_state, dec_cell, dec_embed_input, target_sequence_length, max_target_sequence_length, output_layer, keep_prob)` function to get the training logits.\n",
    "* Use your `decoding_layer_infer(encoder_state, dec_cell, dec_embeddings, start_of_sequence_id, end_of_sequence_id, max_target_sequence_length, vocab_size, output_layer, batch_size, keep_prob)` function to get the inference logits.\n",
    "\n",
    "Note: You'll need to use [tf.variable_scope](https://www.tensorflow.org/api_docs/python/tf/variable_scope) to share variables between training and inference."
   ]
  },
  {
   "cell_type": "code",
   "execution_count": 46,
   "metadata": {},
   "outputs": [
    {
     "name": "stdout",
     "output_type": "stream",
     "text": [
      "(LSTMStateTuple(c=<tf.Tensor 'Placeholder_4:0' shape=(?, 512) dtype=float32>, h=<tf.Tensor 'Placeholder_5:0' shape=(?, 512) dtype=float32>), LSTMStateTuple(c=<tf.Tensor 'Placeholder_4:0' shape=(?, 512) dtype=float32>, h=<tf.Tensor 'Placeholder_5:0' shape=(?, 512) dtype=float32>), LSTMStateTuple(c=<tf.Tensor 'Placeholder_4:0' shape=(?, 512) dtype=float32>, h=<tf.Tensor 'Placeholder_5:0' shape=(?, 512) dtype=float32>))\n",
      "<tensorflow.python.ops.rnn_cell_impl.MultiRNNCell object at 0x00000000169C9CC0>\n",
      "aa\n",
      "ab\n",
      "<tensorflow.contrib.seq2seq.python.ops.basic_decoder.BasicDecoder object at 0x00000000161A67B8>\n",
      "Tensor(\"max_target_len:0\", shape=(), dtype=int32)\n",
      "ad\n",
      "d)\n",
      "Tests Passed\n"
     ]
    }
   ],
   "source": [
    "def decoding_layer(dec_input, encoder_state,\n",
    "                   target_sequence_length, max_target_sequence_length,\n",
    "                   rnn_size,\n",
    "                   num_layers, target_vocab_to_int, target_vocab_size,\n",
    "                   batch_size, keep_prob, decoding_embedding_size):\n",
    "    \"\"\"\n",
    "    Create decoding layer\n",
    "    :param dec_input: Decoder input\n",
    "    :param encoder_state: Encoder state\n",
    "    :param target_sequence_length: The lengths of each sequence in the target batch\n",
    "    :param max_target_sequence_length: Maximum length of target sequences\n",
    "    :param rnn_size: RNN Size\n",
    "    :param num_layers: Number of layers\n",
    "    :param target_vocab_to_int: Dictionary to go from the target words to an id\n",
    "    :param target_vocab_size: Size of target vocabulary\n",
    "    :param batch_size: The size of the batch\n",
    "    :param keep_prob: Dropout keep probability\n",
    "    :param decoding_embedding_size: Decoding embedding size\n",
    "    :return: Tuple of (Training BasicDecoderOutput, Inference BasicDecoderOutput)\n",
    "    \"\"\"\n",
    "    # TODO: Implement Function\n",
    "    def make_cell():\n",
    "        return tf.contrib.rnn.LSTMCell(rnn_size,initializer=tf.random_uniform_initializer(-0.1,0.1,seed=2))\n",
    "    \n",
    "    dec_embedding = tf.Variable(tf.random_uniform([target_vocab_size,decoding_embedding_size]))\n",
    "    dec_embed_input = tf.nn.embedding_lookup(dec_embedding, dec_input)\n",
    "    \n",
    "    dec_cell = tf.contrib.rnn.MultiRNNCell([make_cell() for _ in range(num_layers)])\n",
    "    output_layer = Dense(target_vocab_size, kernel_initializer=tf.truncated_normal_initializer(mean = 0.0, stddev=0.1))\n",
    "    print(encoder_state)\n",
    "    print(dec_cell)\n",
    "    with tf.variable_scope(\"decoding\") as decoding_scope:\n",
    "        train = decoding_layer_train(encoder_state, dec_cell, dec_embed_input,\n",
    "                                 target_sequence_length,max_target_sequence_length,output_layer, keep_prob)\n",
    "        inference = decoding_layer_infer(encoder_state, dec_cell, dec_embedding,\n",
    "                                     target_vocab_to_int['<GO>'], target_vocab_to_int['<EOS>'],\n",
    "                                    max_target_sequence_length,target_vocab_size,output_layer, batch_size,keep_prob)\n",
    "    \n",
    "    return train, inference\n",
    "\n",
    "\n",
    "\n",
    "\"\"\"\n",
    "DON'T MODIFY ANYTHING IN THIS CELL THAT IS BELOW THIS LINE\n",
    "\"\"\"\n",
    "tests.test_decoding_layer(decoding_layer)"
   ]
  },
  {
   "cell_type": "markdown",
   "metadata": {},
   "source": [
    "### Build the Neural Network\n",
    "Apply the functions you implemented above to:\n",
    "\n",
    "- Encode the input using your `encoding_layer(rnn_inputs, rnn_size, num_layers, keep_prob,  source_sequence_length, source_vocab_size, encoding_embedding_size)`.\n",
    "- Process target data using your `process_decoder_input(target_data, target_vocab_to_int, batch_size)` function.\n",
    "- Decode the encoded input using your `decoding_layer(dec_input, enc_state, target_sequence_length, max_target_sentence_length, rnn_size, num_layers, target_vocab_to_int, target_vocab_size, batch_size, keep_prob, dec_embedding_size)` function."
   ]
  },
  {
   "cell_type": "code",
   "execution_count": 47,
   "metadata": {},
   "outputs": [
    {
     "name": "stdout",
     "output_type": "stream",
     "text": [
      "(LSTMStateTuple(c=<tf.Tensor 'rnn/while/Exit_2:0' shape=(64, 512) dtype=float32>, h=<tf.Tensor 'rnn/while/Exit_3:0' shape=(64, 512) dtype=float32>), LSTMStateTuple(c=<tf.Tensor 'rnn/while/Exit_4:0' shape=(64, 512) dtype=float32>, h=<tf.Tensor 'rnn/while/Exit_5:0' shape=(64, 512) dtype=float32>), LSTMStateTuple(c=<tf.Tensor 'rnn/while/Exit_6:0' shape=(64, 512) dtype=float32>, h=<tf.Tensor 'rnn/while/Exit_7:0' shape=(64, 512) dtype=float32>))\n",
      "<tensorflow.python.ops.rnn_cell_impl.MultiRNNCell object at 0x0000000015D2AD68>\n",
      "aa\n",
      "ab\n",
      "<tensorflow.contrib.seq2seq.python.ops.basic_decoder.BasicDecoder object at 0x00000000161DDEF0>\n",
      "Tensor(\"max_target_len:0\", shape=(), dtype=int32)\n",
      "ad\n",
      "d)\n",
      "Tests Passed\n"
     ]
    }
   ],
   "source": [
    "def seq2seq_model(input_data, target_data, keep_prob, batch_size,\n",
    "                  source_sequence_length, target_sequence_length,\n",
    "                  max_target_sentence_length,\n",
    "                  source_vocab_size, target_vocab_size,\n",
    "                  enc_embedding_size, dec_embedding_size,\n",
    "                  rnn_size, num_layers, target_vocab_to_int):\n",
    "    \"\"\"\n",
    "    Build the Sequence-to-Sequence part of the neural network\n",
    "    :param input_data: Input placeholder\n",
    "    :param target_data: Target placeholder\n",
    "    :param keep_prob: Dropout keep probability placeholder\n",
    "    :param batch_size: Batch Size\n",
    "    :param source_sequence_length: Sequence Lengths of source sequences in the batch\n",
    "    :param target_sequence_length: Sequence Lengths of target sequences in the batch\n",
    "    :param source_vocab_size: Source vocabulary size\n",
    "    :param target_vocab_size: Target vocabulary size\n",
    "    :param enc_embedding_size: Decoder embedding size\n",
    "    :param dec_embedding_size: Encoder embedding size\n",
    "    :param rnn_size: RNN Size\n",
    "    :param num_layers: Number of layers\n",
    "    :param target_vocab_to_int: Dictionary to go from the target words to an id\n",
    "    :return: Tuple of (Training BasicDecoderOutput, Inference BasicDecoderOutput)\n",
    "    \"\"\"\n",
    "    # TODO: Implement Function\n",
    "    enc_cell, enc_state = encoding_layer(input_data, rnn_size, num_layers, keep_prob, source_sequence_length, \n",
    "                                        source_vocab_size, enc_embedding_size)\n",
    "    dec_input = process_decoder_input(target_data, target_vocab_to_int, batch_size)\n",
    "    tr_dec_output, inf_dec_output = decoding_layer(dec_input, enc_state, target_sequence_length, \n",
    "                                                  max_target_sentence_length,rnn_size, num_layers, \n",
    "                                                  target_vocab_to_int, target_vocab_size,\n",
    "                                                  batch_size, keep_prob, dec_embedding_size)\n",
    "    return tr_dec_output, inf_dec_output\n",
    "\n",
    "\n",
    "\"\"\"\n",
    "DON'T MODIFY ANYTHING IN THIS CELL THAT IS BELOW THIS LINE\n",
    "\"\"\"\n",
    "tests.test_seq2seq_model(seq2seq_model)"
   ]
  },
  {
   "cell_type": "markdown",
   "metadata": {},
   "source": [
    "## Neural Network Training\n",
    "### Hyperparameters\n",
    "Tune the following parameters:\n",
    "\n",
    "- Set `epochs` to the number of epochs.\n",
    "- Set `batch_size` to the batch size.\n",
    "- Set `rnn_size` to the size of the RNNs.\n",
    "- Set `num_layers` to the number of layers.\n",
    "- Set `encoding_embedding_size` to the size of the embedding for the encoder.\n",
    "- Set `decoding_embedding_size` to the size of the embedding for the decoder.\n",
    "- Set `learning_rate` to the learning rate.\n",
    "- Set `keep_probability` to the Dropout keep probability\n",
    "- Set `display_step` to state how many steps between each debug output statement"
   ]
  },
  {
   "cell_type": "code",
   "execution_count": 48,
   "metadata": {
    "collapsed": true
   },
   "outputs": [],
   "source": [
    "# Number of Epochs\n",
    "epochs = 5\n",
    "# Batch Size\n",
    "batch_size = 200\n",
    "# RNN Size\n",
    "rnn_size = 128\n",
    "# Number of Layers\n",
    "num_layers = 5\n",
    "# Embedding Size\n",
    "encoding_embedding_size = 100\n",
    "decoding_embedding_size = 100\n",
    "# Learning Rate\n",
    "learning_rate = 0.001\n",
    "# Dropout Keep Probability\n",
    "keep_probability = 0.7\n",
    "display_step = 10"
   ]
  },
  {
   "cell_type": "markdown",
   "metadata": {},
   "source": [
    "### Build the Graph\n",
    "Build the graph using the neural network you implemented."
   ]
  },
  {
   "cell_type": "code",
   "execution_count": 55,
   "metadata": {
    "scrolled": true
   },
   "outputs": [
    {
     "name": "stdout",
     "output_type": "stream",
     "text": [
      "ERROR:tensorflow:==================================\n",
      "Object was never used (type <class 'tensorflow.python.ops.tensor_array_ops.TensorArray'>):\n",
      "<tensorflow.python.ops.tensor_array_ops.TensorArray object at 0x00000000160AC9B0>\n",
      "If you want to mark it as used call its \"mark_used()\" method.\n",
      "It was originally created here:\n",
      "['File \"C:\\\\Users\\\\H00164\\\\AppData\\\\Local\\\\Continuum\\\\Anaconda3\\\\envs\\\\py3\\\\lib\\\\runpy.py\", line 193, in _run_module_as_main\\n    \"__main__\", mod_spec)', 'File \"C:\\\\Users\\\\H00164\\\\AppData\\\\Local\\\\Continuum\\\\Anaconda3\\\\envs\\\\py3\\\\lib\\\\runpy.py\", line 85, in _run_code\\n    exec(code, run_globals)', 'File \"C:\\\\Users\\\\H00164\\\\AppData\\\\Local\\\\Continuum\\\\Anaconda3\\\\envs\\\\py3\\\\lib\\\\site-packages\\\\ipykernel\\\\__main__.py\", line 3, in <module>\\n    app.launch_new_instance()', 'File \"C:\\\\Users\\\\H00164\\\\AppData\\\\Local\\\\Continuum\\\\Anaconda3\\\\envs\\\\py3\\\\lib\\\\site-packages\\\\traitlets\\\\config\\\\application.py\", line 658, in launch_instance\\n    app.start()', 'File \"C:\\\\Users\\\\H00164\\\\AppData\\\\Local\\\\Continuum\\\\Anaconda3\\\\envs\\\\py3\\\\lib\\\\site-packages\\\\ipykernel\\\\kernelapp.py\", line 477, in start\\n    ioloop.IOLoop.instance().start()', 'File \"C:\\\\Users\\\\H00164\\\\AppData\\\\Local\\\\Continuum\\\\Anaconda3\\\\envs\\\\py3\\\\lib\\\\site-packages\\\\zmq\\\\eventloop\\\\ioloop.py\", line 177, in start\\n    super(ZMQIOLoop, self).start()', 'File \"C:\\\\Users\\\\H00164\\\\AppData\\\\Local\\\\Continuum\\\\Anaconda3\\\\envs\\\\py3\\\\lib\\\\site-packages\\\\tornado\\\\ioloop.py\", line 888, in start\\n    handler_func(fd_obj, events)', 'File \"C:\\\\Users\\\\H00164\\\\AppData\\\\Local\\\\Continuum\\\\Anaconda3\\\\envs\\\\py3\\\\lib\\\\site-packages\\\\tornado\\\\stack_context.py\", line 277, in null_wrapper\\n    return fn(*args, **kwargs)', 'File \"C:\\\\Users\\\\H00164\\\\AppData\\\\Local\\\\Continuum\\\\Anaconda3\\\\envs\\\\py3\\\\lib\\\\site-packages\\\\zmq\\\\eventloop\\\\zmqstream.py\", line 440, in _handle_events\\n    self._handle_recv()', 'File \"C:\\\\Users\\\\H00164\\\\AppData\\\\Local\\\\Continuum\\\\Anaconda3\\\\envs\\\\py3\\\\lib\\\\site-packages\\\\zmq\\\\eventloop\\\\zmqstream.py\", line 472, in _handle_recv\\n    self._run_callback(callback, msg)', 'File \"C:\\\\Users\\\\H00164\\\\AppData\\\\Local\\\\Continuum\\\\Anaconda3\\\\envs\\\\py3\\\\lib\\\\site-packages\\\\zmq\\\\eventloop\\\\zmqstream.py\", line 414, in _run_callback\\n    callback(*args, **kwargs)', 'File \"C:\\\\Users\\\\H00164\\\\AppData\\\\Local\\\\Continuum\\\\Anaconda3\\\\envs\\\\py3\\\\lib\\\\site-packages\\\\tornado\\\\stack_context.py\", line 277, in null_wrapper\\n    return fn(*args, **kwargs)', 'File \"C:\\\\Users\\\\H00164\\\\AppData\\\\Local\\\\Continuum\\\\Anaconda3\\\\envs\\\\py3\\\\lib\\\\site-packages\\\\ipykernel\\\\kernelbase.py\", line 283, in dispatcher\\n    return self.dispatch_shell(stream, msg)', 'File \"C:\\\\Users\\\\H00164\\\\AppData\\\\Local\\\\Continuum\\\\Anaconda3\\\\envs\\\\py3\\\\lib\\\\site-packages\\\\ipykernel\\\\kernelbase.py\", line 235, in dispatch_shell\\n    handler(stream, idents, msg)', 'File \"C:\\\\Users\\\\H00164\\\\AppData\\\\Local\\\\Continuum\\\\Anaconda3\\\\envs\\\\py3\\\\lib\\\\site-packages\\\\ipykernel\\\\kernelbase.py\", line 399, in execute_request\\n    user_expressions, allow_stdin)', 'File \"C:\\\\Users\\\\H00164\\\\AppData\\\\Local\\\\Continuum\\\\Anaconda3\\\\envs\\\\py3\\\\lib\\\\site-packages\\\\ipykernel\\\\ipkernel.py\", line 196, in do_execute\\n    res = shell.run_cell(code, store_history=store_history, silent=silent)', 'File \"C:\\\\Users\\\\H00164\\\\AppData\\\\Local\\\\Continuum\\\\Anaconda3\\\\envs\\\\py3\\\\lib\\\\site-packages\\\\ipykernel\\\\zmqshell.py\", line 533, in run_cell\\n    return super(ZMQInteractiveShell, self).run_cell(*args, **kwargs)', 'File \"C:\\\\Users\\\\H00164\\\\AppData\\\\Local\\\\Continuum\\\\Anaconda3\\\\envs\\\\py3\\\\lib\\\\site-packages\\\\IPython\\\\core\\\\interactiveshell.py\", line 2698, in run_cell\\n    interactivity=interactivity, compiler=compiler, result=result)', 'File \"C:\\\\Users\\\\H00164\\\\AppData\\\\Local\\\\Continuum\\\\Anaconda3\\\\envs\\\\py3\\\\lib\\\\site-packages\\\\IPython\\\\core\\\\interactiveshell.py\", line 2802, in run_ast_nodes\\n    if self.run_code(code, result):', 'File \"C:\\\\Users\\\\H00164\\\\AppData\\\\Local\\\\Continuum\\\\Anaconda3\\\\envs\\\\py3\\\\lib\\\\site-packages\\\\IPython\\\\core\\\\interactiveshell.py\", line 2862, in run_code\\n    exec(code_obj, self.user_global_ns, self.user_ns)', 'File \"<ipython-input-52-a6d1c9e78e5d>\", line 28, in <module>\\n    target_vocab_to_int)', 'File \"<ipython-input-47-217f71d12d2e>\", line 31, in seq2seq_model\\n    batch_size, keep_prob, dec_embedding_size)', 'File \"<ipython-input-46-97e1973f1094>\", line 34, in decoding_layer\\n    target_sequence_length,max_target_sequence_length,output_layer, keep_prob)', 'File \"<ipython-input-41-2da3935f5511>\", line 19, in decoding_layer_train\\n    sequence_length=target_sequence_length,time_major=False)', 'File \"C:\\\\Users\\\\H00164\\\\AppData\\\\Local\\\\Continuum\\\\Anaconda3\\\\envs\\\\py3\\\\lib\\\\site-packages\\\\tensorflow\\\\contrib\\\\seq2seq\\\\python\\\\ops\\\\helper.py\", line 158, in __init__\\n    self._input_tas = nest.map_structure(_unstack_ta, inputs)', 'File \"C:\\\\Users\\\\H00164\\\\AppData\\\\Local\\\\Continuum\\\\Anaconda3\\\\envs\\\\py3\\\\lib\\\\site-packages\\\\tensorflow\\\\python\\\\util\\\\nest.py\", line 379, in map_structure\\n    structure[0], [func(*x) for x in entries])', 'File \"C:\\\\Users\\\\H00164\\\\AppData\\\\Local\\\\Continuum\\\\Anaconda3\\\\envs\\\\py3\\\\lib\\\\site-packages\\\\tensorflow\\\\python\\\\util\\\\nest.py\", line 379, in <listcomp>\\n    structure[0], [func(*x) for x in entries])', 'File \"C:\\\\Users\\\\H00164\\\\AppData\\\\Local\\\\Continuum\\\\Anaconda3\\\\envs\\\\py3\\\\lib\\\\site-packages\\\\tensorflow\\\\contrib\\\\seq2seq\\\\python\\\\ops\\\\helper.py\", line 56, in _unstack_ta\\n    element_shape=inp.get_shape()[1:]).unstack(inp)', 'File \"C:\\\\Users\\\\H00164\\\\AppData\\\\Local\\\\Continuum\\\\Anaconda3\\\\envs\\\\py3\\\\lib\\\\site-packages\\\\tensorflow\\\\python\\\\util\\\\tf_should_use.py\", line 175, in wrapped\\n    return _add_should_use_warning(fn(*args, **kwargs))', 'File \"C:\\\\Users\\\\H00164\\\\AppData\\\\Local\\\\Continuum\\\\Anaconda3\\\\envs\\\\py3\\\\lib\\\\site-packages\\\\tensorflow\\\\python\\\\ops\\\\tensor_array_ops.py\", line 413, in unstack\\n    indices=math_ops.range(0, num_elements), value=value, name=name)', 'File \"C:\\\\Users\\\\H00164\\\\AppData\\\\Local\\\\Continuum\\\\Anaconda3\\\\envs\\\\py3\\\\lib\\\\site-packages\\\\tensorflow\\\\python\\\\util\\\\tf_should_use.py\", line 175, in wrapped\\n    return _add_should_use_warning(fn(*args, **kwargs))', 'File \"C:\\\\Users\\\\H00164\\\\AppData\\\\Local\\\\Continuum\\\\Anaconda3\\\\envs\\\\py3\\\\lib\\\\site-packages\\\\tensorflow\\\\python\\\\util\\\\tf_should_use.py\", line 144, in _add_should_use_warning\\n    wrapped = TFShouldUseWarningWrapper(x)', 'File \"C:\\\\Users\\\\H00164\\\\AppData\\\\Local\\\\Continuum\\\\Anaconda3\\\\envs\\\\py3\\\\lib\\\\site-packages\\\\tensorflow\\\\python\\\\util\\\\tf_should_use.py\", line 101, in __init__\\n    stack = [s.strip() for s in traceback.format_stack()]']\n",
      "==================================\n",
      "(LSTMStateTuple(c=<tf.Tensor 'rnn/while/Exit_2:0' shape=(?, 128) dtype=float32>, h=<tf.Tensor 'rnn/while/Exit_3:0' shape=(?, 128) dtype=float32>), LSTMStateTuple(c=<tf.Tensor 'rnn/while/Exit_4:0' shape=(?, 128) dtype=float32>, h=<tf.Tensor 'rnn/while/Exit_5:0' shape=(?, 128) dtype=float32>), LSTMStateTuple(c=<tf.Tensor 'rnn/while/Exit_6:0' shape=(?, 128) dtype=float32>, h=<tf.Tensor 'rnn/while/Exit_7:0' shape=(?, 128) dtype=float32>), LSTMStateTuple(c=<tf.Tensor 'rnn/while/Exit_8:0' shape=(?, 128) dtype=float32>, h=<tf.Tensor 'rnn/while/Exit_9:0' shape=(?, 128) dtype=float32>), LSTMStateTuple(c=<tf.Tensor 'rnn/while/Exit_10:0' shape=(?, 128) dtype=float32>, h=<tf.Tensor 'rnn/while/Exit_11:0' shape=(?, 128) dtype=float32>))\n",
      "<tensorflow.python.ops.rnn_cell_impl.MultiRNNCell object at 0x0000000011FB17F0>\n",
      "aa\n",
      "ab\n",
      "<tensorflow.contrib.seq2seq.python.ops.basic_decoder.BasicDecoder object at 0x000000000E2FCD68>\n",
      "Tensor(\"max_target_len:0\", shape=(), dtype=int32)\n",
      "ad\n",
      "d)\n"
     ]
    }
   ],
   "source": [
    "\"\"\"\n",
    "DON'T MODIFY ANYTHING IN THIS CELL\n",
    "\"\"\"\n",
    "save_path = 'checkpoints/dev'\n",
    "(source_int_text, target_int_text), (source_vocab_to_int, target_vocab_to_int), _ = helper.load_preprocess()\n",
    "max_target_sentence_length = max([len(sentence) for sentence in source_int_text])\n",
    "\n",
    "train_graph = tf.Graph()\n",
    "with train_graph.as_default():\n",
    "    input_data, targets, lr, keep_prob, target_sequence_length, max_target_sequence_length, source_sequence_length = model_inputs()\n",
    "\n",
    "    #sequence_length = tf.placeholder_with_default(max_target_sentence_length, None, name='sequence_length')\n",
    "    input_shape = tf.shape(input_data)\n",
    "\n",
    "    train_logits, inference_logits = seq2seq_model(tf.reverse(input_data, [-1]),\n",
    "                                                   targets,\n",
    "                                                   keep_prob,\n",
    "                                                   batch_size,\n",
    "                                                   source_sequence_length,\n",
    "                                                   target_sequence_length,\n",
    "                                                   max_target_sequence_length,\n",
    "                                                   len(source_vocab_to_int),\n",
    "                                                   len(target_vocab_to_int),\n",
    "                                                   encoding_embedding_size,\n",
    "                                                   decoding_embedding_size,\n",
    "                                                   rnn_size,\n",
    "                                                   num_layers,\n",
    "                                                   target_vocab_to_int)\n",
    "\n",
    "\n",
    "    training_logits = tf.identity(train_logits.rnn_output, name='logits')\n",
    "    inference_logits = tf.identity(inference_logits.sample_id, name='predictions')\n",
    "\n",
    "    masks = tf.sequence_mask(target_sequence_length, max_target_sequence_length, dtype=tf.float32, name='masks')\n",
    "\n",
    "    with tf.name_scope(\"optimization\"):\n",
    "        # Loss function\n",
    "        cost = tf.contrib.seq2seq.sequence_loss(\n",
    "            training_logits,\n",
    "            targets,\n",
    "            masks)\n",
    "\n",
    "        # Optimizer\n",
    "        optimizer = tf.train.AdamOptimizer(lr)\n",
    "\n",
    "        # Gradient Clipping\n",
    "        gradients = optimizer.compute_gradients(cost)\n",
    "        capped_gradients = [(tf.clip_by_value(grad, -1., 1.), var) for grad, var in gradients if grad is not None]\n",
    "        train_op = optimizer.apply_gradients(capped_gradients)\n"
   ]
  },
  {
   "cell_type": "markdown",
   "metadata": {},
   "source": [
    "Batch and pad the source and target sequences"
   ]
  },
  {
   "cell_type": "code",
   "execution_count": 56,
   "metadata": {
    "collapsed": true
   },
   "outputs": [],
   "source": [
    "\"\"\"\n",
    "DON'T MODIFY ANYTHING IN THIS CELL\n",
    "\"\"\"\n",
    "def pad_sentence_batch(sentence_batch, pad_int):\n",
    "    \"\"\"Pad sentences with <PAD> so that each sentence of a batch has the same length\"\"\"\n",
    "    max_sentence = max([len(sentence) for sentence in sentence_batch])\n",
    "    return [sentence + [pad_int] * (max_sentence - len(sentence)) for sentence in sentence_batch]\n",
    "\n",
    "\n",
    "def get_batches(sources, targets, batch_size, source_pad_int, target_pad_int):\n",
    "    \"\"\"Batch targets, sources, and the lengths of their sentences together\"\"\"\n",
    "    for batch_i in range(0, len(sources)//batch_size):\n",
    "        start_i = batch_i * batch_size\n",
    "\n",
    "        # Slice the right amount for the batch\n",
    "        sources_batch = sources[start_i:start_i + batch_size]\n",
    "        targets_batch = targets[start_i:start_i + batch_size]\n",
    "\n",
    "        # Pad\n",
    "        pad_sources_batch = np.array(pad_sentence_batch(sources_batch, source_pad_int))\n",
    "        pad_targets_batch = np.array(pad_sentence_batch(targets_batch, target_pad_int))\n",
    "\n",
    "        # Need the lengths for the _lengths parameters\n",
    "        pad_targets_lengths = []\n",
    "        for target in pad_targets_batch:\n",
    "            pad_targets_lengths.append(len(target))\n",
    "\n",
    "        pad_source_lengths = []\n",
    "        for source in pad_sources_batch:\n",
    "            pad_source_lengths.append(len(source))\n",
    "\n",
    "        yield pad_sources_batch, pad_targets_batch, pad_source_lengths, pad_targets_lengths\n"
   ]
  },
  {
   "cell_type": "markdown",
   "metadata": {},
   "source": [
    "### Train\n",
    "Train the neural network on the preprocessed data. If you have a hard time getting a good loss, check the forms to see if anyone is having the same problem."
   ]
  },
  {
   "cell_type": "code",
   "execution_count": 57,
   "metadata": {
    "scrolled": true
   },
   "outputs": [
    {
     "name": "stdout",
     "output_type": "stream",
     "text": [
      "Epoch   0 Batch   10/689 - Train Accuracy: 0.2913, Validation Accuracy: 0.3432, Loss: 4.2673\n",
      "Epoch   0 Batch   20/689 - Train Accuracy: 0.3483, Validation Accuracy: 0.3698, Loss: 3.3224\n",
      "Epoch   0 Batch   30/689 - Train Accuracy: 0.3177, Validation Accuracy: 0.3741, Loss: 3.2161\n",
      "Epoch   0 Batch   40/689 - Train Accuracy: 0.3579, Validation Accuracy: 0.3857, Loss: 2.9886\n",
      "Epoch   0 Batch   50/689 - Train Accuracy: 0.3247, Validation Accuracy: 0.3920, Loss: 3.0703\n",
      "Epoch   0 Batch   60/689 - Train Accuracy: 0.3783, Validation Accuracy: 0.4009, Loss: 2.8340\n",
      "Epoch   0 Batch   70/689 - Train Accuracy: 0.3760, Validation Accuracy: 0.4261, Loss: 2.8076\n",
      "Epoch   0 Batch   80/689 - Train Accuracy: 0.4057, Validation Accuracy: 0.4359, Loss: 2.6394\n",
      "Epoch   0 Batch   90/689 - Train Accuracy: 0.4283, Validation Accuracy: 0.4523, Loss: 2.5697\n",
      "Epoch   0 Batch  100/689 - Train Accuracy: 0.4426, Validation Accuracy: 0.4641, Loss: 2.5108\n",
      "Epoch   0 Batch  110/689 - Train Accuracy: 0.4493, Validation Accuracy: 0.4718, Loss: 2.4495\n",
      "Epoch   0 Batch  120/689 - Train Accuracy: 0.4385, Validation Accuracy: 0.4905, Loss: 2.4945\n",
      "Epoch   0 Batch  130/689 - Train Accuracy: 0.4318, Validation Accuracy: 0.4750, Loss: 2.4195\n",
      "Epoch   0 Batch  140/689 - Train Accuracy: 0.4387, Validation Accuracy: 0.4961, Loss: 2.4751\n",
      "Epoch   0 Batch  150/689 - Train Accuracy: 0.4512, Validation Accuracy: 0.4657, Loss: 2.2027\n",
      "Epoch   0 Batch  160/689 - Train Accuracy: 0.4723, Validation Accuracy: 0.4880, Loss: 2.1204\n",
      "Epoch   0 Batch  170/689 - Train Accuracy: 0.4689, Validation Accuracy: 0.4939, Loss: 2.1027\n",
      "Epoch   0 Batch  180/689 - Train Accuracy: 0.4325, Validation Accuracy: 0.4752, Loss: 2.1955\n",
      "Epoch   0 Batch  190/689 - Train Accuracy: 0.4407, Validation Accuracy: 0.4948, Loss: 2.2070\n",
      "Epoch   0 Batch  200/689 - Train Accuracy: 0.4640, Validation Accuracy: 0.5007, Loss: 2.0930\n",
      "Epoch   0 Batch  210/689 - Train Accuracy: 0.4786, Validation Accuracy: 0.5107, Loss: 1.9966\n",
      "Epoch   0 Batch  220/689 - Train Accuracy: 0.4636, Validation Accuracy: 0.5055, Loss: 1.9613\n",
      "Epoch   0 Batch  230/689 - Train Accuracy: 0.4773, Validation Accuracy: 0.5109, Loss: 1.9635\n",
      "Epoch   0 Batch  240/689 - Train Accuracy: 0.4968, Validation Accuracy: 0.5048, Loss: 1.8612\n",
      "Epoch   0 Batch  250/689 - Train Accuracy: 0.4836, Validation Accuracy: 0.5145, Loss: 1.8955\n",
      "Epoch   0 Batch  260/689 - Train Accuracy: 0.4710, Validation Accuracy: 0.5068, Loss: 1.9812\n",
      "Epoch   0 Batch  270/689 - Train Accuracy: 0.4881, Validation Accuracy: 0.5120, Loss: 1.8231\n",
      "Epoch   0 Batch  280/689 - Train Accuracy: 0.4600, Validation Accuracy: 0.5098, Loss: 1.8254\n",
      "Epoch   0 Batch  290/689 - Train Accuracy: 0.4490, Validation Accuracy: 0.5077, Loss: 1.8395\n",
      "Epoch   0 Batch  300/689 - Train Accuracy: 0.4723, Validation Accuracy: 0.5139, Loss: 1.8007\n",
      "Epoch   0 Batch  310/689 - Train Accuracy: 0.4627, Validation Accuracy: 0.5020, Loss: 1.7401\n",
      "Epoch   0 Batch  320/689 - Train Accuracy: 0.4445, Validation Accuracy: 0.5041, Loss: 1.8144\n",
      "Epoch   0 Batch  330/689 - Train Accuracy: 0.4886, Validation Accuracy: 0.5066, Loss: 1.6328\n",
      "Epoch   0 Batch  340/689 - Train Accuracy: 0.4280, Validation Accuracy: 0.5018, Loss: 1.7599\n",
      "Epoch   0 Batch  350/689 - Train Accuracy: 0.4525, Validation Accuracy: 0.5039, Loss: 1.6592\n",
      "Epoch   0 Batch  360/689 - Train Accuracy: 0.4622, Validation Accuracy: 0.4923, Loss: 1.6982\n",
      "Epoch   0 Batch  370/689 - Train Accuracy: 0.4517, Validation Accuracy: 0.5052, Loss: 1.6170\n",
      "Epoch   0 Batch  380/689 - Train Accuracy: 0.4355, Validation Accuracy: 0.4845, Loss: 1.6038\n",
      "Epoch   0 Batch  390/689 - Train Accuracy: 0.4395, Validation Accuracy: 0.4889, Loss: 1.5503\n",
      "Epoch   0 Batch  400/689 - Train Accuracy: 0.4939, Validation Accuracy: 0.4957, Loss: 1.3603\n",
      "Epoch   0 Batch  410/689 - Train Accuracy: 0.4375, Validation Accuracy: 0.5020, Loss: 1.4979\n",
      "Epoch   0 Batch  420/689 - Train Accuracy: 0.4412, Validation Accuracy: 0.4877, Loss: 1.4141\n",
      "Epoch   0 Batch  430/689 - Train Accuracy: 0.4793, Validation Accuracy: 0.4780, Loss: 1.3712\n",
      "Epoch   0 Batch  440/689 - Train Accuracy: 0.4415, Validation Accuracy: 0.4720, Loss: 1.3171\n",
      "Epoch   0 Batch  450/689 - Train Accuracy: 0.4708, Validation Accuracy: 0.5141, Loss: 1.3980\n",
      "Epoch   0 Batch  460/689 - Train Accuracy: 0.4520, Validation Accuracy: 0.4770, Loss: 1.3559\n",
      "Epoch   0 Batch  470/689 - Train Accuracy: 0.4547, Validation Accuracy: 0.5168, Loss: 1.2913\n",
      "Epoch   0 Batch  480/689 - Train Accuracy: 0.4280, Validation Accuracy: 0.4875, Loss: 1.3108\n",
      "Epoch   0 Batch  490/689 - Train Accuracy: 0.4265, Validation Accuracy: 0.4911, Loss: 1.2737\n",
      "Epoch   0 Batch  500/689 - Train Accuracy: 0.4643, Validation Accuracy: 0.4759, Loss: 1.2007\n",
      "Epoch   0 Batch  510/689 - Train Accuracy: 0.3992, Validation Accuracy: 0.4605, Loss: 1.2464\n",
      "Epoch   0 Batch  520/689 - Train Accuracy: 0.4540, Validation Accuracy: 0.5050, Loss: 1.2027\n",
      "Epoch   0 Batch  530/689 - Train Accuracy: 0.4213, Validation Accuracy: 0.4977, Loss: 1.2279\n",
      "Epoch   0 Batch  540/689 - Train Accuracy: 0.4829, Validation Accuracy: 0.4775, Loss: 1.1399\n",
      "Epoch   0 Batch  550/689 - Train Accuracy: 0.4612, Validation Accuracy: 0.4777, Loss: 1.1436\n",
      "Epoch   0 Batch  560/689 - Train Accuracy: 0.4255, Validation Accuracy: 0.4748, Loss: 1.2059\n",
      "Epoch   0 Batch  570/689 - Train Accuracy: 0.4537, Validation Accuracy: 0.4761, Loss: 1.0873\n",
      "Epoch   0 Batch  580/689 - Train Accuracy: 0.4485, Validation Accuracy: 0.5075, Loss: 1.1210\n",
      "Epoch   0 Batch  590/689 - Train Accuracy: 0.4450, Validation Accuracy: 0.4625, Loss: 1.0761\n",
      "Epoch   0 Batch  600/689 - Train Accuracy: 0.4775, Validation Accuracy: 0.5184, Loss: 1.1194\n",
      "Epoch   0 Batch  610/689 - Train Accuracy: 0.4487, Validation Accuracy: 0.5125, Loss: 1.0955\n",
      "Epoch   0 Batch  620/689 - Train Accuracy: 0.4995, Validation Accuracy: 0.5132, Loss: 1.0453\n",
      "Epoch   0 Batch  630/689 - Train Accuracy: 0.4958, Validation Accuracy: 0.5000, Loss: 1.0382\n",
      "Epoch   0 Batch  640/689 - Train Accuracy: 0.5127, Validation Accuracy: 0.5236, Loss: 0.9495\n",
      "Epoch   0 Batch  650/689 - Train Accuracy: 0.4755, Validation Accuracy: 0.5255, Loss: 1.0251\n",
      "Epoch   0 Batch  660/689 - Train Accuracy: 0.4836, Validation Accuracy: 0.4993, Loss: 0.9809\n",
      "Epoch   0 Batch  670/689 - Train Accuracy: 0.4730, Validation Accuracy: 0.5100, Loss: 1.0032\n",
      "Epoch   0 Batch  680/689 - Train Accuracy: 0.5353, Validation Accuracy: 0.5082, Loss: 0.9888\n",
      "Epoch   1 Batch   10/689 - Train Accuracy: 0.5150, Validation Accuracy: 0.5232, Loss: 0.9642\n",
      "Epoch   1 Batch   20/689 - Train Accuracy: 0.5019, Validation Accuracy: 0.5134, Loss: 0.9042\n",
      "Epoch   1 Batch   30/689 - Train Accuracy: 0.4823, Validation Accuracy: 0.5205, Loss: 0.9674\n",
      "Epoch   1 Batch   40/689 - Train Accuracy: 0.4874, Validation Accuracy: 0.5150, Loss: 0.9022\n",
      "Epoch   1 Batch   50/689 - Train Accuracy: 0.4990, Validation Accuracy: 0.5305, Loss: 0.9469\n",
      "Epoch   1 Batch   60/689 - Train Accuracy: 0.5283, Validation Accuracy: 0.5200, Loss: 0.9038\n",
      "Epoch   1 Batch   70/689 - Train Accuracy: 0.4928, Validation Accuracy: 0.5095, Loss: 0.8823\n",
      "Epoch   1 Batch   80/689 - Train Accuracy: 0.5140, Validation Accuracy: 0.5348, Loss: 0.8624\n",
      "Epoch   1 Batch   90/689 - Train Accuracy: 0.5238, Validation Accuracy: 0.5293, Loss: 0.8473\n",
      "Epoch   1 Batch  100/689 - Train Accuracy: 0.5048, Validation Accuracy: 0.5211, Loss: 0.8586\n",
      "Epoch   1 Batch  110/689 - Train Accuracy: 0.5279, Validation Accuracy: 0.5377, Loss: 0.8341\n",
      "Epoch   1 Batch  120/689 - Train Accuracy: 0.5110, Validation Accuracy: 0.5395, Loss: 0.8690\n",
      "Epoch   1 Batch  130/689 - Train Accuracy: 0.4993, Validation Accuracy: 0.5459, Loss: 0.8768\n",
      "Epoch   1 Batch  140/689 - Train Accuracy: 0.5477, Validation Accuracy: 0.5493, Loss: 0.8251\n",
      "Epoch   1 Batch  150/689 - Train Accuracy: 0.5443, Validation Accuracy: 0.5370, Loss: 0.7945\n",
      "Epoch   1 Batch  160/689 - Train Accuracy: 0.5434, Validation Accuracy: 0.5266, Loss: 0.7865\n",
      "Epoch   1 Batch  170/689 - Train Accuracy: 0.5295, Validation Accuracy: 0.5320, Loss: 0.7841\n",
      "Epoch   1 Batch  180/689 - Train Accuracy: 0.5202, Validation Accuracy: 0.5495, Loss: 0.8851\n",
      "Epoch   1 Batch  190/689 - Train Accuracy: 0.5178, Validation Accuracy: 0.5516, Loss: 0.8755\n",
      "Epoch   1 Batch  200/689 - Train Accuracy: 0.5278, Validation Accuracy: 0.5380, Loss: 0.8070\n",
      "Epoch   1 Batch  210/689 - Train Accuracy: 0.5483, Validation Accuracy: 0.5443, Loss: 0.7882\n"
     ]
    },
    {
     "name": "stdout",
     "output_type": "stream",
     "text": [
      "Epoch   1 Batch  220/689 - Train Accuracy: 0.5560, Validation Accuracy: 0.5468, Loss: 0.7855\n",
      "Epoch   1 Batch  230/689 - Train Accuracy: 0.5565, Validation Accuracy: 0.5577, Loss: 0.7865\n",
      "Epoch   1 Batch  240/689 - Train Accuracy: 0.5759, Validation Accuracy: 0.5586, Loss: 0.7624\n",
      "Epoch   1 Batch  250/689 - Train Accuracy: 0.5393, Validation Accuracy: 0.5586, Loss: 0.7637\n",
      "Epoch   1 Batch  260/689 - Train Accuracy: 0.5345, Validation Accuracy: 0.5482, Loss: 0.8331\n",
      "Epoch   1 Batch  270/689 - Train Accuracy: 0.5690, Validation Accuracy: 0.5630, Loss: 0.7693\n",
      "Epoch   1 Batch  280/689 - Train Accuracy: 0.5377, Validation Accuracy: 0.5482, Loss: 0.7688\n",
      "Epoch   1 Batch  290/689 - Train Accuracy: 0.5178, Validation Accuracy: 0.5466, Loss: 0.7861\n",
      "Epoch   1 Batch  300/689 - Train Accuracy: 0.5437, Validation Accuracy: 0.5741, Loss: 0.7587\n",
      "Epoch   1 Batch  310/689 - Train Accuracy: 0.5483, Validation Accuracy: 0.5405, Loss: 0.7391\n",
      "Epoch   1 Batch  320/689 - Train Accuracy: 0.5470, Validation Accuracy: 0.5768, Loss: 0.7457\n",
      "Epoch   1 Batch  330/689 - Train Accuracy: 0.5940, Validation Accuracy: 0.5730, Loss: 0.7213\n",
      "Epoch   1 Batch  340/689 - Train Accuracy: 0.5132, Validation Accuracy: 0.5520, Loss: 0.7782\n",
      "Epoch   1 Batch  350/689 - Train Accuracy: 0.5497, Validation Accuracy: 0.5593, Loss: 0.7612\n",
      "Epoch   1 Batch  360/689 - Train Accuracy: 0.5797, Validation Accuracy: 0.5718, Loss: 0.7634\n",
      "Epoch   1 Batch  370/689 - Train Accuracy: 0.5483, Validation Accuracy: 0.5602, Loss: 0.7159\n",
      "Epoch   1 Batch  380/689 - Train Accuracy: 0.5485, Validation Accuracy: 0.5668, Loss: 0.7569\n",
      "Epoch   1 Batch  390/689 - Train Accuracy: 0.5353, Validation Accuracy: 0.5748, Loss: 0.7264\n",
      "Epoch   1 Batch  400/689 - Train Accuracy: 0.5957, Validation Accuracy: 0.5727, Loss: 0.6650\n",
      "Epoch   1 Batch  410/689 - Train Accuracy: 0.5327, Validation Accuracy: 0.5550, Loss: 0.7507\n",
      "Epoch   1 Batch  420/689 - Train Accuracy: 0.5570, Validation Accuracy: 0.5652, Loss: 0.7174\n",
      "Epoch   1 Batch  430/689 - Train Accuracy: 0.5607, Validation Accuracy: 0.5768, Loss: 0.7016\n",
      "Epoch   1 Batch  440/689 - Train Accuracy: 0.5693, Validation Accuracy: 0.5755, Loss: 0.6954\n",
      "Epoch   1 Batch  450/689 - Train Accuracy: 0.5547, Validation Accuracy: 0.5623, Loss: 0.7204\n",
      "Epoch   1 Batch  460/689 - Train Accuracy: 0.5292, Validation Accuracy: 0.5609, Loss: 0.7173\n",
      "Epoch   1 Batch  470/689 - Train Accuracy: 0.5495, Validation Accuracy: 0.5432, Loss: 0.6799\n",
      "Epoch   1 Batch  480/689 - Train Accuracy: 0.5607, Validation Accuracy: 0.5680, Loss: 0.6991\n",
      "Epoch   1 Batch  490/689 - Train Accuracy: 0.5407, Validation Accuracy: 0.5711, Loss: 0.7116\n",
      "Epoch   1 Batch  500/689 - Train Accuracy: 0.5676, Validation Accuracy: 0.5709, Loss: 0.6760\n",
      "Epoch   1 Batch  510/689 - Train Accuracy: 0.5343, Validation Accuracy: 0.5725, Loss: 0.7010\n",
      "Epoch   1 Batch  520/689 - Train Accuracy: 0.5750, Validation Accuracy: 0.5773, Loss: 0.6643\n",
      "Epoch   1 Batch  530/689 - Train Accuracy: 0.5765, Validation Accuracy: 0.5830, Loss: 0.6948\n",
      "Epoch   1 Batch  540/689 - Train Accuracy: 0.5869, Validation Accuracy: 0.5734, Loss: 0.6491\n",
      "Epoch   1 Batch  550/689 - Train Accuracy: 0.5719, Validation Accuracy: 0.5875, Loss: 0.6703\n",
      "Epoch   1 Batch  560/689 - Train Accuracy: 0.5495, Validation Accuracy: 0.5886, Loss: 0.6942\n",
      "Epoch   1 Batch  570/689 - Train Accuracy: 0.5665, Validation Accuracy: 0.5836, Loss: 0.6377\n",
      "Epoch   1 Batch  580/689 - Train Accuracy: 0.5520, Validation Accuracy: 0.5802, Loss: 0.6703\n",
      "Epoch   1 Batch  590/689 - Train Accuracy: 0.5617, Validation Accuracy: 0.5707, Loss: 0.6427\n",
      "Epoch   1 Batch  600/689 - Train Accuracy: 0.5770, Validation Accuracy: 0.5766, Loss: 0.6735\n",
      "Epoch   1 Batch  610/689 - Train Accuracy: 0.5280, Validation Accuracy: 0.5677, Loss: 0.6778\n",
      "Epoch   1 Batch  620/689 - Train Accuracy: 0.5998, Validation Accuracy: 0.5825, Loss: 0.6442\n",
      "Epoch   1 Batch  630/689 - Train Accuracy: 0.5972, Validation Accuracy: 0.6011, Loss: 0.6515\n",
      "Epoch   1 Batch  640/689 - Train Accuracy: 0.6282, Validation Accuracy: 0.6030, Loss: 0.5942\n",
      "Epoch   1 Batch  650/689 - Train Accuracy: 0.5707, Validation Accuracy: 0.6093, Loss: 0.6518\n",
      "Epoch   1 Batch  660/689 - Train Accuracy: 0.5962, Validation Accuracy: 0.5930, Loss: 0.6370\n",
      "Epoch   1 Batch  670/689 - Train Accuracy: 0.5715, Validation Accuracy: 0.5941, Loss: 0.6512\n",
      "Epoch   1 Batch  680/689 - Train Accuracy: 0.6045, Validation Accuracy: 0.6045, Loss: 0.6484\n",
      "Epoch   2 Batch   10/689 - Train Accuracy: 0.5948, Validation Accuracy: 0.6007, Loss: 0.6257\n",
      "Epoch   2 Batch   20/689 - Train Accuracy: 0.6219, Validation Accuracy: 0.5991, Loss: 0.6035\n",
      "Epoch   2 Batch   30/689 - Train Accuracy: 0.6030, Validation Accuracy: 0.6077, Loss: 0.6534\n",
      "Epoch   2 Batch   40/689 - Train Accuracy: 0.6017, Validation Accuracy: 0.6036, Loss: 0.5927\n",
      "Epoch   2 Batch   50/689 - Train Accuracy: 0.5907, Validation Accuracy: 0.5934, Loss: 0.6265\n",
      "Epoch   2 Batch   60/689 - Train Accuracy: 0.6450, Validation Accuracy: 0.6193, Loss: 0.6019\n",
      "Epoch   2 Batch   70/689 - Train Accuracy: 0.6145, Validation Accuracy: 0.6102, Loss: 0.6155\n",
      "Epoch   2 Batch   80/689 - Train Accuracy: 0.6214, Validation Accuracy: 0.6155, Loss: 0.5974\n",
      "Epoch   2 Batch   90/689 - Train Accuracy: 0.6083, Validation Accuracy: 0.6073, Loss: 0.5891\n",
      "Epoch   2 Batch  100/689 - Train Accuracy: 0.6062, Validation Accuracy: 0.6277, Loss: 0.5885\n",
      "Epoch   2 Batch  110/689 - Train Accuracy: 0.6179, Validation Accuracy: 0.6166, Loss: 0.5709\n",
      "Epoch   2 Batch  120/689 - Train Accuracy: 0.6068, Validation Accuracy: 0.6191, Loss: 0.6037\n",
      "Epoch   2 Batch  130/689 - Train Accuracy: 0.6122, Validation Accuracy: 0.6218, Loss: 0.6148\n",
      "Epoch   2 Batch  140/689 - Train Accuracy: 0.6312, Validation Accuracy: 0.6198, Loss: 0.5746\n",
      "Epoch   2 Batch  150/689 - Train Accuracy: 0.6490, Validation Accuracy: 0.6182, Loss: 0.5615\n",
      "Epoch   2 Batch  160/689 - Train Accuracy: 0.6305, Validation Accuracy: 0.6186, Loss: 0.5608\n",
      "Epoch   2 Batch  170/689 - Train Accuracy: 0.5964, Validation Accuracy: 0.6052, Loss: 0.5559\n",
      "Epoch   2 Batch  180/689 - Train Accuracy: 0.5913, Validation Accuracy: 0.6016, Loss: 0.6218\n",
      "Epoch   2 Batch  190/689 - Train Accuracy: 0.5920, Validation Accuracy: 0.6152, Loss: 0.6275\n",
      "Epoch   2 Batch  200/689 - Train Accuracy: 0.6038, Validation Accuracy: 0.6152, Loss: 0.5768\n",
      "Epoch   2 Batch  210/689 - Train Accuracy: 0.6255, Validation Accuracy: 0.6248, Loss: 0.5692\n",
      "Epoch   2 Batch  220/689 - Train Accuracy: 0.6229, Validation Accuracy: 0.6211, Loss: 0.5744\n",
      "Epoch   2 Batch  230/689 - Train Accuracy: 0.6258, Validation Accuracy: 0.6170, Loss: 0.5735\n",
      "Epoch   2 Batch  240/689 - Train Accuracy: 0.6239, Validation Accuracy: 0.6230, Loss: 0.5555\n",
      "Epoch   2 Batch  250/689 - Train Accuracy: 0.6095, Validation Accuracy: 0.6248, Loss: 0.5507\n",
      "Epoch   2 Batch  260/689 - Train Accuracy: 0.6258, Validation Accuracy: 0.6257, Loss: 0.6203\n",
      "Epoch   2 Batch  270/689 - Train Accuracy: 0.6067, Validation Accuracy: 0.6159, Loss: 0.5550\n",
      "Epoch   2 Batch  280/689 - Train Accuracy: 0.6008, Validation Accuracy: 0.6155, Loss: 0.5725\n",
      "Epoch   2 Batch  290/689 - Train Accuracy: 0.6228, Validation Accuracy: 0.6177, Loss: 0.5817\n",
      "Epoch   2 Batch  300/689 - Train Accuracy: 0.5975, Validation Accuracy: 0.6314, Loss: 0.5617\n",
      "Epoch   2 Batch  310/689 - Train Accuracy: 0.6452, Validation Accuracy: 0.6270, Loss: 0.5515\n",
      "Epoch   2 Batch  320/689 - Train Accuracy: 0.5958, Validation Accuracy: 0.6289, Loss: 0.5473\n",
      "Epoch   2 Batch  330/689 - Train Accuracy: 0.6571, Validation Accuracy: 0.6375, Loss: 0.5319\n",
      "Epoch   2 Batch  340/689 - Train Accuracy: 0.5797, Validation Accuracy: 0.6216, Loss: 0.5808\n",
      "Epoch   2 Batch  350/689 - Train Accuracy: 0.6292, Validation Accuracy: 0.6309, Loss: 0.5631\n",
      "Epoch   2 Batch  360/689 - Train Accuracy: 0.6348, Validation Accuracy: 0.6350, Loss: 0.5766\n",
      "Epoch   2 Batch  370/689 - Train Accuracy: 0.6228, Validation Accuracy: 0.6314, Loss: 0.5403\n",
      "Epoch   2 Batch  380/689 - Train Accuracy: 0.6065, Validation Accuracy: 0.6198, Loss: 0.5571\n",
      "Epoch   2 Batch  390/689 - Train Accuracy: 0.6040, Validation Accuracy: 0.6382, Loss: 0.5460\n",
      "Epoch   2 Batch  400/689 - Train Accuracy: 0.6677, Validation Accuracy: 0.6409, Loss: 0.5039\n",
      "Epoch   2 Batch  410/689 - Train Accuracy: 0.5925, Validation Accuracy: 0.6405, Loss: 0.5590\n",
      "Epoch   2 Batch  420/689 - Train Accuracy: 0.6528, Validation Accuracy: 0.6234, Loss: 0.5427\n"
     ]
    },
    {
     "name": "stdout",
     "output_type": "stream",
     "text": [
      "Epoch   2 Batch  430/689 - Train Accuracy: 0.6210, Validation Accuracy: 0.6414, Loss: 0.5222\n",
      "Epoch   2 Batch  440/689 - Train Accuracy: 0.6188, Validation Accuracy: 0.6330, Loss: 0.5226\n",
      "Epoch   2 Batch  450/689 - Train Accuracy: 0.5970, Validation Accuracy: 0.6302, Loss: 0.5449\n",
      "Epoch   2 Batch  460/689 - Train Accuracy: 0.6062, Validation Accuracy: 0.6282, Loss: 0.5445\n",
      "Epoch   2 Batch  470/689 - Train Accuracy: 0.6418, Validation Accuracy: 0.6320, Loss: 0.5026\n",
      "Epoch   2 Batch  480/689 - Train Accuracy: 0.6215, Validation Accuracy: 0.6345, Loss: 0.5249\n",
      "Epoch   2 Batch  490/689 - Train Accuracy: 0.5893, Validation Accuracy: 0.6327, Loss: 0.5396\n",
      "Epoch   2 Batch  500/689 - Train Accuracy: 0.6400, Validation Accuracy: 0.6305, Loss: 0.5099\n",
      "Epoch   2 Batch  510/689 - Train Accuracy: 0.6185, Validation Accuracy: 0.6309, Loss: 0.5277\n",
      "Epoch   2 Batch  520/689 - Train Accuracy: 0.6269, Validation Accuracy: 0.6370, Loss: 0.4943\n",
      "Epoch   2 Batch  530/689 - Train Accuracy: 0.6305, Validation Accuracy: 0.6382, Loss: 0.5241\n",
      "Epoch   2 Batch  540/689 - Train Accuracy: 0.6321, Validation Accuracy: 0.6407, Loss: 0.4910\n",
      "Epoch   2 Batch  550/689 - Train Accuracy: 0.6193, Validation Accuracy: 0.6352, Loss: 0.5211\n",
      "Epoch   2 Batch  560/689 - Train Accuracy: 0.5985, Validation Accuracy: 0.6239, Loss: 0.5254\n",
      "Epoch   2 Batch  570/689 - Train Accuracy: 0.6468, Validation Accuracy: 0.6439, Loss: 0.4843\n",
      "Epoch   2 Batch  580/689 - Train Accuracy: 0.6152, Validation Accuracy: 0.6327, Loss: 0.5163\n",
      "Epoch   2 Batch  590/689 - Train Accuracy: 0.5929, Validation Accuracy: 0.6245, Loss: 0.4926\n",
      "Epoch   2 Batch  600/689 - Train Accuracy: 0.6458, Validation Accuracy: 0.6509, Loss: 0.5206\n",
      "Epoch   2 Batch  610/689 - Train Accuracy: 0.5767, Validation Accuracy: 0.6309, Loss: 0.5220\n",
      "Epoch   2 Batch  620/689 - Train Accuracy: 0.6660, Validation Accuracy: 0.6275, Loss: 0.4892\n",
      "Epoch   2 Batch  630/689 - Train Accuracy: 0.6402, Validation Accuracy: 0.6466, Loss: 0.4955\n",
      "Epoch   2 Batch  640/689 - Train Accuracy: 0.6545, Validation Accuracy: 0.6432, Loss: 0.4464\n",
      "Epoch   2 Batch  650/689 - Train Accuracy: 0.5855, Validation Accuracy: 0.6482, Loss: 0.5092\n",
      "Epoch   2 Batch  660/689 - Train Accuracy: 0.6362, Validation Accuracy: 0.6552, Loss: 0.4993\n",
      "Epoch   2 Batch  670/689 - Train Accuracy: 0.6260, Validation Accuracy: 0.6452, Loss: 0.4991\n",
      "Epoch   2 Batch  680/689 - Train Accuracy: 0.6465, Validation Accuracy: 0.6561, Loss: 0.4926\n",
      "Epoch   3 Batch   10/689 - Train Accuracy: 0.6410, Validation Accuracy: 0.6477, Loss: 0.4819\n",
      "Epoch   3 Batch   20/689 - Train Accuracy: 0.6657, Validation Accuracy: 0.6448, Loss: 0.4598\n",
      "Epoch   3 Batch   30/689 - Train Accuracy: 0.6635, Validation Accuracy: 0.6461, Loss: 0.5021\n",
      "Epoch   3 Batch   40/689 - Train Accuracy: 0.6338, Validation Accuracy: 0.6507, Loss: 0.4532\n",
      "Epoch   3 Batch   50/689 - Train Accuracy: 0.6338, Validation Accuracy: 0.6561, Loss: 0.4798\n",
      "Epoch   3 Batch   60/689 - Train Accuracy: 0.6769, Validation Accuracy: 0.6491, Loss: 0.4568\n",
      "Epoch   3 Batch   70/689 - Train Accuracy: 0.6502, Validation Accuracy: 0.6509, Loss: 0.4606\n",
      "Epoch   3 Batch   80/689 - Train Accuracy: 0.6405, Validation Accuracy: 0.6525, Loss: 0.4645\n",
      "Epoch   3 Batch   90/689 - Train Accuracy: 0.6607, Validation Accuracy: 0.6470, Loss: 0.4591\n",
      "Epoch   3 Batch  100/689 - Train Accuracy: 0.6450, Validation Accuracy: 0.6477, Loss: 0.4586\n",
      "Epoch   3 Batch  110/689 - Train Accuracy: 0.6562, Validation Accuracy: 0.6507, Loss: 0.4408\n",
      "Epoch   3 Batch  120/689 - Train Accuracy: 0.6368, Validation Accuracy: 0.6532, Loss: 0.4739\n",
      "Epoch   3 Batch  130/689 - Train Accuracy: 0.6440, Validation Accuracy: 0.6566, Loss: 0.4804\n",
      "Epoch   3 Batch  140/689 - Train Accuracy: 0.6723, Validation Accuracy: 0.6636, Loss: 0.4488\n",
      "Epoch   3 Batch  150/689 - Train Accuracy: 0.6900, Validation Accuracy: 0.6516, Loss: 0.4461\n",
      "Epoch   3 Batch  160/689 - Train Accuracy: 0.6636, Validation Accuracy: 0.6618, Loss: 0.4402\n",
      "Epoch   3 Batch  170/689 - Train Accuracy: 0.6364, Validation Accuracy: 0.6577, Loss: 0.4395\n",
      "Epoch   3 Batch  180/689 - Train Accuracy: 0.6142, Validation Accuracy: 0.6539, Loss: 0.4901\n",
      "Epoch   3 Batch  190/689 - Train Accuracy: 0.6162, Validation Accuracy: 0.6586, Loss: 0.4826\n",
      "Epoch   3 Batch  200/689 - Train Accuracy: 0.6565, Validation Accuracy: 0.6682, Loss: 0.4457\n",
      "Epoch   3 Batch  210/689 - Train Accuracy: 0.6783, Validation Accuracy: 0.6682, Loss: 0.4284\n",
      "Epoch   3 Batch  220/689 - Train Accuracy: 0.6586, Validation Accuracy: 0.6741, Loss: 0.4467\n",
      "Epoch   3 Batch  230/689 - Train Accuracy: 0.6508, Validation Accuracy: 0.6655, Loss: 0.4468\n",
      "Epoch   3 Batch  240/689 - Train Accuracy: 0.6605, Validation Accuracy: 0.6600, Loss: 0.4440\n",
      "Epoch   3 Batch  250/689 - Train Accuracy: 0.6493, Validation Accuracy: 0.6652, Loss: 0.4285\n",
      "Epoch   3 Batch  260/689 - Train Accuracy: 0.6460, Validation Accuracy: 0.6595, Loss: 0.4628\n",
      "Epoch   3 Batch  270/689 - Train Accuracy: 0.6548, Validation Accuracy: 0.6698, Loss: 0.4368\n",
      "Epoch   3 Batch  280/689 - Train Accuracy: 0.6395, Validation Accuracy: 0.6625, Loss: 0.4449\n",
      "Epoch   3 Batch  290/689 - Train Accuracy: 0.6382, Validation Accuracy: 0.6736, Loss: 0.4613\n",
      "Epoch   3 Batch  300/689 - Train Accuracy: 0.6412, Validation Accuracy: 0.6680, Loss: 0.4406\n",
      "Epoch   3 Batch  310/689 - Train Accuracy: 0.6855, Validation Accuracy: 0.6636, Loss: 0.4353\n",
      "Epoch   3 Batch  320/689 - Train Accuracy: 0.6490, Validation Accuracy: 0.6761, Loss: 0.4284\n",
      "Epoch   3 Batch  330/689 - Train Accuracy: 0.7014, Validation Accuracy: 0.6620, Loss: 0.4233\n",
      "Epoch   3 Batch  340/689 - Train Accuracy: 0.6300, Validation Accuracy: 0.6750, Loss: 0.4671\n",
      "Epoch   3 Batch  350/689 - Train Accuracy: 0.6625, Validation Accuracy: 0.6643, Loss: 0.4399\n",
      "Epoch   3 Batch  360/689 - Train Accuracy: 0.6683, Validation Accuracy: 0.6893, Loss: 0.4533\n",
      "Epoch   3 Batch  370/689 - Train Accuracy: 0.6750, Validation Accuracy: 0.6798, Loss: 0.4279\n",
      "Epoch   3 Batch  380/689 - Train Accuracy: 0.6345, Validation Accuracy: 0.6755, Loss: 0.4450\n",
      "Epoch   3 Batch  390/689 - Train Accuracy: 0.6667, Validation Accuracy: 0.6727, Loss: 0.4266\n",
      "Epoch   3 Batch  400/689 - Train Accuracy: 0.7114, Validation Accuracy: 0.6741, Loss: 0.3992\n",
      "Epoch   3 Batch  410/689 - Train Accuracy: 0.6472, Validation Accuracy: 0.6761, Loss: 0.4440\n",
      "Epoch   3 Batch  420/689 - Train Accuracy: 0.6823, Validation Accuracy: 0.6700, Loss: 0.4336\n",
      "Epoch   3 Batch  430/689 - Train Accuracy: 0.6507, Validation Accuracy: 0.6741, Loss: 0.4027\n",
      "Epoch   3 Batch  440/689 - Train Accuracy: 0.6567, Validation Accuracy: 0.6661, Loss: 0.4090\n",
      "Epoch   3 Batch  450/689 - Train Accuracy: 0.6745, Validation Accuracy: 0.6843, Loss: 0.4312\n",
      "Epoch   3 Batch  460/689 - Train Accuracy: 0.6472, Validation Accuracy: 0.6830, Loss: 0.4342\n",
      "Epoch   3 Batch  470/689 - Train Accuracy: 0.6713, Validation Accuracy: 0.6889, Loss: 0.3975\n",
      "Epoch   3 Batch  480/689 - Train Accuracy: 0.6715, Validation Accuracy: 0.6877, Loss: 0.4213\n",
      "Epoch   3 Batch  490/689 - Train Accuracy: 0.6415, Validation Accuracy: 0.6911, Loss: 0.4147\n",
      "Epoch   3 Batch  500/689 - Train Accuracy: 0.6890, Validation Accuracy: 0.6973, Loss: 0.4046\n",
      "Epoch   3 Batch  510/689 - Train Accuracy: 0.6653, Validation Accuracy: 0.6993, Loss: 0.4108\n",
      "Epoch   3 Batch  520/689 - Train Accuracy: 0.6800, Validation Accuracy: 0.6898, Loss: 0.3947\n",
      "Epoch   3 Batch  530/689 - Train Accuracy: 0.6767, Validation Accuracy: 0.6970, Loss: 0.4119\n",
      "Epoch   3 Batch  540/689 - Train Accuracy: 0.6936, Validation Accuracy: 0.7025, Loss: 0.3935\n",
      "Epoch   3 Batch  550/689 - Train Accuracy: 0.6793, Validation Accuracy: 0.6841, Loss: 0.4129\n",
      "Epoch   3 Batch  560/689 - Train Accuracy: 0.6498, Validation Accuracy: 0.6948, Loss: 0.4254\n",
      "Epoch   3 Batch  570/689 - Train Accuracy: 0.6993, Validation Accuracy: 0.6925, Loss: 0.3845\n",
      "Epoch   3 Batch  580/689 - Train Accuracy: 0.6645, Validation Accuracy: 0.6845, Loss: 0.4120\n",
      "Epoch   3 Batch  590/689 - Train Accuracy: 0.6593, Validation Accuracy: 0.6882, Loss: 0.3879\n",
      "Epoch   3 Batch  600/689 - Train Accuracy: 0.7010, Validation Accuracy: 0.7009, Loss: 0.4066\n",
      "Epoch   3 Batch  610/689 - Train Accuracy: 0.6130, Validation Accuracy: 0.6945, Loss: 0.4127\n",
      "Epoch   3 Batch  620/689 - Train Accuracy: 0.6990, Validation Accuracy: 0.6811, Loss: 0.3883\n",
      "Epoch   3 Batch  630/689 - Train Accuracy: 0.6895, Validation Accuracy: 0.6841, Loss: 0.3899\n"
     ]
    },
    {
     "name": "stdout",
     "output_type": "stream",
     "text": [
      "Epoch   3 Batch  640/689 - Train Accuracy: 0.6730, Validation Accuracy: 0.6655, Loss: 0.3521\n",
      "Epoch   3 Batch  650/689 - Train Accuracy: 0.6400, Validation Accuracy: 0.6795, Loss: 0.4139\n",
      "Epoch   3 Batch  660/689 - Train Accuracy: 0.6869, Validation Accuracy: 0.6948, Loss: 0.4069\n",
      "Epoch   3 Batch  670/689 - Train Accuracy: 0.6753, Validation Accuracy: 0.6893, Loss: 0.3983\n",
      "Epoch   3 Batch  680/689 - Train Accuracy: 0.7017, Validation Accuracy: 0.7061, Loss: 0.3894\n",
      "Epoch   4 Batch   10/689 - Train Accuracy: 0.6745, Validation Accuracy: 0.7052, Loss: 0.3833\n",
      "Epoch   4 Batch   20/689 - Train Accuracy: 0.7060, Validation Accuracy: 0.6864, Loss: 0.3612\n",
      "Epoch   4 Batch   30/689 - Train Accuracy: 0.7163, Validation Accuracy: 0.7164, Loss: 0.4041\n",
      "Epoch   4 Batch   40/689 - Train Accuracy: 0.7176, Validation Accuracy: 0.7166, Loss: 0.3536\n",
      "Epoch   4 Batch   50/689 - Train Accuracy: 0.6877, Validation Accuracy: 0.7361, Loss: 0.3879\n",
      "Epoch   4 Batch   60/689 - Train Accuracy: 0.7555, Validation Accuracy: 0.7323, Loss: 0.3585\n",
      "Epoch   4 Batch   70/689 - Train Accuracy: 0.6913, Validation Accuracy: 0.7334, Loss: 0.3616\n",
      "Epoch   4 Batch   80/689 - Train Accuracy: 0.7021, Validation Accuracy: 0.7473, Loss: 0.3677\n",
      "Epoch   4 Batch   90/689 - Train Accuracy: 0.7090, Validation Accuracy: 0.7216, Loss: 0.3634\n",
      "Epoch   4 Batch  100/689 - Train Accuracy: 0.7238, Validation Accuracy: 0.7152, Loss: 0.3683\n",
      "Epoch   4 Batch  110/689 - Train Accuracy: 0.7186, Validation Accuracy: 0.7407, Loss: 0.3421\n",
      "Epoch   4 Batch  120/689 - Train Accuracy: 0.7120, Validation Accuracy: 0.7245, Loss: 0.3749\n",
      "Epoch   4 Batch  130/689 - Train Accuracy: 0.6930, Validation Accuracy: 0.7073, Loss: 0.3782\n",
      "Epoch   4 Batch  140/689 - Train Accuracy: 0.7648, Validation Accuracy: 0.7470, Loss: 0.3463\n",
      "Epoch   4 Batch  150/689 - Train Accuracy: 0.7238, Validation Accuracy: 0.7334, Loss: 0.3454\n",
      "Epoch   4 Batch  160/689 - Train Accuracy: 0.7584, Validation Accuracy: 0.7350, Loss: 0.3441\n",
      "Epoch   4 Batch  170/689 - Train Accuracy: 0.7005, Validation Accuracy: 0.7345, Loss: 0.3428\n",
      "Epoch   4 Batch  180/689 - Train Accuracy: 0.7183, Validation Accuracy: 0.7468, Loss: 0.3772\n",
      "Epoch   4 Batch  190/689 - Train Accuracy: 0.7105, Validation Accuracy: 0.7323, Loss: 0.3673\n",
      "Epoch   4 Batch  200/689 - Train Accuracy: 0.7382, Validation Accuracy: 0.7475, Loss: 0.3400\n",
      "Epoch   4 Batch  210/689 - Train Accuracy: 0.7160, Validation Accuracy: 0.7032, Loss: 0.3374\n",
      "Epoch   4 Batch  220/689 - Train Accuracy: 0.7267, Validation Accuracy: 0.7077, Loss: 0.3448\n",
      "Epoch   4 Batch  230/689 - Train Accuracy: 0.7398, Validation Accuracy: 0.7270, Loss: 0.3385\n",
      "Epoch   4 Batch  240/689 - Train Accuracy: 0.7359, Validation Accuracy: 0.7320, Loss: 0.3471\n",
      "Epoch   4 Batch  250/689 - Train Accuracy: 0.7740, Validation Accuracy: 0.7211, Loss: 0.3283\n",
      "Epoch   4 Batch  260/689 - Train Accuracy: 0.7238, Validation Accuracy: 0.7209, Loss: 0.3612\n",
      "Epoch   4 Batch  270/689 - Train Accuracy: 0.7295, Validation Accuracy: 0.7166, Loss: 0.3300\n",
      "Epoch   4 Batch  280/689 - Train Accuracy: 0.7510, Validation Accuracy: 0.7173, Loss: 0.3369\n",
      "Epoch   4 Batch  290/689 - Train Accuracy: 0.7300, Validation Accuracy: 0.7200, Loss: 0.3596\n",
      "Epoch   4 Batch  300/689 - Train Accuracy: 0.7535, Validation Accuracy: 0.7195, Loss: 0.3343\n",
      "Epoch   4 Batch  310/689 - Train Accuracy: 0.7840, Validation Accuracy: 0.7389, Loss: 0.3225\n",
      "Epoch   4 Batch  320/689 - Train Accuracy: 0.7340, Validation Accuracy: 0.7334, Loss: 0.3290\n",
      "Epoch   4 Batch  330/689 - Train Accuracy: 0.7700, Validation Accuracy: 0.7382, Loss: 0.3242\n",
      "Epoch   4 Batch  340/689 - Train Accuracy: 0.7345, Validation Accuracy: 0.7323, Loss: 0.3632\n",
      "Epoch   4 Batch  350/689 - Train Accuracy: 0.7847, Validation Accuracy: 0.7457, Loss: 0.3310\n",
      "Epoch   4 Batch  360/689 - Train Accuracy: 0.7508, Validation Accuracy: 0.7473, Loss: 0.3339\n",
      "Epoch   4 Batch  370/689 - Train Accuracy: 0.7578, Validation Accuracy: 0.7491, Loss: 0.3186\n",
      "Epoch   4 Batch  380/689 - Train Accuracy: 0.7562, Validation Accuracy: 0.7468, Loss: 0.3291\n",
      "Epoch   4 Batch  390/689 - Train Accuracy: 0.7655, Validation Accuracy: 0.7452, Loss: 0.3182\n",
      "Epoch   4 Batch  400/689 - Train Accuracy: 0.7702, Validation Accuracy: 0.7577, Loss: 0.3052\n",
      "Epoch   4 Batch  410/689 - Train Accuracy: 0.7672, Validation Accuracy: 0.7482, Loss: 0.3240\n",
      "Epoch   4 Batch  420/689 - Train Accuracy: 0.7652, Validation Accuracy: 0.7425, Loss: 0.3259\n",
      "Epoch   4 Batch  430/689 - Train Accuracy: 0.7398, Validation Accuracy: 0.7530, Loss: 0.3037\n",
      "Epoch   4 Batch  440/689 - Train Accuracy: 0.7920, Validation Accuracy: 0.7380, Loss: 0.2929\n",
      "Epoch   4 Batch  450/689 - Train Accuracy: 0.7720, Validation Accuracy: 0.7398, Loss: 0.3188\n",
      "Epoch   4 Batch  460/689 - Train Accuracy: 0.7370, Validation Accuracy: 0.7309, Loss: 0.3013\n",
      "Epoch   4 Batch  470/689 - Train Accuracy: 0.7695, Validation Accuracy: 0.7377, Loss: 0.2807\n",
      "Epoch   4 Batch  480/689 - Train Accuracy: 0.7840, Validation Accuracy: 0.7570, Loss: 0.2926\n",
      "Epoch   4 Batch  490/689 - Train Accuracy: 0.7572, Validation Accuracy: 0.7564, Loss: 0.2989\n",
      "Epoch   4 Batch  500/689 - Train Accuracy: 0.7588, Validation Accuracy: 0.7702, Loss: 0.2842\n",
      "Epoch   4 Batch  510/689 - Train Accuracy: 0.7468, Validation Accuracy: 0.7507, Loss: 0.2965\n",
      "Epoch   4 Batch  520/689 - Train Accuracy: 0.7638, Validation Accuracy: 0.7482, Loss: 0.2760\n",
      "Epoch   4 Batch  530/689 - Train Accuracy: 0.7778, Validation Accuracy: 0.7514, Loss: 0.2860\n",
      "Epoch   4 Batch  540/689 - Train Accuracy: 0.7798, Validation Accuracy: 0.7593, Loss: 0.2599\n",
      "Epoch   4 Batch  550/689 - Train Accuracy: 0.7564, Validation Accuracy: 0.7555, Loss: 0.2693\n",
      "Epoch   4 Batch  560/689 - Train Accuracy: 0.7718, Validation Accuracy: 0.7768, Loss: 0.2808\n",
      "Epoch   4 Batch  570/689 - Train Accuracy: 0.7823, Validation Accuracy: 0.7702, Loss: 0.2491\n",
      "Epoch   4 Batch  580/689 - Train Accuracy: 0.7542, Validation Accuracy: 0.7386, Loss: 0.2724\n",
      "Epoch   4 Batch  590/689 - Train Accuracy: 0.7860, Validation Accuracy: 0.7723, Loss: 0.2608\n",
      "Epoch   4 Batch  600/689 - Train Accuracy: 0.7870, Validation Accuracy: 0.7591, Loss: 0.2738\n",
      "Epoch   4 Batch  610/689 - Train Accuracy: 0.7352, Validation Accuracy: 0.7518, Loss: 0.2739\n",
      "Epoch   4 Batch  620/689 - Train Accuracy: 0.7929, Validation Accuracy: 0.7698, Loss: 0.2561\n",
      "Epoch   4 Batch  630/689 - Train Accuracy: 0.7780, Validation Accuracy: 0.7745, Loss: 0.2577\n",
      "Epoch   4 Batch  640/689 - Train Accuracy: 0.8191, Validation Accuracy: 0.7873, Loss: 0.2283\n",
      "Epoch   4 Batch  650/689 - Train Accuracy: 0.7488, Validation Accuracy: 0.7768, Loss: 0.2578\n",
      "Epoch   4 Batch  660/689 - Train Accuracy: 0.8040, Validation Accuracy: 0.7855, Loss: 0.2605\n",
      "Epoch   4 Batch  670/689 - Train Accuracy: 0.7907, Validation Accuracy: 0.7691, Loss: 0.2425\n",
      "Epoch   4 Batch  680/689 - Train Accuracy: 0.7940, Validation Accuracy: 0.7834, Loss: 0.2604\n",
      "Model Trained and Saved\n"
     ]
    }
   ],
   "source": [
    "\"\"\"\n",
    "DON'T MODIFY ANYTHING IN THIS CELL\n",
    "\"\"\"\n",
    "def get_accuracy(target, logits):\n",
    "    \"\"\"\n",
    "    Calculate accuracy\n",
    "    \"\"\"\n",
    "    max_seq = max(target.shape[1], logits.shape[1])\n",
    "    if max_seq - target.shape[1]:\n",
    "        target = np.pad(\n",
    "            target,\n",
    "            [(0,0),(0,max_seq - target.shape[1])],\n",
    "            'constant')\n",
    "    if max_seq - logits.shape[1]:\n",
    "        logits = np.pad(\n",
    "            logits,\n",
    "            [(0,0),(0,max_seq - logits.shape[1])],\n",
    "            'constant')\n",
    "\n",
    "    return np.mean(np.equal(target, logits))\n",
    "\n",
    "# Split data to training and validation sets\n",
    "train_source = source_int_text[batch_size:]\n",
    "train_target = target_int_text[batch_size:]\n",
    "valid_source = source_int_text[:batch_size]\n",
    "valid_target = target_int_text[:batch_size]\n",
    "(valid_sources_batch, valid_targets_batch, valid_sources_lengths, valid_targets_lengths ) = next(get_batches(valid_source,\n",
    "                                                                                                             valid_target,\n",
    "                                                                                                             batch_size,\n",
    "                                                                                                             source_vocab_to_int['<PAD>'],\n",
    "                                                                                                             target_vocab_to_int['<PAD>']))                                                                                                  \n",
    "with tf.Session(graph=train_graph) as sess:\n",
    "    sess.run(tf.global_variables_initializer())\n",
    "\n",
    "    for epoch_i in range(epochs):\n",
    "        for batch_i, (source_batch, target_batch, sources_lengths, targets_lengths) in enumerate(\n",
    "                get_batches(train_source, train_target, batch_size,\n",
    "                            source_vocab_to_int['<PAD>'],\n",
    "                            target_vocab_to_int['<PAD>'])):\n",
    "\n",
    "            _, loss = sess.run(\n",
    "                [train_op, cost],\n",
    "                {input_data: source_batch,\n",
    "                 targets: target_batch,\n",
    "                 lr: learning_rate,\n",
    "                 target_sequence_length: targets_lengths,\n",
    "                 source_sequence_length: sources_lengths,\n",
    "                 keep_prob: keep_probability})\n",
    "\n",
    "\n",
    "            if batch_i % display_step == 0 and batch_i > 0:\n",
    "\n",
    "\n",
    "                batch_train_logits = sess.run(\n",
    "                    inference_logits,\n",
    "                    {input_data: source_batch,\n",
    "                     source_sequence_length: sources_lengths,\n",
    "                     target_sequence_length: targets_lengths,\n",
    "                     keep_prob: 1.0})\n",
    "\n",
    "\n",
    "                batch_valid_logits = sess.run(\n",
    "                    inference_logits,\n",
    "                    {input_data: valid_sources_batch,\n",
    "                     source_sequence_length: valid_sources_lengths,\n",
    "                     target_sequence_length: valid_targets_lengths,\n",
    "                     keep_prob: 1.0})\n",
    "\n",
    "                train_acc = get_accuracy(target_batch, batch_train_logits)\n",
    "\n",
    "                valid_acc = get_accuracy(valid_targets_batch, batch_valid_logits)\n",
    "\n",
    "                print('Epoch {:>3} Batch {:>4}/{} - Train Accuracy: {:>6.4f}, Validation Accuracy: {:>6.4f}, Loss: {:>6.4f}'\n",
    "                      .format(epoch_i, batch_i, len(source_int_text) // batch_size, train_acc, valid_acc, loss))\n",
    "\n",
    "    # Save Model\n",
    "    saver = tf.train.Saver()\n",
    "    saver.save(sess, save_path)\n",
    "    print('Model Trained and Saved')"
   ]
  },
  {
   "cell_type": "markdown",
   "metadata": {},
   "source": [
    "### Save Parameters\n",
    "Save the `batch_size` and `save_path` parameters for inference."
   ]
  },
  {
   "cell_type": "code",
   "execution_count": 59,
   "metadata": {
    "collapsed": true
   },
   "outputs": [],
   "source": [
    "\"\"\"\n",
    "DON'T MODIFY ANYTHING IN THIS CELL\n",
    "\"\"\"\n",
    "# Save parameters for checkpoint\n",
    "helper.save_params(save_path)"
   ]
  },
  {
   "cell_type": "markdown",
   "metadata": {},
   "source": [
    "# Checkpoint"
   ]
  },
  {
   "cell_type": "code",
   "execution_count": 60,
   "metadata": {
    "collapsed": true
   },
   "outputs": [],
   "source": [
    "\"\"\"\n",
    "DON'T MODIFY ANYTHING IN THIS CELL\n",
    "\"\"\"\n",
    "import tensorflow as tf\n",
    "import numpy as np\n",
    "import helper\n",
    "import problem_unittests as tests\n",
    "\n",
    "_, (source_vocab_to_int, target_vocab_to_int), (source_int_to_vocab, target_int_to_vocab) = helper.load_preprocess()\n",
    "load_path = helper.load_params()"
   ]
  },
  {
   "cell_type": "markdown",
   "metadata": {},
   "source": [
    "## Sentence to Sequence\n",
    "To feed a sentence into the model for translation, you first need to preprocess it.  Implement the function `sentence_to_seq()` to preprocess new sentences.\n",
    "\n",
    "- Convert the sentence to lowercase\n",
    "- Convert words into ids using `vocab_to_int`\n",
    " - Convert words not in the vocabulary, to the `<UNK>` word id."
   ]
  },
  {
   "cell_type": "code",
   "execution_count": 61,
   "metadata": {},
   "outputs": [
    {
     "name": "stdout",
     "output_type": "stream",
     "text": [
      "Tests Passed\n"
     ]
    }
   ],
   "source": [
    "def sentence_to_seq(sentence, vocab_to_int):\n",
    "    \"\"\"\n",
    "    Convert a sentence to a sequence of ids\n",
    "    :param sentence: String\n",
    "    :param vocab_to_int: Dictionary to go from the words to an id\n",
    "    :return: List of word ids\n",
    "    \"\"\"\n",
    "    # TODO: Implement Function\n",
    "    lowered = sentence.lower()\n",
    "    ints = []\n",
    "    for each in sentence.lower().split():\n",
    "        if each in vocab_to_int:\n",
    "            ints.append(vocab_to_int[each])\n",
    "        else :\n",
    "            ints.append(vocab_to_int['<UNK>'])\n",
    "    return ints\n",
    "\n",
    "\n",
    "\"\"\"\n",
    "DON'T MODIFY ANYTHING IN THIS CELL THAT IS BELOW THIS LINE\n",
    "\"\"\"\n",
    "tests.test_sentence_to_seq(sentence_to_seq)"
   ]
  },
  {
   "cell_type": "markdown",
   "metadata": {},
   "source": [
    "## Translate\n",
    "This will translate `translate_sentence` from English to French."
   ]
  },
  {
   "cell_type": "code",
   "execution_count": 62,
   "metadata": {},
   "outputs": [
    {
     "name": "stdout",
     "output_type": "stream",
     "text": [
      "INFO:tensorflow:Restoring parameters from checkpoints/dev\n",
      "Input\n",
      "  Word Ids:      [222, 224, 230, 187, 119, 94, 120]\n",
      "  English Words: ['he', 'saw', 'a', 'old', 'yellow', 'truck', '.']\n",
      "\n",
      "Prediction\n",
      "  Word Ids:      [283, 266, 332, 144, 280, 226, 1]\n",
      "  French Words: il aime une voiture bleue . <EOS>\n"
     ]
    }
   ],
   "source": [
    "translate_sentence = 'he saw a old yellow truck .'\n",
    "\n",
    "\n",
    "\"\"\"\n",
    "DON'T MODIFY ANYTHING IN THIS CELL\n",
    "\"\"\"\n",
    "translate_sentence = sentence_to_seq(translate_sentence, source_vocab_to_int)\n",
    "\n",
    "loaded_graph = tf.Graph()\n",
    "with tf.Session(graph=loaded_graph) as sess:\n",
    "    # Load saved model\n",
    "    loader = tf.train.import_meta_graph(load_path + '.meta')\n",
    "    loader.restore(sess, load_path)\n",
    "\n",
    "    input_data = loaded_graph.get_tensor_by_name('input:0')\n",
    "    logits = loaded_graph.get_tensor_by_name('predictions:0')\n",
    "    target_sequence_length = loaded_graph.get_tensor_by_name('target_sequence_length:0')\n",
    "    source_sequence_length = loaded_graph.get_tensor_by_name('source_sequence_length:0')\n",
    "    keep_prob = loaded_graph.get_tensor_by_name('keep_prob:0')\n",
    "\n",
    "    translate_logits = sess.run(logits, {input_data: [translate_sentence]*batch_size,\n",
    "                                         target_sequence_length: [len(translate_sentence)*2]*batch_size,\n",
    "                                         source_sequence_length: [len(translate_sentence)]*batch_size,\n",
    "                                         keep_prob: 1.0})[0]\n",
    "\n",
    "print('Input')\n",
    "print('  Word Ids:      {}'.format([i for i in translate_sentence]))\n",
    "print('  English Words: {}'.format([source_int_to_vocab[i] for i in translate_sentence]))\n",
    "\n",
    "print('\\nPrediction')\n",
    "print('  Word Ids:      {}'.format([i for i in translate_logits]))\n",
    "print('  French Words: {}'.format(\" \".join([target_int_to_vocab[i] for i in translate_logits])))\n"
   ]
  },
  {
   "cell_type": "markdown",
   "metadata": {},
   "source": [
    "## Imperfect Translation\n",
    "You might notice that some sentences translate better than others.  Since the dataset you're using only has a vocabulary of 227 English words of the thousands that you use, you're only going to see good results using these words.  For this project, you don't need a perfect translation. However, if you want to create a better translation model, you'll need better data.\n",
    "\n",
    "You can train on the [WMT10 French-English corpus](http://www.statmt.org/wmt10/training-giga-fren.tar).  This dataset has more vocabulary and richer in topics discussed.  However, this will take you days to train, so make sure you've a GPU and the neural network is performing well on dataset we provided.  Just make sure you play with the WMT10 corpus after you've submitted this project.\n",
    "## Submitting This Project\n",
    "When submitting this project, make sure to run all the cells before saving the notebook. Save the notebook file as \"dlnd_language_translation.ipynb\" and save it as a HTML file under \"File\" -> \"Download as\". Include the \"helper.py\" and \"problem_unittests.py\" files in your submission."
   ]
  }
 ],
 "metadata": {
  "anaconda-cloud": {},
  "kernelspec": {
   "display_name": "Python [default]",
   "language": "python",
   "name": "python3"
  },
  "language_info": {
   "codemirror_mode": {
    "name": "ipython",
    "version": 3
   },
   "file_extension": ".py",
   "mimetype": "text/x-python",
   "name": "python",
   "nbconvert_exporter": "python",
   "pygments_lexer": "ipython3",
   "version": "3.6.2"
  }
 },
 "nbformat": 4,
 "nbformat_minor": 1
}
