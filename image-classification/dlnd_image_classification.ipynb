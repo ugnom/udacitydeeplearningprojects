{
 "cells": [
  {
   "cell_type": "markdown",
   "metadata": {
    "collapsed": true
   },
   "source": [
    "# Image Classification\n",
    "In this project, you'll classify images from the [CIFAR-10 dataset](https://www.cs.toronto.edu/~kriz/cifar.html).  The dataset consists of airplanes, dogs, cats, and other objects. You'll preprocess the images, then train a convolutional neural network on all the samples. The images need to be normalized and the labels need to be one-hot encoded.  You'll get to apply what you learned and build a convolutional, max pooling, dropout, and fully connected layers.  At the end, you'll get to see your neural network's predictions on the sample images.\n",
    "## Get the Data\n",
    "Run the following cell to download the [CIFAR-10 dataset for python](https://www.cs.toronto.edu/~kriz/cifar-10-python.tar.gz)."
   ]
  },
  {
   "cell_type": "code",
   "execution_count": 1,
   "metadata": {},
   "outputs": [
    {
     "name": "stdout",
     "output_type": "stream",
     "text": [
      "All files found!\n"
     ]
    }
   ],
   "source": [
    "\"\"\"\n",
    "DON'T MODIFY ANYTHING IN THIS CELL THAT IS BELOW THIS LINE\n",
    "\"\"\"\n",
    "from urllib.request import urlretrieve\n",
    "from os.path import isfile, isdir\n",
    "from tqdm import tqdm\n",
    "import problem_unittests as tests\n",
    "import tarfile\n",
    "\n",
    "cifar10_dataset_folder_path = 'cifar-10-batches-py'\n",
    "\n",
    "# Use Floyd's cifar-10 dataset if present\n",
    "floyd_cifar10_location = '/input/cifar-10/python.tar.gz'\n",
    "if isfile(floyd_cifar10_location):\n",
    "    tar_gz_path = floyd_cifar10_location\n",
    "else:\n",
    "    tar_gz_path = 'cifar-10-python.tar.gz'\n",
    "\n",
    "class DLProgress(tqdm):\n",
    "    last_block = 0\n",
    "\n",
    "    def hook(self, block_num=1, block_size=1, total_size=None):\n",
    "        self.total = total_size\n",
    "        self.update((block_num - self.last_block) * block_size)\n",
    "        self.last_block = block_num\n",
    "\n",
    "if not isfile(tar_gz_path):\n",
    "    with DLProgress(unit='B', unit_scale=True, miniters=1, desc='CIFAR-10 Dataset') as pbar:\n",
    "        urlretrieve(\n",
    "            'https://www.cs.toronto.edu/~kriz/cifar-10-python.tar.gz',\n",
    "            tar_gz_path,\n",
    "            pbar.hook)\n",
    "\n",
    "if not isdir(cifar10_dataset_folder_path):\n",
    "    with tarfile.open(tar_gz_path) as tar:\n",
    "        tar.extractall()\n",
    "        tar.close()\n",
    "\n",
    "\n",
    "tests.test_folder_path(cifar10_dataset_folder_path)"
   ]
  },
  {
   "cell_type": "markdown",
   "metadata": {},
   "source": [
    "## Explore the Data\n",
    "The dataset is broken into batches to prevent your machine from running out of memory.  The CIFAR-10 dataset consists of 5 batches, named `data_batch_1`, `data_batch_2`, etc.. Each batch contains the labels and images that are one of the following:\n",
    "* airplane\n",
    "* automobile\n",
    "* bird\n",
    "* cat\n",
    "* deer\n",
    "* dog\n",
    "* frog\n",
    "* horse\n",
    "* ship\n",
    "* truck\n",
    "\n",
    "Understanding a dataset is part of making predictions on the data.  Play around with the code cell below by changing the `batch_id` and `sample_id`. The `batch_id` is the id for a batch (1-5). The `sample_id` is the id for a image and label pair in the batch.\n",
    "\n",
    "Ask yourself \"What are all possible labels?\", \"What is the range of values for the image data?\", \"Are the labels in order or random?\".  Answers to questions like these will help you preprocess the data and end up with better predictions."
   ]
  },
  {
   "cell_type": "code",
   "execution_count": 2,
   "metadata": {
    "scrolled": false
   },
   "outputs": [
    {
     "name": "stdout",
     "output_type": "stream",
     "text": [
      "\n",
      "Stats of batch 1:\n",
      "Samples: 10000\n",
      "Label Counts: {0: 1005, 1: 974, 2: 1032, 3: 1016, 4: 999, 5: 937, 6: 1030, 7: 1001, 8: 1025, 9: 981}\n",
      "First 20 Labels: [6, 9, 9, 4, 1, 1, 2, 7, 8, 3, 4, 7, 7, 2, 9, 9, 9, 3, 2, 6]\n",
      "\n",
      "Example of Image 1200:\n",
      "Image - Min Value: 0 Max Value: 255\n",
      "Image - Shape: (32, 32, 3)\n",
      "Label - Label Id: 7 Name: horse\n"
     ]
    },
    {
     "data": {
      "image/png": "[encoded data removed]",
      "text/plain": [
       "<matplotlib.figure.Figure at 0x7f2493ff54a8>"
      ]
     },
     "metadata": {
      "image/png": {
       "height": 250,
       "width": 253
      }
     },
     "output_type": "display_data"
    }
   ],
   "source": [
    "%matplotlib inline\n",
    "%config InlineBackend.figure_format = 'retina'\n",
    "\n",
    "import helper\n",
    "import numpy as np\n",
    "\n",
    "# Explore the dataset\n",
    "batch_id = 1\n",
    "sample_id = 1200\n",
    "helper.display_stats(cifar10_dataset_folder_path, batch_id, sample_id)"
   ]
  },
  {
   "cell_type": "markdown",
   "metadata": {},
   "source": [
    "## Implement Preprocess Functions\n",
    "### Normalize\n",
    "In the cell below, implement the `normalize` function to take in image data, `x`, and return it as a normalized Numpy array. The values should be in the range of 0 to 1, inclusive.  The return object should be the same shape as `x`."
   ]
  },
  {
   "cell_type": "code",
   "execution_count": 3,
   "metadata": {},
   "outputs": [
    {
     "name": "stdout",
     "output_type": "stream",
     "text": [
      "Tests Passed\n"
     ]
    }
   ],
   "source": [
    "def normalize(x):\n",
    "    \"\"\"\n",
    "    Normalize a list of sample image data in the range of 0 to 1\n",
    "    : x: List of image data.  The image shape is (32, 32, 3)\n",
    "    : return: Numpy array of normalize data\n",
    "    \"\"\"\n",
    "    rets = []\n",
    "    # TODO: Implement Function\n",
    "    for im in x:\n",
    "        mx = np.max(im)\n",
    "        mn = np.min(im)\n",
    "        ret = (im - mn) / float(mx - mn) \n",
    "        rets.append(ret.reshape((32,32,3)))\n",
    "    return np.array(rets)\n",
    "\n",
    "\n",
    "\"\"\"\n",
    "DON'T MODIFY ANYTHING IN THIS CELL THAT IS BELOW THIS LINE\n",
    "\"\"\"\n",
    "tests.test_normalize(normalize)"
   ]
  },
  {
   "cell_type": "markdown",
   "metadata": {},
   "source": [
    "### One-hot encode\n",
    "Just like the previous code cell, you'll be implementing a function for preprocessing.  This time, you'll implement the `one_hot_encode` function. The input, `x`, are a list of labels.  Implement the function to return the list of labels as One-Hot encoded Numpy array.  The possible values for labels are 0 to 9. The one-hot encoding function should return the same encoding for each value between each call to `one_hot_encode`.  Make sure to save the map of encodings outside the function.\n",
    "\n",
    "Hint: Don't reinvent the wheel."
   ]
  },
  {
   "cell_type": "code",
   "execution_count": 4,
   "metadata": {},
   "outputs": [
    {
     "name": "stdout",
     "output_type": "stream",
     "text": [
      "Tests Passed\n"
     ]
    }
   ],
   "source": [
    "from sklearn.preprocessing import OneHotEncoder\n",
    "def one_hot_encode(x):\n",
    "    \"\"\"\n",
    "    One hot encode a list of sample labels. Return a one-hot encoded vector for each label.\n",
    "    : x: List of sample Labels\n",
    "    : return: Numpy array of one-hot encoded labels\n",
    "    \"\"\"\n",
    "    # TODO: Implement Function\n",
    "    '''\n",
    "    rets = []\n",
    "    for l in x:\n",
    "        ret = np.zeros(10)\n",
    "        ret[l] = 1\n",
    "        rets.append(ret)\n",
    "    a = np.array(rets)\n",
    "    '''\n",
    "    enc = OneHotEncoder(n_values=10,sparse=False)\n",
    "    xx = np.array(x)\n",
    "    rets = enc.fit_transform(xx.reshape(-1,1))\n",
    "    return rets\n",
    "\n",
    "\"\"\"\n",
    "DON'T MODIFY ANYTHING IN THIS CELL THAT IS BELOW THIS LINE\n",
    "\"\"\"\n",
    "tests.test_one_hot_encode(one_hot_encode)"
   ]
  },
  {
   "cell_type": "markdown",
   "metadata": {},
   "source": [
    "### Randomize Data\n",
    "As you saw from exploring the data above, the order of the samples are randomized.  It doesn't hurt to randomize it again, but you don't need to for this dataset."
   ]
  },
  {
   "cell_type": "markdown",
   "metadata": {},
   "source": [
    "## Preprocess all the data and save it\n",
    "Running the code cell below will preprocess all the CIFAR-10 data and save it to file. The code below also uses 10% of the training data for validation."
   ]
  },
  {
   "cell_type": "code",
   "execution_count": 5,
   "metadata": {
    "collapsed": true
   },
   "outputs": [],
   "source": [
    "\"\"\"\n",
    "DON'T MODIFY ANYTHING IN THIS CELL\n",
    "\"\"\"\n",
    "# Preprocess Training, Validation, and Testing Data\n",
    "helper.preprocess_and_save_data(cifar10_dataset_folder_path, normalize, one_hot_encode)"
   ]
  },
  {
   "cell_type": "markdown",
   "metadata": {},
   "source": [
    "# Check Point\n",
    "This is your first checkpoint.  If you ever decide to come back to this notebook or have to restart the notebook, you can start from here.  The preprocessed data has been saved to disk."
   ]
  },
  {
   "cell_type": "code",
   "execution_count": 6,
   "metadata": {
    "collapsed": true
   },
   "outputs": [],
   "source": [
    "\"\"\"\n",
    "DON'T MODIFY ANYTHING IN THIS CELL\n",
    "\"\"\"\n",
    "import pickle\n",
    "import problem_unittests as tests\n",
    "import helper\n",
    "\n",
    "# Load the Preprocessed Validation data\n",
    "valid_features, valid_labels = pickle.load(open('preprocess_validation.p', mode='rb'))"
   ]
  },
  {
   "cell_type": "markdown",
   "metadata": {},
   "source": [
    "## Build the network\n",
    "For the neural network, you'll build each layer into a function.  Most of the code you've seen has been outside of functions. To test your code more thoroughly, we require that you put each layer in a function.  This allows us to give you better feedback and test for simple mistakes using our unittests before you submit your project.\n",
    "\n",
    ">**Note:** If you're finding it hard to dedicate enough time for this course each week, we've provided a small shortcut to this part of the project. In the next couple of problems, you'll have the option to use classes from the [TensorFlow Layers](https://www.tensorflow.org/api_docs/python/tf/layers) or [TensorFlow Layers (contrib)](https://www.tensorflow.org/api_guides/python/contrib.layers) packages to build each layer, except the layers you build in the \"Convolutional and Max Pooling Layer\" section.  TF Layers is similar to Keras's and TFLearn's abstraction to layers, so it's easy to pickup.\n",
    "\n",
    ">However, if you would like to get the most out of this course, try to solve all the problems _without_ using anything from the TF Layers packages. You **can** still use classes from other packages that happen to have the same name as ones you find in TF Layers! For example, instead of using the TF Layers version of the `conv2d` class, [tf.layers.conv2d](https://www.tensorflow.org/api_docs/python/tf/layers/conv2d), you would want to use the TF Neural Network version of `conv2d`, [tf.nn.conv2d](https://www.tensorflow.org/api_docs/python/tf/nn/conv2d). \n",
    "\n",
    "Let's begin!\n",
    "\n",
    "### Input\n",
    "The neural network needs to read the image data, one-hot encoded labels, and dropout keep probability. Implement the following functions\n",
    "* Implement `neural_net_image_input`\n",
    " * Return a [TF Placeholder](https://www.tensorflow.org/api_docs/python/tf/placeholder)\n",
    " * Set the shape using `image_shape` with batch size set to `None`.\n",
    " * Name the TensorFlow placeholder \"x\" using the TensorFlow `name` parameter in the [TF Placeholder](https://www.tensorflow.org/api_docs/python/tf/placeholder).\n",
    "* Implement `neural_net_label_input`\n",
    " * Return a [TF Placeholder](https://www.tensorflow.org/api_docs/python/tf/placeholder)\n",
    " * Set the shape using `n_classes` with batch size set to `None`.\n",
    " * Name the TensorFlow placeholder \"y\" using the TensorFlow `name` parameter in the [TF Placeholder](https://www.tensorflow.org/api_docs/python/tf/placeholder).\n",
    "* Implement `neural_net_keep_prob_input`\n",
    " * Return a [TF Placeholder](https://www.tensorflow.org/api_docs/python/tf/placeholder) for dropout keep probability.\n",
    " * Name the TensorFlow placeholder \"keep_prob\" using the TensorFlow `name` parameter in the [TF Placeholder](https://www.tensorflow.org/api_docs/python/tf/placeholder).\n",
    "\n",
    "These names will be used at the end of the project to load your saved model.\n",
    "\n",
    "Note: `None` for shapes in TensorFlow allow for a dynamic size."
   ]
  },
  {
   "cell_type": "code",
   "execution_count": 7,
   "metadata": {},
   "outputs": [
    {
     "name": "stdout",
     "output_type": "stream",
     "text": [
      "Image Input Tests Passed.\n",
      "Label Input Tests Passed.\n",
      "Keep Prob Tests Passed.\n"
     ]
    }
   ],
   "source": [
    "import tensorflow as tf\n",
    "\n",
    "def neural_net_image_input(image_shape):\n",
    "    \"\"\"\n",
    "    Return a Tensor for a batch of image input\n",
    "    : image_shape: Shape of the images\n",
    "    : return: Tensor for image input.\n",
    "    \"\"\"\n",
    "    # TODO: Implement Function\n",
    "    return tf.placeholder(tf.float32, (None,) + image_shape, 'x')\n",
    "\n",
    "\n",
    "def neural_net_label_input(n_classes):\n",
    "    \"\"\"\n",
    "    Return a Tensor for a batch of label input\n",
    "    : n_classes: Number of classes\n",
    "    : return: Tensor for label input.\n",
    "    \"\"\"\n",
    "    # TODO: Implement Function\n",
    "    return tf.placeholder(tf.float32, (None,n_classes), 'y')\n",
    "\n",
    "\n",
    "def neural_net_keep_prob_input():\n",
    "    \"\"\"\n",
    "    Return a Tensor for keep probability\n",
    "    : return: Tensor for keep probability.\n",
    "    \"\"\"\n",
    "    # TODO: Implement Function\n",
    "    return tf.placeholder(tf.float32, None, 'keep_prob')\n",
    "\n",
    "\n",
    "\"\"\"\n",
    "DON'T MODIFY ANYTHING IN THIS CELL THAT IS BELOW THIS LINE\n",
    "\"\"\"\n",
    "tf.reset_default_graph()\n",
    "tests.test_nn_image_inputs(neural_net_image_input)\n",
    "tests.test_nn_label_inputs(neural_net_label_input)\n",
    "tests.test_nn_keep_prob_inputs(neural_net_keep_prob_input)"
   ]
  },
  {
   "cell_type": "markdown",
   "metadata": {},
   "source": [
    "### Convolution and Max Pooling Layer\n",
    "Convolution layers have a lot of success with images. For this code cell, you should implement the function `conv2d_maxpool` to apply convolution then max pooling:\n",
    "* Create the weight and bias using `conv_ksize`, `conv_num_outputs` and the shape of `x_tensor`.\n",
    "* Apply a convolution to `x_tensor` using weight and `conv_strides`.\n",
    " * We recommend you use same padding, but you're welcome to use any padding.\n",
    "* Add bias\n",
    "* Add a nonlinear activation to the convolution.\n",
    "* Apply Max Pooling using `pool_ksize` and `pool_strides`.\n",
    " * We recommend you use same padding, but you're welcome to use any padding.\n",
    "\n",
    "**Note:** You **can't** use [TensorFlow Layers](https://www.tensorflow.org/api_docs/python/tf/layers) or [TensorFlow Layers (contrib)](https://www.tensorflow.org/api_guides/python/contrib.layers) for **this** layer, but you can still use TensorFlow's [Neural Network](https://www.tensorflow.org/api_docs/python/tf/nn) package. You may still use the shortcut option for all the **other** layers."
   ]
  },
  {
   "cell_type": "code",
   "execution_count": 8,
   "metadata": {},
   "outputs": [
    {
     "name": "stdout",
     "output_type": "stream",
     "text": [
      "Tests Passed\n"
     ]
    }
   ],
   "source": [
    "def conv2d_maxpool(x_tensor, conv_num_outputs, conv_ksize, conv_strides, pool_ksize, pool_strides):\n",
    "    \"\"\"\n",
    "    Apply convolution then max pooling to x_tensor\n",
    "    :param x_tensor: TensorFlow Tensor\n",
    "    :param conv_num_outputs: Number of outputs for the convolutional layer\n",
    "    :param conv_ksize: kernal size 2-D Tuple for the convolutional layer\n",
    "    :param conv_strides: Stride 2-D Tuple for convolution\n",
    "    :param pool_ksize: kernal size 2-D Tuple for pool\n",
    "    :param pool_strides: Stride 2-D Tuple for pool\n",
    "    : return: A tensor that represents convolution and max pooling of x_tensor\n",
    "    \"\"\"\n",
    "    # TODO: Implement Function\n",
    "    filter_size_height = int(conv_ksize[0])\n",
    "    filter_size_width = int(conv_ksize[1])\n",
    "    filter_size_depth = int(x_tensor.shape[3])\n",
    "    \n",
    "    weight = tf.Variable(tf.truncated_normal(\n",
    "    [filter_size_height, filter_size_width, filter_size_depth, conv_num_outputs]))\n",
    "    bias = tf.Variable(tf.zeros(conv_num_outputs))\n",
    "    \n",
    "    \n",
    "    c_strides = (1,)+conv_strides+(1,)\n",
    "    \n",
    "    conv_layer = tf.nn.conv2d(x_tensor, weight, c_strides, 'SAME')\n",
    "    conv_layer = tf.nn.bias_add(conv_layer, bias)\n",
    "    \n",
    "    conv_layer = tf.nn.relu(conv_layer)\n",
    "    \n",
    "    p_ksize = (1,) + pool_ksize + (1,)\n",
    "    p_strides = (1,) + pool_strides + (1,)\n",
    "    pool_layer = tf.nn.max_pool(conv_layer, p_ksize, p_strides, 'SAME')\n",
    "    \n",
    "    return pool_layer \n",
    "\n",
    "\n",
    "\"\"\"\n",
    "DON'T MODIFY ANYTHING IN THIS CELL THAT IS BELOW THIS LINE\n",
    "\"\"\"\n",
    "tests.test_con_pool(conv2d_maxpool)"
   ]
  },
  {
   "cell_type": "markdown",
   "metadata": {},
   "source": [
    "### Flatten Layer\n",
    "Implement the `flatten` function to change the dimension of `x_tensor` from a 4-D tensor to a 2-D tensor.  The output should be the shape (*Batch Size*, *Flattened Image Size*). Shortcut option: you can use classes from the [TensorFlow Layers](https://www.tensorflow.org/api_docs/python/tf/layers) or [TensorFlow Layers (contrib)](https://www.tensorflow.org/api_guides/python/contrib.layers) packages for this layer. For more of a challenge, only use other TensorFlow packages."
   ]
  },
  {
   "cell_type": "code",
   "execution_count": 9,
   "metadata": {},
   "outputs": [
    {
     "name": "stdout",
     "output_type": "stream",
     "text": [
      "Tests Passed\n"
     ]
    }
   ],
   "source": [
    "def flatten(x_tensor):\n",
    "    \"\"\"\n",
    "    Flatten x_tensor to (Batch Size, Flattened Image Size)\n",
    "    : x_tensor: A tensor of size (Batch Size, ...), where ... are the image dimensions.\n",
    "    : return: A tensor of size (Batch Size, Flattened Image Size).\n",
    "    \"\"\"\n",
    "    \n",
    "    # TODO: Implement Function\n",
    "    shape = x_tensor.get_shape().as_list()\n",
    "    dim = np.prod(shape[1:])\n",
    "    return tf.reshape(x_tensor, [-1,dim])\n",
    "\n",
    "\n",
    "\"\"\"\n",
    "DON'T MODIFY ANYTHING IN THIS CELL THAT IS BELOW THIS LINE\n",
    "\"\"\"\n",
    "tests.test_flatten(flatten)"
   ]
  },
  {
   "cell_type": "markdown",
   "metadata": {},
   "source": [
    "### Fully-Connected Layer\n",
    "Implement the `fully_conn` function to apply a fully connected layer to `x_tensor` with the shape (*Batch Size*, *num_outputs*). Shortcut option: you can use classes from the [TensorFlow Layers](https://www.tensorflow.org/api_docs/python/tf/layers) or [TensorFlow Layers (contrib)](https://www.tensorflow.org/api_guides/python/contrib.layers) packages for this layer. For more of a challenge, only use other TensorFlow packages."
   ]
  },
  {
   "cell_type": "code",
   "execution_count": 10,
   "metadata": {},
   "outputs": [
    {
     "name": "stdout",
     "output_type": "stream",
     "text": [
      "Tests Passed\n"
     ]
    }
   ],
   "source": [
    "def fully_conn(x_tensor, num_outputs):\n",
    "    \"\"\"\n",
    "    Apply a fully connected layer to x_tensor using weight and bias\n",
    "    : x_tensor: A 2-D tensor where the first dimension is batch size.\n",
    "    : num_outputs: The number of output that the new tensor should be.\n",
    "    : return: A 2-D tensor where the second dimension is num_outputs.\n",
    "    \"\"\"\n",
    "    # TODO: Implement Function\n",
    "    weight = tf.Variable(tf.truncated_normal([x_tensor.get_shape().as_list()[1], num_outputs]))\n",
    "    bias = tf.Variable(tf.zeros(num_outputs))\n",
    "    output_layer = tf.add(tf.matmul(x_tensor, weight),bias)\n",
    "    #output_layer = tf.nn.relu(output_layer)\n",
    "    return output_layer\n",
    "\n",
    "\n",
    "\"\"\"\n",
    "DON'T MODIFY ANYTHING IN THIS CELL THAT IS BELOW THIS LINE\n",
    "\"\"\"\n",
    "tests.test_fully_conn(fully_conn)"
   ]
  },
  {
   "cell_type": "markdown",
   "metadata": {},
   "source": [
    "### Output Layer\n",
    "Implement the `output` function to apply a fully connected layer to `x_tensor` with the shape (*Batch Size*, *num_outputs*). Shortcut option: you can use classes from the [TensorFlow Layers](https://www.tensorflow.org/api_docs/python/tf/layers) or [TensorFlow Layers (contrib)](https://www.tensorflow.org/api_guides/python/contrib.layers) packages for this layer. For more of a challenge, only use other TensorFlow packages.\n",
    "\n",
    "**Note:** Activation, softmax, or cross entropy should **not** be applied to this."
   ]
  },
  {
   "cell_type": "code",
   "execution_count": 11,
   "metadata": {},
   "outputs": [
    {
     "name": "stdout",
     "output_type": "stream",
     "text": [
      "Tests Passed\n"
     ]
    }
   ],
   "source": [
    "def output(x_tensor, num_outputs):\n",
    "    \"\"\"\n",
    "    Apply a output layer to x_tensor using weight and bias\n",
    "    : x_tensor: A 2-D tensor where the first dimension is batch size.\n",
    "    : num_outputs: The number of output that the new tensor should be.\n",
    "    : return: A 2-D tensor where the second dimension is num_outputs.\n",
    "    \"\"\"\n",
    "    # TODO: Implement Function\n",
    "    weight = tf.Variable(tf.truncated_normal([x_tensor.get_shape().as_list()[1], num_outputs]))\n",
    "    bias = tf.Variable(tf.zeros(num_outputs))\n",
    "    output_layer = tf.add(tf.matmul(x_tensor, weight),bias)\n",
    "    return output_layer\n",
    "\n",
    "\n",
    "\"\"\"\n",
    "DON'T MODIFY ANYTHING IN THIS CELL THAT IS BELOW THIS LINE\n",
    "\"\"\"\n",
    "tests.test_output(output)"
   ]
  },
  {
   "cell_type": "markdown",
   "metadata": {},
   "source": [
    "### Create Convolutional Model\n",
    "Implement the function `conv_net` to create a convolutional neural network model. The function takes in a batch of images, `x`, and outputs logits.  Use the layers you created above to create this model:\n",
    "\n",
    "* Apply 1, 2, or 3 Convolution and Max Pool layers\n",
    "* Apply a Flatten Layer\n",
    "* Apply 1, 2, or 3 Fully Connected Layers\n",
    "* Apply an Output Layer\n",
    "* Return the output\n",
    "* Apply [TensorFlow's Dropout](https://www.tensorflow.org/api_docs/python/tf/nn/dropout) to one or more layers in the model using `keep_prob`. "
   ]
  },
  {
   "cell_type": "code",
   "execution_count": 12,
   "metadata": {},
   "outputs": [
    {
     "name": "stdout",
     "output_type": "stream",
     "text": [
      "[None, 32, 32, 3]\n",
      "[None, 2, 2, 1500]\n",
      "[None, 32, 32, 3]\n",
      "[None, 2, 2, 1500]\n",
      "Neural Network Built!\n"
     ]
    }
   ],
   "source": [
    "def conv_net(x, keep_prob):\n",
    "    \"\"\"\n",
    "    Create a convolutional neural network model\n",
    "    : x: Placeholder tensor that holds image data.\n",
    "    : keep_prob: Placeholder tensor that hold dropout keep probability.\n",
    "    : return: Tensor that represents logits\n",
    "    \"\"\"\n",
    "    # TODO: Apply 1, 2, or 3 Convolution and Max Pool layers\n",
    "    #    Play around with different number of outputs, kernel size and stride\n",
    "    # Function Definition from Above:\n",
    "    #     conv2d_maxpool(x_tensor, conv_num_outputs, conv_ksize, conv_strides, pool_ksize, pool_strides)\n",
    "    print(x.get_shape().as_list())\n",
    "    \n",
    "    conv_layer = conv2d_maxpool(x, 375, (5,5),(2,2),(2,2),(2,2))\n",
    "    #conv_layer = tf.nn.dropout(conv_layer, keep_prob)\n",
    "    conv_layer = conv2d_maxpool(conv_layer, 750,(3,3),(1,1),(2,2),(2,2))\n",
    "    #conv_layer = tf.nn.dropout(conv_layer, keep_prob)\n",
    "    conv_layer = conv2d_maxpool(conv_layer, 1500,(4,4),(1,1),(2,2),(2,2))\n",
    "    #conv_layer = tf.nn.dropout(conv_layer, keep_prob)\n",
    "    print(conv_layer.get_shape().as_list())\n",
    "    \n",
    "    # TODO: Apply a Flatten Layer\n",
    "    # Function Definition from Above:\n",
    "    #   flatten(x_tensor)\n",
    "    flatten_layer = flatten(conv_layer)\n",
    "\n",
    "    # TODO: Apply 1, 2, or 3 Fully Connected Layers\n",
    "    #    Play around with different number of outputs\n",
    "    # Function Definition from Above:\n",
    "    #   fully_conn(x_tensor, num_outputs)\n",
    "    fully_conn_layer = fully_conn(flatten_layer,6000)\n",
    "    #fully_conn_layer = tf.nn.dropout(fully_conn_layer,keep_prob)\n",
    "    fully_conn_layer = fully_conn(fully_conn_layer,4000)\n",
    "    fully_conn_layer = fully_conn(fully_conn_layer,2000)\n",
    "    fully_conn_layer = tf.nn.dropout(fully_conn_layer,keep_prob)\n",
    "    \n",
    "    # TODO: Apply an Output Layer\n",
    "    #    Set this to the number of classes\n",
    "    # Function Definition from Above:\n",
    "    #   output(x_tensor, num_outputs)\n",
    "    output_layer = output(fully_conn_layer ,10)\n",
    "    \n",
    "    # TODO: return output\n",
    "    return output_layer\n",
    "\n",
    "\n",
    "\"\"\"\n",
    "DON'T MODIFY ANYTHING IN THIS CELL THAT IS BELOW THIS LINE\n",
    "\"\"\"\n",
    "\n",
    "##############################\n",
    "## Build the Neural Network ##\n",
    "##############################\n",
    "\n",
    "# Remove previous weights, bias, inputs, etc..\n",
    "tf.reset_default_graph()\n",
    "\n",
    "# Inputs\n",
    "x = neural_net_image_input((32, 32, 3))\n",
    "y = neural_net_label_input(10)\n",
    "keep_prob = neural_net_keep_prob_input()\n",
    "\n",
    "# Model\n",
    "logits = conv_net(x, keep_prob)\n",
    "\n",
    "# Name logits Tensor, so that is can be loaded from disk after training\n",
    "logits = tf.identity(logits, name='logits')\n",
    "\n",
    "# Loss and Optimizer\n",
    "cost = tf.reduce_mean(tf.nn.softmax_cross_entropy_with_logits(logits=logits, labels=y))\n",
    "optimizer = tf.train.AdamOptimizer().minimize(cost)\n",
    "\n",
    "# Accuracy\n",
    "correct_pred = tf.equal(tf.argmax(logits, 1), tf.argmax(y, 1))\n",
    "accuracy = tf.reduce_mean(tf.cast(correct_pred, tf.float32), name='accuracy')\n",
    "\n",
    "tests.test_conv_net(conv_net)"
   ]
  },
  {
   "cell_type": "markdown",
   "metadata": {},
   "source": [
    "## Train the Neural Network\n",
    "### Single Optimization\n",
    "Implement the function `train_neural_network` to do a single optimization.  The optimization should use `optimizer` to optimize in `session` with a `feed_dict` of the following:\n",
    "* `x` for image input\n",
    "* `y` for labels\n",
    "* `keep_prob` for keep probability for dropout\n",
    "\n",
    "This function will be called for each batch, so `tf.global_variables_initializer()` has already been called.\n",
    "\n",
    "Note: Nothing needs to be returned. This function is only optimizing the neural network."
   ]
  },
  {
   "cell_type": "code",
   "execution_count": 13,
   "metadata": {},
   "outputs": [
    {
     "name": "stdout",
     "output_type": "stream",
     "text": [
      "Tests Passed\n"
     ]
    }
   ],
   "source": [
    "def train_neural_network(session, optimizer, keep_probability, feature_batch, label_batch):\n",
    "    \"\"\"\n",
    "    Optimize the session on a batch of images and labels\n",
    "    : session: Current TensorFlow session\n",
    "    : optimizer: TensorFlow optimizer function\n",
    "    : keep_probability: keep probability\n",
    "    : feature_batch: Batch of Numpy image data\n",
    "    : label_batch: Batch of Numpy label data\n",
    "    \"\"\"\n",
    "    # TODO: Implement Function\n",
    "    session.run(optimizer, {x:feature_batch,y:label_batch, keep_prob:keep_probability})\n",
    "\n",
    "\n",
    "\n",
    "\"\"\"\n",
    "DON'T MODIFY ANYTHING IN THIS CELL THAT IS BELOW THIS LINE\n",
    "\"\"\"\n",
    "tests.test_train_nn(train_neural_network)"
   ]
  },
  {
   "cell_type": "markdown",
   "metadata": {},
   "source": [
    "### Show Stats\n",
    "Implement the function `print_stats` to print loss and validation accuracy.  Use the global variables `valid_features` and `valid_labels` to calculate validation accuracy.  Use a keep probability of `1.0` to calculate the loss and validation accuracy."
   ]
  },
  {
   "cell_type": "code",
   "execution_count": 14,
   "metadata": {
    "collapsed": true
   },
   "outputs": [],
   "source": [
    "def print_stats(session, feature_batch, label_batch, cost, accuracy):\n",
    "    \"\"\"\n",
    "    Print information about loss and validation accuracy\n",
    "    : session: Current TensorFlow session\n",
    "    : feature_batch: Batch of Numpy image data\n",
    "    : label_batch: Batch of Numpy label data\n",
    "    : cost: TensorFlow cost function\n",
    "    : accuracy: TensorFlow accuracy function\n",
    "    \"\"\"\n",
    "    # TODO: Implement Function\n",
    "    current_cost = sess.run(\n",
    "        cost,\n",
    "        feed_dict={x: feature_batch, y: label_batch, keep_prob:1.0})\n",
    "    \n",
    "    valid_accuracy = sess.run(\n",
    "        accuracy,\n",
    "        feed_dict={x: valid_features, y: valid_labels, keep_prob:1.0})\n",
    "    print('COST : ' + str(current_cost) + \"  ACCURACY : \" + str(valid_accuracy))"
   ]
  },
  {
   "cell_type": "markdown",
   "metadata": {},
   "source": [
    "### Hyperparameters\n",
    "Tune the following parameters:\n",
    "* Set `epochs` to the number of iterations until the network stops learning or start overfitting\n",
    "* Set `batch_size` to the highest number that your machine has memory for.  Most people set them to common sizes of memory:\n",
    " * 64\n",
    " * 128\n",
    " * 256\n",
    " * ...\n",
    "* Set `keep_probability` to the probability of keeping a node using dropout"
   ]
  },
  {
   "cell_type": "code",
   "execution_count": 15,
   "metadata": {
    "collapsed": true
   },
   "outputs": [],
   "source": [
    "# TODO: Tune Parameters\n",
    "epochs = 30\n",
    "batch_size = 2000\n",
    "keep_probability = 0.30"
   ]
  },
  {
   "cell_type": "markdown",
   "metadata": {},
   "source": [
    "### Train on a Single CIFAR-10 Batch\n",
    "Instead of training the neural network on all the CIFAR-10 batches of data, let's use a single batch. This should save time while you iterate on the model to get a better accuracy.  Once the final validation accuracy is 50% or greater, run the model on all the data in the next section."
   ]
  },
  {
   "cell_type": "code",
   "execution_count": 19,
   "metadata": {
    "scrolled": false
   },
   "outputs": [
    {
     "name": "stdout",
     "output_type": "stream",
     "text": [
      "Checking the Training on a Single Batch...\n",
      "global valiables initiated\n",
      "Epoch  1, CIFAR-10 Batch 1:  COST : 2.32729e+11  ACCURACY : 0.1208\n",
      "Epoch  2, CIFAR-10 Batch 1:  COST : 1.37568e+11  ACCURACY : 0.1958\n",
      "Epoch  3, CIFAR-10 Batch 1:  COST : 8.59588e+10  ACCURACY : 0.1688\n",
      "Epoch  4, CIFAR-10 Batch 1:  COST : 5.50599e+10  ACCURACY : 0.2726\n",
      "Epoch  5, CIFAR-10 Batch 1:  COST : 3.01635e+10  ACCURACY : 0.3244\n",
      "Epoch  6, CIFAR-10 Batch 1:  COST : 2.60443e+10  ACCURACY : 0.336\n",
      "Epoch  7, CIFAR-10 Batch 1:  COST : 2.04701e+10  ACCURACY : 0.3536\n",
      "Epoch  8, CIFAR-10 Batch 1:  COST : 1.80117e+10  ACCURACY : 0.3872\n",
      "Epoch  9, CIFAR-10 Batch 1:  COST : 1.37704e+10  ACCURACY : 0.3952\n",
      "Epoch 10, CIFAR-10 Batch 1:  COST : 1.30985e+10  ACCURACY : 0.4056\n",
      "Epoch 11, CIFAR-10 Batch 1:  COST : 1.12353e+10  ACCURACY : 0.4242\n",
      "Epoch 12, CIFAR-10 Batch 1:  COST : 9.95874e+09  ACCURACY : 0.4326\n",
      "Epoch 13, CIFAR-10 Batch 1:  COST : 8.7259e+09  ACCURACY : 0.4382\n",
      "Epoch 14, CIFAR-10 Batch 1:  COST : 8.12359e+09  ACCURACY : 0.4488\n",
      "Epoch 15, CIFAR-10 Batch 1:  COST : 7.38765e+09  ACCURACY : 0.4532\n",
      "Epoch 16, CIFAR-10 Batch 1:  COST : 7.31918e+09  ACCURACY : 0.4518\n",
      "Epoch 17, CIFAR-10 Batch 1:  COST : 6.69767e+09  ACCURACY : 0.4596\n",
      "Epoch 18, CIFAR-10 Batch 1:  COST : 6.09105e+09  ACCURACY : 0.4638\n",
      "Epoch 19, CIFAR-10 Batch 1:  COST : 6.12541e+09  ACCURACY : 0.4652\n",
      "Epoch 20, CIFAR-10 Batch 1:  COST : 5.58391e+09  ACCURACY : 0.4698\n",
      "Epoch 21, CIFAR-10 Batch 1:  COST : 5.17588e+09  ACCURACY : 0.4758\n",
      "Epoch 22, CIFAR-10 Batch 1:  COST : 4.85657e+09  ACCURACY : 0.4792\n",
      "Epoch 23, CIFAR-10 Batch 1:  COST : 4.44876e+09  ACCURACY : 0.4904\n",
      "Epoch 24, CIFAR-10 Batch 1:  COST : 4.37778e+09  ACCURACY : 0.4844\n",
      "Epoch 25, CIFAR-10 Batch 1:  COST : 4.23897e+09  ACCURACY : 0.4864\n",
      "Epoch 26, CIFAR-10 Batch 1:  COST : 3.87526e+09  ACCURACY : 0.4894\n",
      "Epoch 27, CIFAR-10 Batch 1:  COST : 3.6368e+09  ACCURACY : 0.4976\n",
      "Epoch 28, CIFAR-10 Batch 1:  COST : 3.67889e+09  ACCURACY : 0.4938\n",
      "Epoch 29, CIFAR-10 Batch 1:  COST : 3.31352e+09  ACCURACY : 0.5018\n",
      "Epoch 30, CIFAR-10 Batch 1:  COST : 2.87423e+09  ACCURACY : 0.5094\n"
     ]
    }
   ],
   "source": [
    "\"\"\"\n",
    "DON'T MODIFY ANYTHING IN THIS CELL\n",
    "\"\"\"\n",
    "print('Checking the Training on a Single Batch...')\n",
    "with tf.Session() as sess:\n",
    "    # Initializing the variables\n",
    "    sess.run(tf.global_variables_initializer())\n",
    "    print('global valiables initiated')\n",
    "    # Training cycle\n",
    "    for epoch in range(epochs):\n",
    "        #print('epochs : ' + str(epoch))\n",
    "        batch_i = 1\n",
    "        #total = 0\n",
    "        for batch_features, batch_labels in helper.load_preprocess_training_batch(batch_i, batch_size):\n",
    "            #if total % 1000 == 0:\n",
    "            #    print('batch : ' + str(total))\n",
    "            #print(batch_features[0])\n",
    "            train_neural_network(sess, optimizer, keep_probability, batch_features, batch_labels)\n",
    "            #total += batch_size\n",
    "        print('Epoch {:>2}, CIFAR-10 Batch {}:  '.format(epoch + 1, batch_i), end='')\n",
    "        print_stats(sess, batch_features, batch_labels, cost, accuracy)"
   ]
  },
  {
   "cell_type": "markdown",
   "metadata": {},
   "source": [
    "### Fully Train the Model\n",
    "Now that you got a good accuracy with a single CIFAR-10 batch, try it with all five batches."
   ]
  },
  {
   "cell_type": "code",
   "execution_count": 20,
   "metadata": {
    "scrolled": false
   },
   "outputs": [
    {
     "name": "stdout",
     "output_type": "stream",
     "text": [
      "Training...\n",
      "Epoch  1, CIFAR-10 Batch 1:  COST : 2.13437e+11  ACCURACY : 0.1\n",
      "Epoch  1, CIFAR-10 Batch 2:  COST : 8.83013e+10  ACCURACY : 0.2094\n",
      "Epoch  1, CIFAR-10 Batch 3:  COST : 4.09446e+10  ACCURACY : 0.2954\n",
      "Epoch  1, CIFAR-10 Batch 4:  COST : 3.69907e+10  ACCURACY : 0.3014\n",
      "Epoch  1, CIFAR-10 Batch 5:  COST : 3.34662e+10  ACCURACY : 0.3054\n",
      "Epoch  2, CIFAR-10 Batch 1:  COST : 2.68158e+10  ACCURACY : 0.3408\n",
      "Epoch  2, CIFAR-10 Batch 2:  COST : 2.56997e+10  ACCURACY : 0.329\n",
      "Epoch  2, CIFAR-10 Batch 3:  COST : 1.9083e+10  ACCURACY : 0.3532\n",
      "Epoch  2, CIFAR-10 Batch 4:  COST : 1.74302e+10  ACCURACY : 0.4032\n",
      "Epoch  2, CIFAR-10 Batch 5:  COST : 1.43029e+10  ACCURACY : 0.4038\n",
      "Epoch  3, CIFAR-10 Batch 1:  COST : 1.24483e+10  ACCURACY : 0.4244\n",
      "Epoch  3, CIFAR-10 Batch 2:  COST : 1.12853e+10  ACCURACY : 0.4288\n",
      "Epoch  3, CIFAR-10 Batch 3:  COST : 1.20341e+10  ACCURACY : 0.4344\n",
      "Epoch  3, CIFAR-10 Batch 4:  COST : 1.08567e+10  ACCURACY : 0.433\n",
      "Epoch  3, CIFAR-10 Batch 5:  COST : 1.14509e+10  ACCURACY : 0.447\n",
      "Epoch  4, CIFAR-10 Batch 1:  COST : 9.32434e+09  ACCURACY : 0.4562\n",
      "Epoch  4, CIFAR-10 Batch 2:  COST : 9.54442e+09  ACCURACY : 0.4642\n",
      "Epoch  4, CIFAR-10 Batch 3:  COST : 9.17654e+09  ACCURACY : 0.4634\n",
      "Epoch  4, CIFAR-10 Batch 4:  COST : 8.57433e+09  ACCURACY : 0.4624\n",
      "Epoch  4, CIFAR-10 Batch 5:  COST : 9.17286e+09  ACCURACY : 0.4744\n",
      "Epoch  5, CIFAR-10 Batch 1:  COST : 7.96514e+09  ACCURACY : 0.4708\n",
      "Epoch  5, CIFAR-10 Batch 2:  COST : 7.92938e+09  ACCURACY : 0.4836\n",
      "Epoch  5, CIFAR-10 Batch 3:  COST : 7.62396e+09  ACCURACY : 0.4826\n",
      "Epoch  5, CIFAR-10 Batch 4:  COST : 7.60946e+09  ACCURACY : 0.4866\n",
      "Epoch  5, CIFAR-10 Batch 5:  COST : 7.98903e+09  ACCURACY : 0.4936\n",
      "Epoch  6, CIFAR-10 Batch 1:  COST : 6.58344e+09  ACCURACY : 0.5044\n",
      "Epoch  6, CIFAR-10 Batch 2:  COST : 6.98908e+09  ACCURACY : 0.502\n",
      "Epoch  6, CIFAR-10 Batch 3:  COST : 6.30052e+09  ACCURACY : 0.513\n",
      "Epoch  6, CIFAR-10 Batch 4:  COST : 6.66255e+09  ACCURACY : 0.5062\n",
      "Epoch  6, CIFAR-10 Batch 5:  COST : 6.64893e+09  ACCURACY : 0.5024\n",
      "Epoch  7, CIFAR-10 Batch 1:  COST : 5.56786e+09  ACCURACY : 0.5184\n",
      "Epoch  7, CIFAR-10 Batch 2:  COST : 6.32842e+09  ACCURACY : 0.519\n",
      "Epoch  7, CIFAR-10 Batch 3:  COST : 5.9943e+09  ACCURACY : 0.5168\n",
      "Epoch  7, CIFAR-10 Batch 4:  COST : 5.88406e+09  ACCURACY : 0.5148\n",
      "Epoch  7, CIFAR-10 Batch 5:  COST : 6.38574e+09  ACCURACY : 0.5102\n",
      "Epoch  8, CIFAR-10 Batch 1:  COST : 5.40247e+09  ACCURACY : 0.5256\n",
      "Epoch  8, CIFAR-10 Batch 2:  COST : 5.93132e+09  ACCURACY : 0.5178\n",
      "Epoch  8, CIFAR-10 Batch 3:  COST : 5.88273e+09  ACCURACY : 0.4972\n",
      "Epoch  8, CIFAR-10 Batch 4:  COST : 5.2578e+09  ACCURACY : 0.5156\n",
      "Epoch  8, CIFAR-10 Batch 5:  COST : 5.58914e+09  ACCURACY : 0.5128\n",
      "Epoch  9, CIFAR-10 Batch 1:  COST : 4.84655e+09  ACCURACY : 0.5336\n",
      "Epoch  9, CIFAR-10 Batch 2:  COST : 5.00735e+09  ACCURACY : 0.5256\n",
      "Epoch  9, CIFAR-10 Batch 3:  COST : 4.49696e+09  ACCURACY : 0.534\n",
      "Epoch  9, CIFAR-10 Batch 4:  COST : 4.63894e+09  ACCURACY : 0.5222\n",
      "Epoch  9, CIFAR-10 Batch 5:  COST : 4.83586e+09  ACCURACY : 0.539\n",
      "Epoch 10, CIFAR-10 Batch 1:  COST : 4.32823e+09  ACCURACY : 0.5314\n",
      "Epoch 10, CIFAR-10 Batch 2:  COST : 4.61489e+09  ACCURACY : 0.5344\n",
      "Epoch 10, CIFAR-10 Batch 3:  COST : 4.07581e+09  ACCURACY : 0.5406\n",
      "Epoch 10, CIFAR-10 Batch 4:  COST : 4.21728e+09  ACCURACY : 0.533\n",
      "Epoch 10, CIFAR-10 Batch 5:  COST : 4.21538e+09  ACCURACY : 0.5436\n",
      "Epoch 11, CIFAR-10 Batch 1:  COST : 3.84857e+09  ACCURACY : 0.5518\n",
      "Epoch 11, CIFAR-10 Batch 2:  COST : 4.24055e+09  ACCURACY : 0.5426\n",
      "Epoch 11, CIFAR-10 Batch 3:  COST : 3.5796e+09  ACCURACY : 0.5432\n",
      "Epoch 11, CIFAR-10 Batch 4:  COST : 3.69478e+09  ACCURACY : 0.5386\n",
      "Epoch 11, CIFAR-10 Batch 5:  COST : 4.02515e+09  ACCURACY : 0.5466\n",
      "Epoch 12, CIFAR-10 Batch 1:  COST : 3.47343e+09  ACCURACY : 0.549\n",
      "Epoch 12, CIFAR-10 Batch 2:  COST : 3.84876e+09  ACCURACY : 0.5366\n",
      "Epoch 12, CIFAR-10 Batch 3:  COST : 3.33515e+09  ACCURACY : 0.5434\n",
      "Epoch 12, CIFAR-10 Batch 4:  COST : 3.42081e+09  ACCURACY : 0.5566\n",
      "Epoch 12, CIFAR-10 Batch 5:  COST : 3.45997e+09  ACCURACY : 0.5576\n",
      "Epoch 13, CIFAR-10 Batch 1:  COST : 3.12373e+09  ACCURACY : 0.555\n",
      "Epoch 13, CIFAR-10 Batch 2:  COST : 3.53547e+09  ACCURACY : 0.5536\n",
      "Epoch 13, CIFAR-10 Batch 3:  COST : 2.8145e+09  ACCURACY : 0.56\n",
      "Epoch 13, CIFAR-10 Batch 4:  COST : 3.33775e+09  ACCURACY : 0.5514\n",
      "Epoch 13, CIFAR-10 Batch 5:  COST : 3.17348e+09  ACCURACY : 0.5584\n",
      "Epoch 14, CIFAR-10 Batch 1:  COST : 2.93839e+09  ACCURACY : 0.5598\n",
      "Epoch 14, CIFAR-10 Batch 2:  COST : 3.13047e+09  ACCURACY : 0.5664\n",
      "Epoch 14, CIFAR-10 Batch 3:  COST : 2.68396e+09  ACCURACY : 0.5654\n",
      "Epoch 14, CIFAR-10 Batch 4:  COST : 2.89163e+09  ACCURACY : 0.5564\n",
      "Epoch 14, CIFAR-10 Batch 5:  COST : 2.80715e+09  ACCURACY : 0.5664\n",
      "Epoch 15, CIFAR-10 Batch 1:  COST : 2.67552e+09  ACCURACY : 0.574\n",
      "Epoch 15, CIFAR-10 Batch 2:  COST : 3.0093e+09  ACCURACY : 0.5684\n",
      "Epoch 15, CIFAR-10 Batch 3:  COST : 2.47529e+09  ACCURACY : 0.5684\n",
      "Epoch 15, CIFAR-10 Batch 4:  COST : 2.43992e+09  ACCURACY : 0.5716\n",
      "Epoch 15, CIFAR-10 Batch 5:  COST : 2.62177e+09  ACCURACY : 0.573\n",
      "Epoch 16, CIFAR-10 Batch 1:  COST : 2.48937e+09  ACCURACY : 0.5624\n",
      "Epoch 16, CIFAR-10 Batch 2:  COST : 2.65483e+09  ACCURACY : 0.5744\n",
      "Epoch 16, CIFAR-10 Batch 3:  COST : 2.10549e+09  ACCURACY : 0.5746\n",
      "Epoch 16, CIFAR-10 Batch 4:  COST : 2.36837e+09  ACCURACY : 0.5698\n",
      "Epoch 16, CIFAR-10 Batch 5:  COST : 2.44483e+09  ACCURACY : 0.5688\n",
      "Epoch 17, CIFAR-10 Batch 1:  COST : 2.21796e+09  ACCURACY : 0.5716\n",
      "Epoch 17, CIFAR-10 Batch 2:  COST : 2.4722e+09  ACCURACY : 0.5732\n",
      "Epoch 17, CIFAR-10 Batch 3:  COST : 1.91532e+09  ACCURACY : 0.576\n",
      "Epoch 17, CIFAR-10 Batch 4:  COST : 2.1657e+09  ACCURACY : 0.5754\n",
      "Epoch 17, CIFAR-10 Batch 5:  COST : 2.19745e+09  ACCURACY : 0.5732\n",
      "Epoch 18, CIFAR-10 Batch 1:  COST : 2.15283e+09  ACCURACY : 0.5686\n",
      "Epoch 18, CIFAR-10 Batch 2:  COST : 2.35709e+09  ACCURACY : 0.5702\n",
      "Epoch 18, CIFAR-10 Batch 3:  COST : 1.9929e+09  ACCURACY : 0.5802\n",
      "Epoch 18, CIFAR-10 Batch 4:  COST : 1.92646e+09  ACCURACY : 0.5802\n",
      "Epoch 18, CIFAR-10 Batch 5:  COST : 2.19306e+09  ACCURACY : 0.5662\n",
      "Epoch 19, CIFAR-10 Batch 1:  COST : 1.92236e+09  ACCURACY : 0.5786\n",
      "Epoch 19, CIFAR-10 Batch 2:  COST : 2.19357e+09  ACCURACY : 0.5776\n",
      "Epoch 19, CIFAR-10 Batch 3:  COST : 1.80346e+09  ACCURACY : 0.5784\n",
      "Epoch 19, CIFAR-10 Batch 4:  COST : 1.7365e+09  ACCURACY : 0.579\n",
      "Epoch 19, CIFAR-10 Batch 5:  COST : 1.89407e+09  ACCURACY : 0.5838\n",
      "Epoch 20, CIFAR-10 Batch 1:  COST : 1.72433e+09  ACCURACY : 0.5884\n",
      "Epoch 20, CIFAR-10 Batch 2:  COST : 1.86989e+09  ACCURACY : 0.5842\n",
      "Epoch 20, CIFAR-10 Batch 3:  COST : 1.64732e+09  ACCURACY : 0.5736\n",
      "Epoch 20, CIFAR-10 Batch 4:  COST : 1.54821e+09  ACCURACY : 0.5802\n",
      "Epoch 20, CIFAR-10 Batch 5:  COST : 1.87617e+09  ACCURACY : 0.5836\n",
      "Epoch 21, CIFAR-10 Batch 1:  COST : 1.66313e+09  ACCURACY : 0.5752\n",
      "Epoch 21, CIFAR-10 Batch 2:  COST : 1.80924e+09  ACCURACY : 0.5884\n",
      "Epoch 21, CIFAR-10 Batch 3:  COST : 1.57486e+09  ACCURACY : 0.5894\n",
      "Epoch 21, CIFAR-10 Batch 4:  COST : 1.47406e+09  ACCURACY : 0.5822\n",
      "Epoch 21, CIFAR-10 Batch 5:  COST : 1.68046e+09  ACCURACY : 0.5844\n",
      "Epoch 22, CIFAR-10 Batch 1:  COST : 1.55979e+09  ACCURACY : 0.5842\n",
      "Epoch 22, CIFAR-10 Batch 2:  COST : 1.72667e+09  ACCURACY : 0.5872\n",
      "Epoch 22, CIFAR-10 Batch 3:  COST : 1.3425e+09  ACCURACY : 0.5786\n",
      "Epoch 22, CIFAR-10 Batch 4:  COST : 1.32355e+09  ACCURACY : 0.5892\n",
      "Epoch 22, CIFAR-10 Batch 5:  COST : 1.55494e+09  ACCURACY : 0.5884\n",
      "Epoch 23, CIFAR-10 Batch 1:  COST : 1.35517e+09  ACCURACY : 0.5932\n",
      "Epoch 23, CIFAR-10 Batch 2:  COST : 1.53831e+09  ACCURACY : 0.589\n",
      "Epoch 23, CIFAR-10 Batch 3:  COST : 1.25904e+09  ACCURACY : 0.5892\n",
      "Epoch 23, CIFAR-10 Batch 4:  COST : 1.26236e+09  ACCURACY : 0.5884\n",
      "Epoch 23, CIFAR-10 Batch 5:  COST : 1.39052e+09  ACCURACY : 0.5876\n",
      "Epoch 24, CIFAR-10 Batch 1:  COST : 1.24305e+09  ACCURACY : 0.5854\n",
      "Epoch 24, CIFAR-10 Batch 2:  COST : 1.43397e+09  ACCURACY : 0.5946\n",
      "Epoch 24, CIFAR-10 Batch 3:  COST : 1.03063e+09  ACCURACY : 0.5932\n",
      "Epoch 24, CIFAR-10 Batch 4:  COST : 1.18162e+09  ACCURACY : 0.5948\n",
      "Epoch 24, CIFAR-10 Batch 5:  COST : 1.22579e+09  ACCURACY : 0.6034\n",
      "Epoch 25, CIFAR-10 Batch 1:  COST : 1.16196e+09  ACCURACY : 0.5952\n",
      "Epoch 25, CIFAR-10 Batch 2:  COST : 1.37566e+09  ACCURACY : 0.5998\n",
      "Epoch 25, CIFAR-10 Batch 3:  COST : 1.01182e+09  ACCURACY : 0.5996\n"
     ]
    },
    {
     "name": "stdout",
     "output_type": "stream",
     "text": [
      "Epoch 25, CIFAR-10 Batch 4:  COST : 1.05446e+09  ACCURACY : 0.597\n",
      "Epoch 25, CIFAR-10 Batch 5:  COST : 1.21834e+09  ACCURACY : 0.5922\n",
      "Epoch 26, CIFAR-10 Batch 1:  COST : 1.04555e+09  ACCURACY : 0.591\n",
      "Epoch 26, CIFAR-10 Batch 2:  COST : 1.2456e+09  ACCURACY : 0.596\n",
      "Epoch 26, CIFAR-10 Batch 3:  COST : 9.23252e+08  ACCURACY : 0.5946\n",
      "Epoch 26, CIFAR-10 Batch 4:  COST : 9.79593e+08  ACCURACY : 0.5996\n",
      "Epoch 26, CIFAR-10 Batch 5:  COST : 1.14243e+09  ACCURACY : 0.5966\n",
      "Epoch 27, CIFAR-10 Batch 1:  COST : 9.90309e+08  ACCURACY : 0.5928\n",
      "Epoch 27, CIFAR-10 Batch 2:  COST : 1.18647e+09  ACCURACY : 0.6024\n",
      "Epoch 27, CIFAR-10 Batch 3:  COST : 8.81533e+08  ACCURACY : 0.5852\n",
      "Epoch 27, CIFAR-10 Batch 4:  COST : 9.82246e+08  ACCURACY : 0.5982\n",
      "Epoch 27, CIFAR-10 Batch 5:  COST : 9.45535e+08  ACCURACY : 0.5956\n",
      "Epoch 28, CIFAR-10 Batch 1:  COST : 8.87375e+08  ACCURACY : 0.6008\n",
      "Epoch 28, CIFAR-10 Batch 2:  COST : 1.02753e+09  ACCURACY : 0.6012\n",
      "Epoch 28, CIFAR-10 Batch 3:  COST : 8.23533e+08  ACCURACY : 0.5972\n",
      "Epoch 28, CIFAR-10 Batch 4:  COST : 8.26515e+08  ACCURACY : 0.6002\n",
      "Epoch 28, CIFAR-10 Batch 5:  COST : 9.05122e+08  ACCURACY : 0.6072\n",
      "Epoch 29, CIFAR-10 Batch 1:  COST : 8.03358e+08  ACCURACY : 0.6026\n",
      "Epoch 29, CIFAR-10 Batch 2:  COST : 9.64446e+08  ACCURACY : 0.6068\n",
      "Epoch 29, CIFAR-10 Batch 3:  COST : 7.88639e+08  ACCURACY : 0.5966\n",
      "Epoch 29, CIFAR-10 Batch 4:  COST : 7.44555e+08  ACCURACY : 0.605\n",
      "Epoch 29, CIFAR-10 Batch 5:  COST : 7.89557e+08  ACCURACY : 0.603\n",
      "Epoch 30, CIFAR-10 Batch 1:  COST : 7.53971e+08  ACCURACY : 0.6048\n",
      "Epoch 30, CIFAR-10 Batch 2:  COST : 8.88104e+08  ACCURACY : 0.598\n",
      "Epoch 30, CIFAR-10 Batch 3:  COST : 6.611e+08  ACCURACY : 0.6016\n",
      "Epoch 30, CIFAR-10 Batch 4:  COST : 6.6177e+08  ACCURACY : 0.604\n",
      "Epoch 30, CIFAR-10 Batch 5:  COST : 7.0812e+08  ACCURACY : 0.6074\n"
     ]
    }
   ],
   "source": [
    "\"\"\"\n",
    "DON'T MODIFY ANYTHING IN THIS CELL\n",
    "\"\"\"\n",
    "save_model_path = './image_classification'\n",
    "\n",
    "print('Training...')\n",
    "with tf.Session() as sess:\n",
    "    # Initializing the variables\n",
    "    sess.run(tf.global_variables_initializer())\n",
    "    \n",
    "    # Training cycle\n",
    "    for epoch in range(epochs):\n",
    "        # Loop over all batches\n",
    "        n_batches = 5\n",
    "        for batch_i in range(1, n_batches + 1):\n",
    "            for batch_features, batch_labels in helper.load_preprocess_training_batch(batch_i, batch_size):\n",
    "                train_neural_network(sess, optimizer, keep_probability, batch_features, batch_labels)\n",
    "            print('Epoch {:>2}, CIFAR-10 Batch {}:  '.format(epoch + 1, batch_i), end='')\n",
    "            print_stats(sess, batch_features, batch_labels, cost, accuracy)\n",
    "            \n",
    "    # Save Model\n",
    "    saver = tf.train.Saver()\n",
    "    save_path = saver.save(sess, save_model_path)"
   ]
  },
  {
   "cell_type": "markdown",
   "metadata": {},
   "source": [
    "# Checkpoint\n",
    "The model has been saved to disk.\n",
    "## Test Model\n",
    "Test your model against the test dataset.  This will be your final accuracy. You should have an accuracy greater than 50%. If you don't, keep tweaking the model architecture and parameters."
   ]
  },
  {
   "cell_type": "code",
   "execution_count": 21,
   "metadata": {},
   "outputs": [
    {
     "name": "stdout",
     "output_type": "stream",
     "text": [
      "INFO:tensorflow:Restoring parameters from ./image_classification\n",
      "Testing Accuracy: 0.6050000190734863\n",
      "\n"
     ]
    },
    {
     "data": {
      "image/png": "[encoded data removed]",
      "text/plain": [
       "<matplotlib.figure.Figure at 0x7f248ba377f0>"
      ]
     },
     "metadata": {
      "image/png": {
       "height": 319,
       "width": 349
      }
     },
     "output_type": "display_data"
    }
   ],
   "source": [
    "\"\"\"\n",
    "DON'T MODIFY ANYTHING IN THIS CELL\n",
    "\"\"\"\n",
    "%matplotlib inline\n",
    "%config InlineBackend.figure_format = 'retina'\n",
    "\n",
    "import tensorflow as tf\n",
    "import pickle\n",
    "import helper\n",
    "import random\n",
    "\n",
    "# Set batch size if not already set\n",
    "try:\n",
    "    if batch_size:\n",
    "        pass\n",
    "except NameError:\n",
    "    batch_size = 64\n",
    "\n",
    "save_model_path = './image_classification'\n",
    "n_samples = 4\n",
    "top_n_predictions = 3\n",
    "\n",
    "def test_model():\n",
    "    \"\"\"\n",
    "    Test the saved model against the test dataset\n",
    "    \"\"\"\n",
    "\n",
    "    test_features, test_labels = pickle.load(open('preprocess_test.p', mode='rb'))\n",
    "    loaded_graph = tf.Graph()\n",
    "\n",
    "    with tf.Session(graph=loaded_graph) as sess:\n",
    "        # Load model\n",
    "        loader = tf.train.import_meta_graph(save_model_path + '.meta')\n",
    "        loader.restore(sess, save_model_path)\n",
    "\n",
    "        # Get Tensors from loaded model\n",
    "        loaded_x = loaded_graph.get_tensor_by_name('x:0')\n",
    "        loaded_y = loaded_graph.get_tensor_by_name('y:0')\n",
    "        loaded_keep_prob = loaded_graph.get_tensor_by_name('keep_prob:0')\n",
    "        loaded_logits = loaded_graph.get_tensor_by_name('logits:0')\n",
    "        loaded_acc = loaded_graph.get_tensor_by_name('accuracy:0')\n",
    "        \n",
    "        # Get accuracy in batches for memory limitations\n",
    "        test_batch_acc_total = 0\n",
    "        test_batch_count = 0\n",
    "        \n",
    "        for test_feature_batch, test_label_batch in helper.batch_features_labels(test_features, test_labels, batch_size):\n",
    "            test_batch_acc_total += sess.run(\n",
    "                loaded_acc,\n",
    "                feed_dict={loaded_x: test_feature_batch, loaded_y: test_label_batch, loaded_keep_prob: 1.0})\n",
    "            test_batch_count += 1\n",
    "\n",
    "        print('Testing Accuracy: {}\\n'.format(test_batch_acc_total/test_batch_count))\n",
    "\n",
    "        # Print Random Samples\n",
    "        random_test_features, random_test_labels = tuple(zip(*random.sample(list(zip(test_features, test_labels)), n_samples)))\n",
    "        random_test_predictions = sess.run(\n",
    "            tf.nn.top_k(tf.nn.softmax(loaded_logits), top_n_predictions),\n",
    "            feed_dict={loaded_x: random_test_features, loaded_y: random_test_labels, loaded_keep_prob: 1.0})\n",
    "        helper.display_image_predictions(random_test_features, random_test_labels, random_test_predictions)\n",
    "\n",
    "\n",
    "test_model()"
   ]
  },
  {
   "cell_type": "markdown",
   "metadata": {},
   "source": [
    "## Why 50-80% Accuracy?\n",
    "You might be wondering why you can't get an accuracy any higher. First things first, 50% isn't bad for a simple CNN.  Pure guessing would get you 10% accuracy. However, you might notice people are getting scores [well above 80%](http://rodrigob.github.io/are_we_there_yet/build/classification_datasets_results.html#43494641522d3130).  That's because we haven't taught you all there is to know about neural networks. We still need to cover a few more techniques.\n",
    "## Submitting This Project\n",
    "When submitting this project, make sure to run all the cells before saving the notebook.  Save the notebook file as \"dlnd_image_classification.ipynb\" and save it as a HTML file under \"File\" -> \"Download as\".  Include the \"helper.py\" and \"problem_unittests.py\" files in your submission."
   ]
  }
 ],
 "metadata": {
  "kernelspec": {
   "display_name": "Python 3",
   "language": "python",
   "name": "python3"
  },
  "language_info": {
   "codemirror_mode": {
    "name": "ipython",
    "version": 3
   },
   "file_extension": ".py",
   "mimetype": "text/x-python",
   "name": "python",
   "nbconvert_exporter": "python",
   "pygments_lexer": "ipython3",
   "version": "3.5.3"
  }
 },
 "nbformat": 4,
 "nbformat_minor": 1
}
